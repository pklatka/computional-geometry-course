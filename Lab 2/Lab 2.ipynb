{
 "cells": [
  {
   "cell_type": "markdown",
   "metadata": {
    "collapsed": true
   },
   "source": [
    "# Laboratorium nr 2"
   ]
  },
  {
   "cell_type": "markdown",
   "metadata": {},
   "source": [
    "## Konfiguracja"
   ]
  },
  {
   "cell_type": "markdown",
   "metadata": {},
   "source": [
    "\n",
    "Poniższe narzędzie zostało zmodyfikowane, tak aby można było z niego korzystać w nowszych IDE, które nie wspierają `%matplotlib notebook`.\n",
    "Aby korzystać z `%matplotlib widget` należy doinstalować pakiet `ipympl` np. za pomocą polecenia `pip install ipympl`. Jeżeli po zainstalowaniu będą występować błędy, należy korzystać z backendu `notebook`.\n",
    "\n",
    "Wykorzystywane biblioteki:\n",
    "- matplotlib\n",
    "- numpy\n",
    "- ipympl\n",
    "\n",
    "Nowe funkcje:\n",
    "- Dodanie do konstruktora klasy Scene argumentu `title`, który pozwala na ustawienie tytułu danej sceny\n",
    "- Dodanie do konstruktora klasy Plot argumentu `title`, który pozwala na ustawienie tytułu wykresu / okna widżetu\n"
   ]
  },
  {
   "cell_type": "code",
   "execution_count": null,
   "metadata": {},
   "outputs": [],
   "source": [
    "# Wybór backendu matplotlib\n",
    "# %matplotlib notebook\n",
    "%matplotlib widget\n",
    "\n",
    "# Narzędzie jest oparte o kilka zewnętrznych bibliotek, które potrzebujemy najpierw zaimportować.\n",
    "import numpy as np\n",
    "import matplotlib.pyplot as plt\n",
    "import matplotlib.collections as mcoll\n",
    "import matplotlib.colors as mcolors\n",
    "from matplotlib.widgets import Button\n",
    "import json as js\n",
    "\n",
    "# Parametr określający jak blisko (w odsetku całego widocznego zakresu) punktu początkowego \n",
    "# wielokąta musimy kliknąć, aby go zamknąć.\n",
    "TOLERANCE = 0.15\n",
    "\n",
    "def dist(point1, point2):\n",
    "    return np.sqrt(np.power(point1[0] - point2[0], 2) + np.power(point1[1] - point2[1], 2))\n",
    "\n",
    "# Klasa ta trzyma obecny stan wykresu oraz posiada metody, które mają zostać wykonane\n",
    "# po naciśnięciu przycisków.\n",
    "class _Button_callback(object):\n",
    "    def __init__(self, scenes):\n",
    "        self.i = 0\n",
    "        self.scenes = scenes\n",
    "        self.adding_points = False\n",
    "        self.added_points = []\n",
    "        self.adding_lines = False\n",
    "        self.added_lines = []\n",
    "        self.adding_rects = False\n",
    "        self.added_rects = []\n",
    "        # ADDED: save scene title\n",
    "        self.scene_title = self.scenes[0].title if len(self.scenes) and self.scenes[0].title else \"\"\n",
    "\n",
    "    def set_axes(self, ax):\n",
    "        self.ax = ax\n",
    "        \n",
    "    # Metoda ta obsługuje logikę przejścia do następnej sceny.\n",
    "    def next(self, event):\n",
    "        self.i = (self.i + 1) % len(self.scenes)\n",
    "        # ADDED: Change scene title\n",
    "        self.scene_title = self.scenes[self.i].title\n",
    "        self.draw(autoscaling = True)\n",
    "\n",
    "    # Metoda ta obsługuje logikę powrotu do poprzedniej sceny.\n",
    "    def prev(self, event):\n",
    "        self.i = (self.i - 1) % len(self.scenes)\n",
    "        # ADDED: Change scene title\n",
    "        self.scene_title = self.scenes[self.i].title\n",
    "        self.draw(autoscaling = True)\n",
    "        \n",
    "    # Metoda ta aktywuje funkcję rysowania punktów wyłączając równocześnie rysowanie \n",
    "    # odcinków i wielokątów.\n",
    "    def add_point(self, event):\n",
    "        self.adding_points = not self.adding_points\n",
    "        self.new_line_point = None\n",
    "        if self.adding_points:\n",
    "            self.adding_lines = False\n",
    "            self.adding_rects = False\n",
    "            self.added_points.append(PointsCollection([]))\n",
    "            \n",
    "    # Metoda ta aktywuje funkcję rysowania odcinków wyłączając równocześnie\n",
    "    # rysowanie punktów i wielokątów.     \n",
    "    def add_line(self, event):   \n",
    "        self.adding_lines = not self.adding_lines\n",
    "        self.new_line_point = None\n",
    "        if self.adding_lines:\n",
    "            self.adding_points = False\n",
    "            self.adding_rects = False\n",
    "            self.added_lines.append(LinesCollection([]))\n",
    "\n",
    "    # Metoda ta aktywuje funkcję rysowania wielokątów wyłączając równocześnie\n",
    "    # rysowanie punktów i odcinków.\n",
    "    def add_rect(self, event):\n",
    "        self.adding_rects = not self.adding_rects\n",
    "        self.new_line_point = None\n",
    "        if self.adding_rects:\n",
    "            self.adding_points = False\n",
    "            self.adding_lines = False\n",
    "            self.new_rect()\n",
    "    \n",
    "    def new_rect(self):\n",
    "        self.added_rects.append(LinesCollection([]))\n",
    "        self.rect_points = []\n",
    "        \n",
    "    # Metoda odpowiedzialna za właściwą logikę rysowania nowych elementów. W\n",
    "    # zależności od włączonego trybu dodaje nowe punkty, początek, koniec odcinka\n",
    "    # lub poszczególne wierzchołki wielokąta. Istnieje ciekawa logika sprawdzania\n",
    "    # czy dany punkt jest domykający dla danego wielokąta. Polega ona na tym, że\n",
    "    # sprawdzamy czy odległość nowego punktu od początkowego jest większa od\n",
    "    # średniej długości zakresu pomnożonej razy parametr TOLERANCE.   \n",
    "    def on_click(self, event):\n",
    "        if event.inaxes != self.ax:\n",
    "            return\n",
    "        new_point = (event.xdata, event.ydata)\n",
    "        if self.adding_points:\n",
    "            self.added_points[-1].add_points([new_point])\n",
    "            self.draw(autoscaling = False)\n",
    "        elif self.adding_lines:\n",
    "            if self.new_line_point is not None:\n",
    "                self.added_lines[-1].add([self.new_line_point, new_point])\n",
    "                self.new_line_point = None\n",
    "                self.draw(autoscaling = False)\n",
    "            else:\n",
    "                self.new_line_point = new_point\n",
    "        elif self.adding_rects:\n",
    "            if len(self.rect_points) == 0:\n",
    "                self.rect_points.append(new_point)\n",
    "            elif len(self.rect_points) == 1:\n",
    "                self.added_rects[-1].add([self.rect_points[-1], new_point])\n",
    "                self.rect_points.append(new_point)\n",
    "                self.draw(autoscaling = False)\n",
    "            elif len(self.rect_points) > 1:\n",
    "                if dist(self.rect_points[0], new_point) < (np.mean([self.ax.get_xlim(), self.ax.get_ylim()])*TOLERANCE):\n",
    "                    self.added_rects[-1].add([self.rect_points[-1], self.rect_points[0]])\n",
    "                    self.new_rect()\n",
    "                else:    \n",
    "                    self.added_rects[-1].add([self.rect_points[-1], new_point])\n",
    "                    self.rect_points.append(new_point)\n",
    "                self.draw(autoscaling = False)\n",
    "    \n",
    "    # Metoda odpowiedzialna za narysowanie całego wykresu. Warto zauważyć,\n",
    "    # że zaczyna się ona od wyczyszczenia jego wcześniejszego stanu. Istnieje w\n",
    "    # niej nietrywialna logika zarządzania zakresem wykresu, tak żeby, w zależności\n",
    "    # od ustawionego parametru autoscaling, uniknąć sytuacji, kiedy dodawanie\n",
    "    # nowych punktów przy brzegu obecnie widzianego zakresu powoduje niekorzystne\n",
    "    # przeskalowanie.\n",
    "    def draw(self, autoscaling = True):\n",
    "        if not autoscaling:\n",
    "            xlim = self.ax.get_xlim()\n",
    "            ylim = self.ax.get_ylim()\n",
    "        self.ax.clear()\n",
    "        for collection in (self.scenes[self.i].points + self.added_points):\n",
    "            if len(collection.points) > 0:\n",
    "                self.ax.scatter(*zip(*(np.array(collection.points))), **collection.kwargs)\n",
    "        for collection in (self.scenes[self.i].lines + self.added_lines + self.added_rects):\n",
    "            self.ax.add_collection(collection.get_collection())\n",
    "        self.ax.autoscale(autoscaling)\n",
    "        if not autoscaling:\n",
    "            self.ax.set_xlim(xlim)\n",
    "            self.ax.set_ylim(ylim)\n",
    "            \n",
    "        # ADDED: Add scene title\n",
    "        fig = plt.gcf() # Get current window\n",
    "        fig.suptitle(self.scene_title)\n",
    "        \n",
    "        plt.draw()\n"
   ]
  },
  {
   "cell_type": "markdown",
   "metadata": {},
   "source": [
    "### Interfejsy\n",
    "\n",
    "[Dostępne kolory](https://matplotlib.org/3.1.1/gallery/color/named_colors.html)\n",
    "\n",
    "[Dostępne znaczniki punktów](https://matplotlib.org/3.1.1/api/markers_api.html#module-matplotlib.markers)"
   ]
  },
  {
   "cell_type": "code",
   "execution_count": null,
   "metadata": {},
   "outputs": [],
   "source": [
    "# Klasa Scene odpowiada za przechowywanie elementów, które mają być\n",
    "# wyświetlane równocześnie. Konkretnie jest to lista PointsCollection i\n",
    "# LinesCollection.\n",
    "class Scene:\n",
    "    def __init__(self, points=[], lines=[], title=\"\"):\n",
    "        self.points=points\n",
    "        self.lines=lines\n",
    "        # ADDED: Scene title\n",
    "        self.title = '\\n'+title if title != \"\" else \"\"\n",
    "\n",
    "# Klasa PointsCollection gromadzi w sobie punkty jednego typu, a więc takie,\n",
    "# które zostaną narysowane w takim samym kolorze i stylu. W konstruktorze\n",
    "# przyjmuje listę punktów rozumianych jako pary współrzędnych (x, y). Parametr\n",
    "# kwargs jest przekazywany do wywołania funkcji z biblioteki MatPlotLib przez\n",
    "# co użytkownik może podawać wszystkie parametry tam zaproponowane.        \n",
    "class PointsCollection:\n",
    "    def __init__(self, points, **kwargs):\n",
    "        self.points = points\n",
    "        self.kwargs = kwargs\n",
    "    \n",
    "    def add_points(self, points):\n",
    "        self.points = self.points + points\n",
    "\n",
    "# Klasa LinesCollection podobnie jak jej punktowy odpowiednik gromadzi\n",
    "# odcinki tego samego typu. Tworząc ją należy podać listę linii, gdzie każda\n",
    "# z nich jest dwuelementową listą punktów – par (x, y). Parametr kwargs jest\n",
    "# przekazywany do wywołania funkcji z biblioteki MatPlotLib przez co użytkownik\n",
    "# może podawać wszystkie parametry tam zaproponowane.\n",
    "class LinesCollection:\n",
    "    def __init__(self, lines, **kwargs):\n",
    "        self.lines = lines\n",
    "        self.kwargs = kwargs\n",
    "        \n",
    "    def add(self, line):\n",
    "        self.lines.append(line)\n",
    "        \n",
    "    def get_collection(self):\n",
    "        return mcoll.LineCollection(self.lines, **self.kwargs)\n",
    "\n",
    "# Klasa Plot jest najważniejszą klasą w całym programie, ponieważ agreguje\n",
    "# wszystkie przygotowane sceny, odpowiada za stworzenie wykresu i przechowuje\n",
    "# referencje na przyciski, dzięki czemu nie będą one skasowane podczas tzw.\n",
    "# garbage collectingu.\n",
    "class Plot:\n",
    "    def __init__(self, scenes = [Scene()], points = [], lines = [], json = None, title=\"\"):\n",
    "        # ADDED: plot title\n",
    "        self.plot_title = title\n",
    "        if json is None:\n",
    "            self.scenes = scenes\n",
    "            if points or lines:\n",
    "                self.scenes[0].points = points\n",
    "                self.scenes[0].lines = lines\n",
    "        else:\n",
    "            self.scenes = [Scene([PointsCollection(pointsCol) for pointsCol in scene[\"points\"]], \n",
    "                                 [LinesCollection(linesCol) for linesCol in scene[\"lines\"]]) \n",
    "                           for scene in js.loads(json)]\n",
    "    \n",
    "    # Ta metoda ma szczególne znaczenie, ponieważ konfiguruje przyciski i\n",
    "    # wykonuje tym samym dość skomplikowaną logikę. Zauważmy, że konfigurując każdy\n",
    "    # przycisk podajemy referencję na metodę obiektu _Button_callback, która\n",
    "    # zostanie wykonana w momencie naciśnięcia.\n",
    "    def __configure_buttons(self):\n",
    "        plt.subplots_adjust(bottom=0.2)\n",
    "        ax_prev = plt.axes([0.6, 0.05, 0.15, 0.075])\n",
    "        ax_next = plt.axes([0.76, 0.05, 0.15, 0.075])\n",
    "        ax_add_point = plt.axes([0.44, 0.05, 0.15, 0.075])\n",
    "        ax_add_line = plt.axes([0.28, 0.05, 0.15, 0.075])\n",
    "        ax_add_rect = plt.axes([0.12, 0.05, 0.15, 0.075])\n",
    "        b_next = Button(ax_next, 'Następny')\n",
    "        b_next.on_clicked(self.callback.next)\n",
    "        b_prev = Button(ax_prev, 'Poprzedni')\n",
    "        b_prev.on_clicked(self.callback.prev)\n",
    "        b_add_point = Button(ax_add_point, 'Dodaj punkt')\n",
    "        b_add_point.on_clicked(self.callback.add_point)\n",
    "        b_add_line = Button(ax_add_line, 'Dodaj linię')\n",
    "        b_add_line.on_clicked(self.callback.add_line)\n",
    "        b_add_rect = Button(ax_add_rect, 'Dodaj figurę')\n",
    "        b_add_rect.on_clicked(self.callback.add_rect)\n",
    "        return [b_prev, b_next, b_add_point, b_add_line, b_add_rect]\n",
    "    \n",
    "    def add_scene(self, scene):\n",
    "        self.scenes.append(scene)\n",
    "    \n",
    "    def add_scenes(self, scenes):\n",
    "        self.scenes = self.scenes + scenes\n",
    "\n",
    "    # Metoda toJson() odpowiada za zapisanie stanu obiektu do ciągu znaków w\n",
    "    # formacie JSON.\n",
    "    def toJson(self):\n",
    "        return js.dumps([{\"points\": [np.array(pointCol.points).tolist() for pointCol in scene.points], \n",
    "                          \"lines\":[linesCol.lines for linesCol in scene.lines]} \n",
    "                         for scene in self.scenes])    \n",
    "    \n",
    "    # Metoda ta zwraca punkty dodane w trakcie rysowania.\n",
    "    def get_added_points(self):\n",
    "        if self.callback:\n",
    "            return self.callback.added_points\n",
    "        else:\n",
    "            return None\n",
    "    \n",
    "    # Metoda ta zwraca odcinki dodane w trakcie rysowania.\n",
    "    def get_added_lines(self):\n",
    "        if self.callback:\n",
    "            return self.callback.added_lines\n",
    "        else:\n",
    "            return None\n",
    "        \n",
    "    # Metoda ta zwraca wielokąty dodane w trakcie rysowania.\n",
    "    def get_added_figure(self):\n",
    "        if self.callback:\n",
    "            return self.callback.added_rects\n",
    "        else:\n",
    "            return None\n",
    "    \n",
    "    # Metoda ta zwraca punkty, odcinki i wielokąty dodane w trakcie rysowania\n",
    "    # jako scenę.\n",
    "    def get_added_elements(self):\n",
    "        if self.callback:\n",
    "            return Scene(self.callback.added_points, self.callback.added_lines+self.callback.added_rects)\n",
    "        else:\n",
    "            return None\n",
    "    \n",
    "    # Główna metoda inicjalizująca wyświetlanie wykresu.\n",
    "    def draw(self):\n",
    "        plt.close()\n",
    "        # ADDED: plot title\n",
    "        fig = plt.figure(num=self.plot_title)\n",
    "        self.callback = _Button_callback(self.scenes)\n",
    "        self.widgets = self.__configure_buttons()\n",
    "        ax = plt.axes(autoscale_on = False)\n",
    "        self.callback.set_axes(ax)\n",
    "        fig.canvas.mpl_connect('button_press_event', self.callback.on_click)\n",
    "        plt.show()\n",
    "        self.callback.draw()\n",
    "        "
   ]
  },
  {
   "cell_type": "markdown",
   "metadata": {},
   "source": [
    "### Przykłady użycia"
   ]
  },
  {
   "cell_type": "markdown",
   "metadata": {},
   "source": [
    "##### Proste rysowanie\n",
    "\n",
    "Rysowanie prostego rysunku złożonego ze statycznych punktów i odcinków jest stosunkowo proste. Należy utworzyć zmienną z obiektem `Plot`, który przyjmuje w konstruktorze listę obiektów `PointsCollection` jako parametr `points` oraz listę `LinesCollection` jako parametr `lines`. Następnie należy wywołać jego metodę `draw()`.\n",
    "\n",
    "```python\n",
    "plot = Plot(points=[PointsCollection([(1, 2), (3, 1.5), (2, -1)]),\n",
    "               PointsCollection([(5, -2), (2, 2), (-2, -1)], color='green', marker = \"^\")],\n",
    "            lines=[LinesCollection([[(1,2),(2,3)], [(0,1),(1,0)]])])\n",
    "plot.draw()     \n",
    "```"
   ]
  },
  {
   "cell_type": "markdown",
   "metadata": {},
   "source": [
    "##### Rysunek dynamiczny\n",
    "\n",
    "To narzędzie pozwala na wizualizację \"rysunków dynamicznych\", a więc takich, które składają się z wielu różnych obrazów. Może to być przydatne np. podczas wizualizacji kolejnych kroków danego algorytmu. Poszczególne klatki określane są jako obiekty `Scene`, które przyjmują listę `PointsCollection` oraz listę `LinesCollection` w swoim konstruktorze. Obiekt `Plot` przyjmuje w parametrze konstruktora `scenes` właśnie listę takich scen.\n",
    "\n",
    "Na rysunku przyciski `Następny` i `Poprzedni` służą do nawigacji pomiędzy nimi.\n",
    "\n",
    "```python\n",
    "scenes=[Scene([PointsCollection([(1, 2), (3, 1.5), (2, -1)]), \n",
    "               PointsCollection([(5, -2), (2, 2), (-2, -1)], color='green', marker = \"^\")], \n",
    "              [LinesCollection([[(1,2),(2,3)], [(0,1),(1,0)]])], \"Scene 1\"), \n",
    "        Scene([PointsCollection([(1, 2), (3, 1.5), (2, -1)], color='red'), \n",
    "               PointsCollection([(5, -2), (2, 2), (-2, 1)], color='black')], \n",
    "              [LinesCollection([[(-1,2),(-2,3)], [(0,-1),(-1,0)]])],\"Scene 2\")]\n",
    "\n",
    "plot=Plot(scenes = scenes)\n",
    "plot.draw()\n",
    "```"
   ]
  },
  {
   "cell_type": "markdown",
   "metadata": {},
   "source": [
    "##### Zapis i odczyt z pliku\n",
    "\n",
    "Klasa Plot posiada metodę `toJson()`, która zwraca string zawierający listę scen w formacie JSON. Taki string można normalnie zapisać do pliku stosując normalne sposoby dostępne w Pythonie. Wczytanie listy scen z pliku dokonuje się poprzez podanie parametru `json` w kostruktorze `Plot`.\n",
    "\n",
    "```python\n",
    "scenes=[Scene([PointsCollection([(-2, -1)], color='green', marker = \"^\")], \n",
    "              [LinesCollection([[(1,2),(2,3)], [(0,1),(1,0)]])]), \n",
    "        Scene([PointsCollection([(1, 2), (3, 1.5)], color='red'), \n",
    "               PointsCollection([(5, -2)], color='black')])]\n",
    "plot = Plot(scenes)\n",
    "\n",
    "with open('somefile.json', 'w') as file:\n",
    "    file.write(plot.toJson())\n",
    "    \n",
    "#somefile.json: [{\"points\": [[[-2, -1]]], \"lines\": [[[[1, 2], [2, 3]], [[0, 1], [1, 0]]]]}, {\"points\": [[[1.0, 2.0], [3.0, 1.5]], [[5, -2]]], \"lines\": []}]\n",
    "    \n",
    "with open('somefile.json', 'r') as file:\n",
    "    json = file.read()\n",
    "    \n",
    "plot2 = Plot(json=json)\n",
    "plot2.draw()\n",
    "```"
   ]
  },
  {
   "cell_type": "markdown",
   "metadata": {},
   "source": [
    "##### Operowanie na dodanych punktach\n",
    "\n",
    "Możemy bardzo łatwo rysować nowe punkty i linie. Aby je później wykorzystać sugerowanym sposobem jest utworzenie nowej komórki, w której utworzymy nowy `Plot` i skorzystamy z metod `get_added_points()` i `get_added_points()` lub `get_added_elements()` (zwraca scenę) z pierwszego `Plot`u.\n",
    "\n",
    "```python \n",
    "#Dodaj tu punkty, figury i/lub odcinki!\n",
    "plot1 = Plot(points=[PointsCollection([(-2,-1),(5,3)], color='red')])\n",
    "plot1.draw()\n",
    "\n",
    "plot2 = Plot([plot1.get_added_elements()])\n",
    "plot2.draw()\n",
    "```"
   ]
  },
  {
   "cell_type": "markdown",
   "metadata": {},
   "source": [
    "## Generacja zbiorów punktów"
   ]
  },
  {
   "cell_type": "markdown",
   "metadata": {},
   "source": [
    "### Zbiór danych A\n",
    "Zbiór zawierający 100 losowo wygenerowanych punktów o współrzędnych z przedziału $[-100, 100]$"
   ]
  },
  {
   "cell_type": "code",
   "execution_count": null,
   "metadata": {},
   "outputs": [],
   "source": [
    "def generate_dataset_a(DATASET_A_RANGE=(-100,100),DATASET_A_SIZE=100):\n",
    "    dataset_a = np.random.uniform(DATASET_A_RANGE[0],DATASET_A_RANGE[1], size=(DATASET_A_SIZE,2))\n",
    "    return PointsCollection(dataset_a)\n",
    "\n",
    "default_dataset_a = generate_dataset_a()\n",
    "plot = Plot(points=[default_dataset_a], title=\"Zbiór danych A\")\n",
    "plot.draw()"
   ]
  },
  {
   "cell_type": "markdown",
   "metadata": {},
   "source": [
    "### Zbiór danych B\n",
    "Zbiór zawierający 100 losowo wygenerowanych punktów leżących na okręgu o środku $(0,0)$ i promieniu $R=10$"
   ]
  },
  {
   "cell_type": "code",
   "execution_count": null,
   "metadata": {},
   "outputs": [],
   "source": [
    "def generate_dataset_b(DATASET_B_CIRCLE_CENTER=(0,0),DATASET_B_SIZE=100,DATASET_B_CIRCLE_RADIUS=10):\n",
    "    angle = np.random.uniform(0,2*np.pi, size=DATASET_B_SIZE)\n",
    "\n",
    "    dataset_b = []\n",
    "    for i in range(DATASET_B_SIZE):\n",
    "        dataset_b.append((DATASET_B_CIRCLE_CENTER[0] + DATASET_B_CIRCLE_RADIUS * np.sin(angle[i]),DATASET_B_CIRCLE_CENTER[1] + DATASET_B_CIRCLE_RADIUS * np.cos(angle[i])))\n",
    "\n",
    "    return PointsCollection(dataset_b)\n",
    "    \n",
    "default_dataset_b = generate_dataset_b()\n",
    "plot = Plot(points=[default_dataset_b], title=\"Zbiór danych B\")\n",
    "plot.draw()"
   ]
  },
  {
   "cell_type": "markdown",
   "metadata": {},
   "source": [
    "### Zbiór danych C\n",
    "Zbiór zawierający $100$ losowo wygenerowanych punktów leżących na bokach prostokąta o wierzchołkach $(-10, 10)$, $(-10,-10)$, $(10,-10)$, $(10,10)$"
   ]
  },
  {
   "cell_type": "code",
   "execution_count": null,
   "metadata": {},
   "outputs": [],
   "source": [
    "def generate_dataset_c(DATASET_C_RECTANGLE_VERTEX= [(-10,-10), (10,-10),(10,10),(-10,10)] ,DATASET_C_SIZE=100):\n",
    "    # DATASET_C_RECTANGLE_VERTEX - sorted anticlockwise and starting from bottom left list of points\n",
    "\n",
    "    # Let's create a segment in range (0, sum(sides)). Then we divide this segment accordingly to side lengths.\n",
    "\n",
    "    first_side = DATASET_C_RECTANGLE_VERTEX[1][0] - DATASET_C_RECTANGLE_VERTEX[0][0]\n",
    "    second_side = DATASET_C_RECTANGLE_VERTEX[2][1] - DATASET_C_RECTANGLE_VERTEX[1][1]\n",
    "\n",
    "    # Format: [a, b]\n",
    "    rectangle_sides = [[0,first_side]]\n",
    "    rectangle_sides.append([rectangle_sides[-1][1], rectangle_sides[-1][1] + second_side])\n",
    "    rectangle_sides.append([rectangle_sides[-1][1], rectangle_sides[-1][1] + first_side])\n",
    "    rectangle_sides.append([rectangle_sides[-1][1], rectangle_sides[-1][1] + second_side])\n",
    "\n",
    "    points = np.random.uniform(rectangle_sides[0][0], rectangle_sides[-1][1], size=DATASET_C_SIZE)\n",
    "\n",
    "    dataset_c = []\n",
    "\n",
    "    for point in points:\n",
    "        for i in range(4):\n",
    "            if rectangle_sides[i][0] <= point < rectangle_sides[i][1]:\n",
    "                if i==0:\n",
    "                    substract = rectangle_sides[i][0] - DATASET_C_RECTANGLE_VERTEX[i][0]\n",
    "                    dataset_c.append((point - substract, DATASET_C_RECTANGLE_VERTEX[i][1]))\n",
    "                elif i==1:\n",
    "                    substract = rectangle_sides[i][0] - DATASET_C_RECTANGLE_VERTEX[i][1]\n",
    "                    dataset_c.append((DATASET_C_RECTANGLE_VERTEX[i][0],point - substract))\n",
    "                elif i==2:\n",
    "                    substract = rectangle_sides[i][0] - DATASET_C_RECTANGLE_VERTEX[i+1][0]\n",
    "                    dataset_c.append((point - substract, DATASET_C_RECTANGLE_VERTEX[i][1]))       \n",
    "                else:\n",
    "                    substract = rectangle_sides[i][0] - DATASET_C_RECTANGLE_VERTEX[0][1]\n",
    "                    dataset_c.append((DATASET_C_RECTANGLE_VERTEX[i][0],point - substract))\n",
    "\n",
    "    return PointsCollection(dataset_c)\n",
    "    \n",
    "default_dataset_c = generate_dataset_c()\n",
    "plot = Plot(points=[default_dataset_c], title=\"Zbiór danych C\")\n",
    "plot.draw()"
   ]
  },
  {
   "cell_type": "markdown",
   "metadata": {},
   "source": [
    "### Zbiór danych D\n",
    "Zbiór zawierający  wierzchołki  kwadratu  $(0,  0)$,  $(10,  0)$,  $(10,  10)$,  $(0,  10)$  oraz  punkty  wygenerowane  losowo  w  sposób  następujący:  po  $25$  punktów  na  dwóch  bokach kwadratu leżących na osiach i po $20$ punktów na przekątnych kwadratu. "
   ]
  },
  {
   "cell_type": "code",
   "execution_count": null,
   "metadata": {},
   "outputs": [],
   "source": [
    "def generate_dataset_d(DATASET_D_NO_OF_SIDE_POINTS=25,DATASET_D_NO_OF_DIAGONAL_POINTS=20,DATASET_D_SQUARE_VERTEX = [(0,0), (10,0),(10,10),(0,10)]):\n",
    "    # DATASET_D_SQUARE_VERTEX - sorted anticlockwise and starting from bottom left\n",
    "\n",
    "    # Create random points for sides\n",
    "    s1, s2 = [], []\n",
    "    for _ in range(DATASET_D_NO_OF_SIDE_POINTS):\n",
    "        x1 = np.random.uniform(DATASET_D_SQUARE_VERTEX[0][0],DATASET_D_SQUARE_VERTEX[1][0])\n",
    "        x2 = np.random.uniform(DATASET_D_SQUARE_VERTEX[0][1],DATASET_D_SQUARE_VERTEX[3][1])\n",
    "        s1.append((x1,DATASET_D_SQUARE_VERTEX[0][1]))\n",
    "        s2.append((DATASET_D_SQUARE_VERTEX[0][0],x2))\n",
    "\n",
    "    d1,d2 = [], []\n",
    "\n",
    "    # Create random points for diagonals\n",
    "    for _ in range(DATASET_D_NO_OF_DIAGONAL_POINTS):\n",
    "        x1 = np.random.uniform(DATASET_D_SQUARE_VERTEX[0][0],DATASET_D_SQUARE_VERTEX[2][0])\n",
    "        x2 = np.random.uniform(DATASET_D_SQUARE_VERTEX[0][0],DATASET_D_SQUARE_VERTEX[2][0])\n",
    "        d1.append((x1,x1))\n",
    "        d2.append((x2,-x2+DATASET_D_SQUARE_VERTEX[3][1]))\n",
    "\n",
    "    dataset_d = DATASET_D_SQUARE_VERTEX.copy()\n",
    "    dataset_d.extend(s1)\n",
    "    dataset_d.extend(s2)\n",
    "    dataset_d.extend(d1)\n",
    "    dataset_d.extend(d2)\n",
    "\n",
    "    return PointsCollection(dataset_d)\n",
    "    \n",
    "default_dataset_d = generate_dataset_d()\n",
    "plot = Plot(points=[default_dataset_d], title=\"Zbiór danych D\")\n",
    "plot.draw()"
   ]
  },
  {
   "cell_type": "markdown",
   "metadata": {},
   "source": [
    "## Implementacje algorytmów do wyznaczania otoczki wypukłej"
   ]
  },
  {
   "cell_type": "markdown",
   "metadata": {},
   "source": [
    "### Funkcje pomocnicze oraz dodatkowe biblioteki"
   ]
  },
  {
   "cell_type": "code",
   "execution_count": null,
   "metadata": {},
   "outputs": [],
   "source": [
    "from functools import cmp_to_key\n",
    "from collections import deque\n",
    "from time import time, process_time\n",
    "\n",
    "def det3x3(a,b,c):\n",
    "    matrix = [[],[],[]]\n",
    "    matrix[0] = [a[0], a[1], 1]\n",
    "    matrix[1] = [b[0], b[1], 1]\n",
    "    matrix[2] = [c[0], c[1], 1]\n",
    "\n",
    "    f1 = matrix[0][0] * matrix[1][1] * matrix[2][2]\n",
    "    f2 = matrix[0][1] * matrix[1][2] * matrix[2][0]\n",
    "    f3 = matrix[1][0] * matrix[2][1] * matrix[0][2]\n",
    "    f4 = matrix[0][2] * matrix[1][1] * matrix[2][0]\n",
    "    f5 = matrix[1][2] * matrix[2][1] * matrix[0][0]\n",
    "    f6 = matrix[1][0] * matrix[0][1] * matrix[2][2]\n",
    "    return f1+f2+f3-f4-f5-f6\n",
    "\n",
    "def distance(p1,p2):\n",
    "    # Using taxicab metric (because we check points on the same ray)\n",
    "    return abs(p1[0] - p2[0]) + abs(p1[1] - p2[1])"
   ]
  },
  {
   "cell_type": "markdown",
   "metadata": {},
   "source": [
    "### Algorytm Grahama\n",
    "\n",
    "Opis algorytmu"
   ]
  },
  {
   "cell_type": "code",
   "execution_count": null,
   "metadata": {},
   "outputs": [],
   "source": [
    "def graham_algorithm(points: PointsCollection, scenes=True, filename=\"\",calculate_exec_time=True):\n",
    "    # Algorithm configuration\n",
    "    epsilon = 1e-10\n",
    "    start_time = process_time()\n",
    "\n",
    "    # ================ GRAHAM ALGORITHM ================\n",
    "\n",
    "    # Find bottom-left point\n",
    "    raw_points = points.points\n",
    "\n",
    "    min_point = (np.inf, np.inf)\n",
    "    for a,b in raw_points:\n",
    "        if b < min_point[1]:\n",
    "            min_point = (a,b)\n",
    "        elif b == min_point[1] and a < min_point[0]:\n",
    "            min_point = (a,b)\n",
    "\n",
    "\n",
    "    # Create new list (without min_point)\n",
    "    considered_points = []\n",
    "    for a,b in raw_points:\n",
    "        if a == min_point[0] and b == min_point[1]:\n",
    "            continue\n",
    "        considered_points.append((a,b))\n",
    "\n",
    "    # Sort points\n",
    "    def compare_fn(a,b):\n",
    "        nonlocal min_point\n",
    "\n",
    "        # if a > b then determinant is > 0\n",
    "        determinant = det3x3(a, b, min_point)\n",
    "        if -epsilon<=determinant<=epsilon:\n",
    "            # Compare by distance from min_point\n",
    "            d1 = distance(min_point,a)\n",
    "            d2 = distance(min_point,b)\n",
    "\n",
    "            if d1 < d2:\n",
    "                return -1\n",
    "            elif d1 > d2:\n",
    "                return 1\n",
    "            \n",
    "            return 0\n",
    "        elif determinant > epsilon:\n",
    "            return -1\n",
    "        else:\n",
    "            return 1\n",
    "\n",
    "    considered_points = sorted(considered_points,key=cmp_to_key(compare_fn))\n",
    "    considered_points.insert(0,min_point)\n",
    "\n",
    "    # First convex-hull points\n",
    "    s = deque()\n",
    "    selected_points = []\n",
    "\n",
    "    s.append(considered_points[0])\n",
    "    selected_points.append(considered_points[0])\n",
    "\n",
    "    # ================ GRAHAM ALGORITHM MODIFICATION ================\n",
    "    # Remove s[1] if nessecary (when 3 points are collinear)\n",
    "    if not (-epsilon <= det3x3(considered_points[0],considered_points[2],considered_points[1]) <= epsilon):\n",
    "        s.append(considered_points[1])\n",
    "        selected_points.append(considered_points[1])\n",
    "    # ================ END OF MODIFICATION ================\n",
    "\n",
    "    s.append(considered_points[2])\n",
    "    selected_points.append(considered_points[2])\n",
    "\n",
    "    i = 3\n",
    "    \n",
    "    # Scene configuration\n",
    "    scene_container = []\n",
    "    considered_lines = [(considered_points[0], considered_points[1]), (considered_points[1], considered_points[2])]\n",
    "    if scenes: scene_container.append(Scene(points=[points,PointsCollection(selected_points.copy(), color=\"orange\")], lines=[LinesCollection(considered_lines.copy(), color=\"green\")], title=\"Początek algorytmu Grahama\"))\n",
    "\n",
    "    while i<len(considered_points):\n",
    "        determinant = det3x3(s[-2],s[-1],considered_points[i])\n",
    "        if determinant > epsilon:\n",
    "            s.append(considered_points[i])\n",
    "            selected_points.append(s[-1])\n",
    "            i+=1\n",
    "\n",
    "            # Add scene\n",
    "            considered_lines.append((s[-2], s[-1]))\n",
    "            if scenes: scene_container.append(Scene(points=[points,PointsCollection(selected_points.copy(), color=\"orange\")], lines=[LinesCollection(considered_lines.copy(), color=\"green\")], title=\"Szukanie potencjalnych punktów otoczki\"))\n",
    "\n",
    "        # ================ GRAHAM ALGORITHM MODIFICATION ================\n",
    "        elif -epsilon <= determinant <= epsilon:\n",
    "            s.pop()\n",
    "            selected_points.pop()\n",
    "            considered_lines.pop()\n",
    "\n",
    "            s.append(considered_points[i])\n",
    "            selected_points.append(s[-1])\n",
    "            i+=1\n",
    "\n",
    "            # Add scene\n",
    "            considered_lines.append((s[-2], s[-1]))\n",
    "            if scenes: scene_container.append(Scene(points=[points,PointsCollection(selected_points.copy(), color=\"orange\")], lines=[LinesCollection(considered_lines.copy(), color=\"green\")], title=\"Szukanie potencjalnych punktów otoczki\"))\n",
    "        # ================ END OF MODIFICATION ================\n",
    "\n",
    "        else:\n",
    "            s.pop()\n",
    "\n",
    "            # Configure scene utils\n",
    "            selected_points.pop()\n",
    "            considered_lines.pop()\n",
    "    \n",
    "\n",
    "    # Configure scene utils\n",
    "    selected_points.append(s[0])\n",
    "    considered_lines.append((s[-1], s[0]))\n",
    "    \n",
    "    end_time = process_time()\n",
    "\n",
    "    # ================ END OF ALGORITHM ================\n",
    "    \n",
    "    scene_container.insert(0,Scene(points=[points,PointsCollection(selected_points.copy(), color=\"orange\")], lines=[LinesCollection(considered_lines.copy(), color=\"red\")], title=\"Rezultat algorytmu Grahama\"))\n",
    "\n",
    "    # Save to file\n",
    "    if filename != \"\":\n",
    "        selected_points.pop()\n",
    "        test_plot = Plot(points=[PointsCollection(selected_points)])\n",
    "        with open(f\"{filename}.json\", 'w') as file:\n",
    "            file.write(test_plot.toJson())\n",
    "\n",
    "    if calculate_exec_time:\n",
    "        print(f\"Czas działania programu: {end_time - start_time}s.\")\n",
    "\n",
    "    return considered_lines.copy(),selected_points.copy(), scene_container\n",
    "\n",
    "\n",
    "def pure_graham_algorithm(points: PointsCollection):\n",
    "    # Algorithm without additional features for measuring time\n",
    "    points = PointsCollection(points.points[:])\n",
    "\n",
    "    # Algorithm configuration\n",
    "    epsilon = 1e-10\n",
    "    start_time = process_time()\n",
    "\n",
    "    # ================ GRAHAM ALGORITHM ================\n",
    "\n",
    "    # Find bottom-left point\n",
    "    raw_points = points.points\n",
    "\n",
    "    min_point = (np.inf, np.inf)\n",
    "    for a,b in raw_points:\n",
    "        if b < min_point[1]:\n",
    "            min_point = (a,b)\n",
    "        elif b == min_point[1] and a < min_point[0]:\n",
    "            min_point = (a,b)\n",
    "\n",
    "\n",
    "    # Create new list (without min_point)\n",
    "    considered_points = []\n",
    "    for a,b in raw_points:\n",
    "        if a == min_point[0] and b == min_point[1]:\n",
    "            continue\n",
    "        considered_points.append((a,b))\n",
    "\n",
    "    # Sort points\n",
    "    def compare_fn(a,b):\n",
    "        nonlocal min_point\n",
    "\n",
    "        # if a > b then determinant is > 0\n",
    "        determinant = det3x3(a, b, min_point)\n",
    "        if -epsilon<=determinant<=epsilon:\n",
    "            # Compare by distance from min_point\n",
    "            d1 = distance(min_point,a)\n",
    "            d2 = distance(min_point,b)\n",
    "\n",
    "            if d1 < d2:\n",
    "                return -1\n",
    "            elif d1 > d2:\n",
    "                return 1\n",
    "            \n",
    "            return 0\n",
    "        elif determinant > epsilon:\n",
    "            return -1\n",
    "        else:\n",
    "            return 1\n",
    "\n",
    "    considered_points = sorted(considered_points,key=cmp_to_key(compare_fn))\n",
    "    considered_points.insert(0,min_point)\n",
    "\n",
    "    # First convex-hull points\n",
    "    s = deque()\n",
    "    s.append(considered_points[0])\n",
    "\n",
    "    # ================ GRAHAM ALGORITHM MODIFICATION ================\n",
    "    # Remove s[1] if nessecary (when 3 points are collinear)\n",
    "    if not (-epsilon <= det3x3(considered_points[0],considered_points[2],considered_points[1]) <= epsilon):\n",
    "        s.append(considered_points[1])\n",
    "    # ================ END OF MODIFICATION ================\n",
    "\n",
    "    s.append(considered_points[2])\n",
    "\n",
    "    i = 3\n",
    "    \n",
    "    while i<len(considered_points):\n",
    "        determinant = det3x3(s[-2],s[-1],considered_points[i])\n",
    "        if determinant > epsilon:\n",
    "            s.append(considered_points[i])\n",
    "            i+=1\n",
    "\n",
    "        # ================ GRAHAM ALGORITHM MODIFICATION ================\n",
    "        elif -epsilon <= determinant <= epsilon:\n",
    "            s.pop()\n",
    "            s.append(considered_points[i])\n",
    "            i+=1\n",
    "        # ================ END OF MODIFICATION ================\n",
    "\n",
    "        else:\n",
    "            s.pop()\n",
    "    \n",
    "    \n",
    "    end_time = process_time()\n",
    "\n",
    "    # ================ END OF ALGORITHM ================\n",
    "    \n",
    "\n",
    "    print(f\"Czas działania algorytmu: {end_time-start_time}s.\")\n"
   ]
  },
  {
   "cell_type": "markdown",
   "metadata": {},
   "source": [
    "### Algorytm Jarvisa\n",
    "\n",
    "Opis algorytmu"
   ]
  },
  {
   "cell_type": "code",
   "execution_count": null,
   "metadata": {},
   "outputs": [],
   "source": [
    "def jarvis_algorithm(points: PointsCollection, scenes=True, filename=\"\", calculate_exec_time=True):\n",
    "    # Algorithm configuration\n",
    "    epsilon = 1e-10\n",
    "    start_time = process_time()\n",
    "\n",
    "    # ================ JARVIS ALGORITHM ================\n",
    "\n",
    "    # Find bottom-left point\n",
    "    raw_points = points.points\n",
    "\n",
    "    min_point = (np.inf, np.inf)\n",
    "    for a,b in raw_points:\n",
    "        if b < min_point[1]:\n",
    "            min_point = (a,b)\n",
    "        elif b == min_point[1] and a < min_point[0]:\n",
    "            min_point = (a,b)\n",
    "\n",
    "    p0 = min_point\n",
    "    p1 = raw_points[0] if raw_points[0][0] != min_point[0] and raw_points[0][1] != min_point[1] else raw_points[1]\n",
    "\n",
    "    # Scene configuration\n",
    "    scene_container = []\n",
    "    selected_points = []\n",
    "    added_lines = []\n",
    "    considered_lines = []\n",
    "\n",
    "    selected_points.append(p0)\n",
    "    selected_points.append(p1)\n",
    "    considered_lines.append((p0,p1))\n",
    "    if scenes: scene_container.append(Scene(points=[points,PointsCollection(selected_points.copy(), color=\"orange\")], lines=[LinesCollection(considered_lines.copy(), color=\"green\"),LinesCollection(added_lines.copy(), color=\"red\")], title=\"Początek algorytmu Jarvisa\"))\n",
    "\n",
    "\n",
    "    # First while execution - find p1    \n",
    "    for point in raw_points:\n",
    "        if point[0] == p0[0] and point[1] == p0[1]:\n",
    "            continue\n",
    "\n",
    "        # If point is on the right side of p0-p1 segment, use that point\n",
    "        # Else if point is on a segment, check distances\n",
    "        if det3x3(p0,p1,point) < -epsilon or (-epsilon<=det3x3(p0,p1,point) <= epsilon and distance(p0,point) > distance(p0, p1)):\n",
    "            p1 = point\n",
    "\n",
    "            # Add scene\n",
    "            selected_points.pop()\n",
    "            selected_points.append(p1)\n",
    "            considered_lines.pop()\n",
    "            considered_lines.append((p0,p1))\n",
    "            if scenes: scene_container.append(Scene(points=[points,PointsCollection(selected_points.copy(), color=\"orange\")], lines=[LinesCollection(considered_lines.copy(), color=\"green\"),LinesCollection(added_lines.copy(), color=\"red\")], title=\"Wyszukiwanie punktu z najmniejszym kątem\"))\n",
    "\n",
    "    # Add selected point p1 to plot\n",
    "    added_lines.append((p0,p1))\n",
    "    selected_points.append(p1)\n",
    "    if scenes: scene_container.append(Scene(points=[points,PointsCollection(selected_points.copy(), color=\"orange\")], lines=[LinesCollection(considered_lines.copy(), color=\"green\"),LinesCollection(added_lines.copy(), color=\"red\")], title=\"Wybrano punkt otoczki\"))\n",
    "\n",
    "    points_list = [p0,p1]\n",
    "    p0 = p1\n",
    "\n",
    "    while p0[0] != min_point[0] or p0[1] != min_point[1]:\n",
    "        # Find p1    \n",
    "        for point in raw_points:\n",
    "            if point[0] == p0[0] and point[1] == p0[1]:\n",
    "                continue\n",
    "            \n",
    "            # If point is on the right side of p0-p1 segment, use that point\n",
    "            # Else if point is on a segment, check distances\n",
    "            if det3x3(p0,p1,point) < -epsilon or (-epsilon<=det3x3(p0,p1,point) <= epsilon and distance(p0,point) > distance(p0, p1)):\n",
    "                p1 = point\n",
    "\n",
    "                # Add scene\n",
    "                selected_points.pop()\n",
    "                selected_points.append(p1)\n",
    "                considered_lines.pop()\n",
    "                considered_lines.append((p0,p1))\n",
    "                if scenes: scene_container.append(Scene(points=[points,PointsCollection(selected_points.copy(), color=\"orange\")], lines=[LinesCollection(considered_lines.copy(), color=\"green\"),LinesCollection(added_lines.copy(), color=\"red\")], title=\"Wyszukiwanie punktu z najmniejszym kątem\"))\n",
    "\n",
    "        # Add selected point p1 to plot\n",
    "        added_lines.append((p0,p1))\n",
    "        selected_points.append(p1)\n",
    "        if scenes: scene_container.append(Scene(points=[points,PointsCollection(selected_points.copy(), color=\"orange\")], lines=[LinesCollection(considered_lines.copy(), color=\"green\"),LinesCollection(added_lines.copy(), color=\"red\")], title=\"Wybrano punkt otoczki\"))\n",
    "\n",
    "\n",
    "        points_list.append(p1)\n",
    "        p0 = p1\n",
    "\n",
    "    end_time = process_time()\n",
    "\n",
    "    # ================ END OF ALGORITHM ================  \n",
    "\n",
    "    scene_container.insert(0,Scene(points=[points,PointsCollection(selected_points.copy(), color=\"orange\")], lines=[LinesCollection(considered_lines.copy(), color=\"green\"),LinesCollection(added_lines.copy(), color=\"red\")], title=\"Rezultat algorytmu Jarvisa\"))\n",
    "\n",
    "    lines = []\n",
    "    selected_points = [(points_list[0][0], points_list[0][1])]\n",
    "    for i in range(1,len(points_list)):\n",
    "        lines.append([(points_list[i-1][0], points_list[i-1][1]),(points_list[i][0], points_list[i][1])])\n",
    "        selected_points.append((points_list[i][0], points_list[i][1]))\n",
    "\n",
    "    lines.append([(points_list[-1][0], points_list[-1][1]),(points_list[0][0], points_list[0][1])])\n",
    "\n",
    "    # Save to file\n",
    "    if filename != \"\":\n",
    "        selected_points.pop()\n",
    "        test_plot = Plot(points=[PointsCollection(selected_points)])\n",
    "        with open(f\"{filename}.json\", 'w') as file:\n",
    "            file.write(test_plot.toJson())\n",
    "\n",
    "    if calculate_exec_time:\n",
    "        print(f\"Czas działania programu: {end_time - start_time}s.\")\n",
    "\n",
    "    return lines, selected_points, scene_container\n",
    "\n",
    "\n",
    "\n",
    "def pure_jarvis_algorithm(points: PointsCollection):\n",
    "    # Algorithm configuration\n",
    "    epsilon = 1e-10\n",
    "    points = PointsCollection(points.points[:])\n",
    "    start_time = process_time()\n",
    "\n",
    "    # ================ JARVIS ALGORITHM ================\n",
    "\n",
    "    # Find bottom-left point\n",
    "    raw_points = points.points\n",
    "\n",
    "    min_point = (np.inf, np.inf)\n",
    "    for a,b in raw_points:\n",
    "        if b < min_point[1]:\n",
    "            min_point = (a,b)\n",
    "        elif b == min_point[1] and a < min_point[0]:\n",
    "            min_point = (a,b)\n",
    "\n",
    "    p0 = min_point\n",
    "    p1 = raw_points[0] if raw_points[0][0] != min_point[0] and raw_points[0][1] != min_point[1] else raw_points[1]\n",
    "\n",
    "    # First while execution - find p1    \n",
    "    for point in raw_points:\n",
    "        if point[0] == p0[0] and point[1] == p0[1]:\n",
    "            continue\n",
    "\n",
    "        # If point is on the right side of p0-p1 segment, use that point\n",
    "        # Else if point is on a segment, check distances\n",
    "        if det3x3(p0,p1,point) < -epsilon or (-epsilon<=det3x3(p0,p1,point) <= epsilon and distance(p0,point) > distance(p0, p1)):\n",
    "            p1 = point\n",
    "\n",
    "    # points_list = [p0,p1]\n",
    "    p0 = p1\n",
    "\n",
    "    while p0[0] != min_point[0] or p0[1] != min_point[1]:\n",
    "        # Find p1    \n",
    "        for point in raw_points:\n",
    "            if point[0] == p0[0] and point[1] == p0[1]:\n",
    "                continue\n",
    "            \n",
    "            # If point is on the right side of p0-p1 segment, use that point\n",
    "            # Else if point is on a segment, check distances\n",
    "            if det3x3(p0,p1,point) < -epsilon or (-epsilon<=det3x3(p0,p1,point) <= epsilon and distance(p0,point) > distance(p0, p1)):\n",
    "                p1 = point\n",
    "\n",
    "\n",
    "        # points_list.append(p1)\n",
    "        p0 = p1\n",
    "\n",
    "    end_time = process_time()\n",
    "\n",
    "    # ================ END OF ALGORITHM ================  \n",
    "\n",
    "    print(f\"Czas działania algorytmu: {end_time-start_time}s.\")\n"
   ]
  },
  {
   "cell_type": "markdown",
   "metadata": {},
   "source": [
    "## Test algorytmów dla badanych zestawów danych\n"
   ]
  },
  {
   "cell_type": "markdown",
   "metadata": {},
   "source": [
    "### Zestaw danych A"
   ]
  },
  {
   "cell_type": "markdown",
   "metadata": {},
   "source": [
    "#### Zestaw danych A.1\n",
    "- liczba punktów: $100$\n",
    "- przedziały dla współrzędnych: $[-100, 100]$"
   ]
  },
  {
   "cell_type": "code",
   "execution_count": null,
   "metadata": {},
   "outputs": [],
   "source": [
    "pure_graham_algorithm(default_dataset_a)"
   ]
  },
  {
   "cell_type": "code",
   "execution_count": null,
   "metadata": {},
   "outputs": [],
   "source": [
    "lines, points, scene_container = graham_algorithm(default_dataset_a, False)\n",
    "plot = Plot(scenes = scene_container, title=\"Algorytm Grahama - zbiór danych A.1\")\n",
    "plot.draw()"
   ]
  },
  {
   "cell_type": "code",
   "execution_count": null,
   "metadata": {},
   "outputs": [],
   "source": [
    "pure_jarvis_algorithm(default_dataset_a)"
   ]
  },
  {
   "cell_type": "code",
   "execution_count": null,
   "metadata": {},
   "outputs": [],
   "source": [
    "lines, points, scene_container = jarvis_algorithm(default_dataset_a, True)\n",
    "plot = Plot(scenes = scene_container, title=\"Algorytm Jarvisa - zbiór danych A.1\")\n",
    "plot.draw()"
   ]
  },
  {
   "cell_type": "markdown",
   "metadata": {},
   "source": [
    "#### Zestaw danych A.2\n",
    "- liczba punktów: $1000$\n",
    "- przedziały dla współrzędnych: $[-300, 300]$"
   ]
  },
  {
   "cell_type": "code",
   "execution_count": null,
   "metadata": {},
   "outputs": [],
   "source": [
    "dataset_a2 = generate_dataset_a((-300,300),1000)"
   ]
  },
  {
   "cell_type": "code",
   "execution_count": null,
   "metadata": {},
   "outputs": [],
   "source": [
    "pure_graham_algorithm(dataset_a2)"
   ]
  },
  {
   "cell_type": "code",
   "execution_count": null,
   "metadata": {},
   "outputs": [],
   "source": [
    "lines, points, scene_container = graham_algorithm(dataset_a2, False)\n",
    "plot = Plot(scenes = scene_container, title=\"Algorytm Grahama - zbiór danych A.2\")\n",
    "plot.draw()"
   ]
  },
  {
   "cell_type": "code",
   "execution_count": null,
   "metadata": {},
   "outputs": [],
   "source": [
    "pure_jarvis_algorithm(dataset_a2)"
   ]
  },
  {
   "cell_type": "code",
   "execution_count": null,
   "metadata": {},
   "outputs": [],
   "source": [
    "lines, points, scene_container = jarvis_algorithm(dataset_a2, False)\n",
    "plot = Plot(scenes = scene_container, title=\"Algorytm Jarvisa - zbiór danych A.2\")\n",
    "plot.draw()"
   ]
  },
  {
   "cell_type": "markdown",
   "metadata": {},
   "source": [
    "#### Zestaw danych A.3\n",
    "- liczba punktów: $2500$\n",
    "- przedziały dla współrzędnych: $[-300, 300]$"
   ]
  },
  {
   "cell_type": "code",
   "execution_count": null,
   "metadata": {},
   "outputs": [],
   "source": [
    "dataset_a3 = generate_dataset_a((-300,300),2500)"
   ]
  },
  {
   "cell_type": "code",
   "execution_count": null,
   "metadata": {},
   "outputs": [],
   "source": [
    "pure_graham_algorithm(dataset_a3)"
   ]
  },
  {
   "cell_type": "code",
   "execution_count": null,
   "metadata": {},
   "outputs": [],
   "source": [
    "lines, points, scene_container = graham_algorithm(dataset_a3, False)\n",
    "plot = Plot(scenes = scene_container, title=\"Algorytm Grahama - zbiór danych A.3\")\n",
    "plot.draw()"
   ]
  },
  {
   "cell_type": "code",
   "execution_count": null,
   "metadata": {},
   "outputs": [],
   "source": [
    "pure_jarvis_algorithm(dataset_a3)"
   ]
  },
  {
   "cell_type": "code",
   "execution_count": null,
   "metadata": {},
   "outputs": [],
   "source": [
    "lines, points, scene_container = jarvis_algorithm(dataset_a3, False)\n",
    "plot = Plot(scenes = scene_container, title=\"Algorytm Jarvisa - zbiór danych A.3\")\n",
    "plot.draw()"
   ]
  },
  {
   "cell_type": "markdown",
   "metadata": {},
   "source": [
    "#### Zestaw danych A.4\n",
    "- liczba punktów: $5000$\n",
    "- przedziały dla współrzędnych: $[-300, 300]$"
   ]
  },
  {
   "cell_type": "code",
   "execution_count": null,
   "metadata": {},
   "outputs": [],
   "source": [
    "dataset_a4 = generate_dataset_a((-300,300),5000)"
   ]
  },
  {
   "cell_type": "code",
   "execution_count": null,
   "metadata": {},
   "outputs": [],
   "source": [
    "pure_graham_algorithm(dataset_a4)"
   ]
  },
  {
   "cell_type": "code",
   "execution_count": null,
   "metadata": {},
   "outputs": [],
   "source": [
    "lines, points, scene_container = graham_algorithm(dataset_a4, False)\n",
    "plot = Plot(scenes = scene_container, title=\"Algorytm Grahama - zbiór danych A.4\")\n",
    "plot.draw()"
   ]
  },
  {
   "cell_type": "code",
   "execution_count": null,
   "metadata": {},
   "outputs": [],
   "source": [
    "pure_jarvis_algorithm(dataset_a4)"
   ]
  },
  {
   "cell_type": "code",
   "execution_count": null,
   "metadata": {},
   "outputs": [],
   "source": [
    "lines, points, scene_container = jarvis_algorithm(dataset_a4, False)\n",
    "plot = Plot(scenes = scene_container, title=\"Algorytm Jarvisa - zbiór danych A.4\")\n",
    "plot.draw()"
   ]
  },
  {
   "cell_type": "markdown",
   "metadata": {},
   "source": [
    "#### Zestaw danych A.5\n",
    "- liczba punktów: $10000$\n",
    "- przedziały dla współrzędnych: $[-300, 300]$"
   ]
  },
  {
   "cell_type": "code",
   "execution_count": null,
   "metadata": {},
   "outputs": [],
   "source": [
    "dataset_a5 = generate_dataset_a((-300,300),10000)"
   ]
  },
  {
   "cell_type": "code",
   "execution_count": null,
   "metadata": {},
   "outputs": [],
   "source": [
    "pure_graham_algorithm(dataset_a5)"
   ]
  },
  {
   "cell_type": "code",
   "execution_count": null,
   "metadata": {},
   "outputs": [],
   "source": [
    "lines, points, scene_container = graham_algorithm(dataset_a5, False)\n",
    "plot = Plot(scenes = scene_container, title=\"Algorytm Grahama - zbiór danych A.5\")\n",
    "plot.draw()"
   ]
  },
  {
   "cell_type": "code",
   "execution_count": null,
   "metadata": {},
   "outputs": [],
   "source": [
    "pure_jarvis_algorithm(dataset_a5)"
   ]
  },
  {
   "cell_type": "code",
   "execution_count": null,
   "metadata": {},
   "outputs": [],
   "source": [
    "lines, points, scene_container = jarvis_algorithm(dataset_a5, False)\n",
    "plot = Plot(scenes = scene_container, title=\"Algorytm Jarvisa - zbiór danych A.5\")\n",
    "plot.draw()"
   ]
  },
  {
   "cell_type": "markdown",
   "metadata": {},
   "source": [
    "#### Zestaw danych A.6\n",
    "- liczba punktów: $15000$\n",
    "- przedziały dla współrzędnych: $[-300, 300]$"
   ]
  },
  {
   "cell_type": "code",
   "execution_count": null,
   "metadata": {},
   "outputs": [],
   "source": [
    "dataset_a6 = generate_dataset_a((-300,300),15000)"
   ]
  },
  {
   "cell_type": "code",
   "execution_count": null,
   "metadata": {},
   "outputs": [],
   "source": [
    "pure_graham_algorithm(dataset_a6)"
   ]
  },
  {
   "cell_type": "code",
   "execution_count": null,
   "metadata": {},
   "outputs": [],
   "source": [
    "lines, points, scene_container = graham_algorithm(dataset_a6, False)\n",
    "plot = Plot(scenes = scene_container, title=\"Algorytm Grahama - zbiór danych A.6\")\n",
    "plot.draw()"
   ]
  },
  {
   "cell_type": "code",
   "execution_count": null,
   "metadata": {},
   "outputs": [],
   "source": [
    "pure_jarvis_algorithm(dataset_a6)\n"
   ]
  },
  {
   "cell_type": "code",
   "execution_count": null,
   "metadata": {},
   "outputs": [],
   "source": [
    "lines, points, scene_container = jarvis_algorithm(dataset_a6, False)\n",
    "plot = Plot(scenes = scene_container, title=\"Algorytm Jarvisa - zbiór danych A.6\")\n",
    "plot.draw()"
   ]
  },
  {
   "cell_type": "markdown",
   "metadata": {},
   "source": [
    "#### Zestaw danych A.7\n",
    "- liczba punktów: $25000$\n",
    "- przedziały dla współrzędnych: $[-300, 300]$"
   ]
  },
  {
   "cell_type": "code",
   "execution_count": null,
   "metadata": {},
   "outputs": [],
   "source": [
    "dataset_a7 = generate_dataset_a((-300,300),25000)\n"
   ]
  },
  {
   "cell_type": "code",
   "execution_count": null,
   "metadata": {},
   "outputs": [],
   "source": [
    "pure_graham_algorithm(dataset_a7)\n"
   ]
  },
  {
   "cell_type": "code",
   "execution_count": null,
   "metadata": {},
   "outputs": [],
   "source": [
    "lines, points, scene_container = graham_algorithm(dataset_a7, False)\n",
    "plot = Plot(scenes = scene_container, title=\"Algorytm Grahama - zbiór danych A.7\")\n",
    "plot.draw()"
   ]
  },
  {
   "cell_type": "code",
   "execution_count": null,
   "metadata": {},
   "outputs": [],
   "source": [
    "pure_jarvis_algorithm(dataset_a7)\n"
   ]
  },
  {
   "cell_type": "code",
   "execution_count": null,
   "metadata": {},
   "outputs": [],
   "source": [
    "lines, points, scene_container = jarvis_algorithm(dataset_a7, False)\n",
    "plot = Plot(scenes = scene_container, title=\"Algorytm Jarvisa - zbiór danych A.7\")\n",
    "plot.draw()"
   ]
  },
  {
   "cell_type": "markdown",
   "metadata": {},
   "source": [
    "#### Zestaw danych A.8\n",
    "- liczba punktów: $50000$\n",
    "- przedziały dla współrzędnych: $[-300, 300]$"
   ]
  },
  {
   "cell_type": "code",
   "execution_count": null,
   "metadata": {},
   "outputs": [],
   "source": [
    "dataset_a8 = generate_dataset_a((-300,300),50000)\n"
   ]
  },
  {
   "cell_type": "code",
   "execution_count": null,
   "metadata": {},
   "outputs": [],
   "source": [
    "pure_graham_algorithm(dataset_a8)\n"
   ]
  },
  {
   "cell_type": "code",
   "execution_count": null,
   "metadata": {},
   "outputs": [],
   "source": [
    "lines, points, scene_container = graham_algorithm(dataset_a8, False)\n",
    "plot = Plot(scenes = scene_container, title=\"Algorytm Grahama - zbiór danych A.8\")\n",
    "plot.draw()"
   ]
  },
  {
   "cell_type": "code",
   "execution_count": null,
   "metadata": {},
   "outputs": [],
   "source": [
    "pure_jarvis_algorithm(dataset_a8)"
   ]
  },
  {
   "cell_type": "code",
   "execution_count": null,
   "metadata": {},
   "outputs": [],
   "source": [
    "lines, points, scene_container = jarvis_algorithm(dataset_a8, False)\n",
    "plot = Plot(scenes = scene_container, title=\"Algorytm Jarvisa - zbiór danych A.8\")\n",
    "plot.draw()"
   ]
  },
  {
   "cell_type": "markdown",
   "metadata": {},
   "source": [
    "### Zestaw danych B"
   ]
  },
  {
   "cell_type": "markdown",
   "metadata": {},
   "source": [
    "#### Zestaw danych B.1\n",
    "- liczba punktów: $100$\n",
    "- środek okręgu: $(0,0)$\n",
    "- promień okręgu: $R=100$"
   ]
  },
  {
   "cell_type": "code",
   "execution_count": null,
   "metadata": {},
   "outputs": [],
   "source": [
    "pure_graham_algorithm(default_dataset_b)"
   ]
  },
  {
   "cell_type": "code",
   "execution_count": null,
   "metadata": {},
   "outputs": [],
   "source": [
    "lines, points, scene_container = graham_algorithm(default_dataset_b, True)\n",
    "plot = Plot(scenes = scene_container, title=\"Algorytm Grahama - zbiór danych B.1\")\n",
    "plot.draw()"
   ]
  },
  {
   "cell_type": "code",
   "execution_count": null,
   "metadata": {},
   "outputs": [],
   "source": [
    "pure_jarvis_algorithm(default_dataset_b)\n"
   ]
  },
  {
   "cell_type": "code",
   "execution_count": null,
   "metadata": {},
   "outputs": [],
   "source": [
    "lines, points, scene_container = jarvis_algorithm(default_dataset_b, True)\n",
    "plot = Plot(scenes = scene_container, title=\"Algorytm Jarvisa - zbiór danych B.1\")\n",
    "plot.draw()"
   ]
  },
  {
   "cell_type": "markdown",
   "metadata": {},
   "source": [
    "#### Zestaw danych B.2\n",
    "- liczba punktów: $1000$\n",
    "- środek okręgu: $(0,0)$\n",
    "- promień okręgu: $R=300$"
   ]
  },
  {
   "cell_type": "code",
   "execution_count": null,
   "metadata": {},
   "outputs": [],
   "source": [
    "dataset_b2 = generate_dataset_b((0,0),1000,300)"
   ]
  },
  {
   "cell_type": "code",
   "execution_count": null,
   "metadata": {},
   "outputs": [],
   "source": [
    "pure_graham_algorithm(dataset_b2)"
   ]
  },
  {
   "cell_type": "code",
   "execution_count": null,
   "metadata": {},
   "outputs": [],
   "source": [
    "lines, points, scene_container = graham_algorithm(dataset_b2, False)\n",
    "plot = Plot(scenes = scene_container, title=\"Algorytm Grahama - zbiór danych B.2\")\n",
    "plot.draw()"
   ]
  },
  {
   "cell_type": "code",
   "execution_count": null,
   "metadata": {},
   "outputs": [],
   "source": [
    "pure_jarvis_algorithm(dataset_b2)"
   ]
  },
  {
   "cell_type": "code",
   "execution_count": null,
   "metadata": {},
   "outputs": [],
   "source": [
    "lines, points, scene_container = jarvis_algorithm(dataset_b2, False)\n",
    "plot = Plot(scenes = scene_container, title=\"Algorytm Jarvisa - zbiór danych B.2\")\n",
    "plot.draw()"
   ]
  },
  {
   "cell_type": "markdown",
   "metadata": {},
   "source": [
    "#### Zestaw danych B.3\n",
    "- liczba punktów: $2500$\n",
    "- środek okręgu: $(0,0)$\n",
    "- promień okręgu: $R=300$"
   ]
  },
  {
   "cell_type": "code",
   "execution_count": null,
   "metadata": {},
   "outputs": [],
   "source": [
    "dataset_b3 = generate_dataset_b((0,0),2500,300)\n"
   ]
  },
  {
   "cell_type": "code",
   "execution_count": null,
   "metadata": {},
   "outputs": [],
   "source": [
    "pure_graham_algorithm(dataset_b3)"
   ]
  },
  {
   "cell_type": "code",
   "execution_count": null,
   "metadata": {},
   "outputs": [],
   "source": [
    "lines, points, scene_container = graham_algorithm(dataset_b3, False)\n",
    "plot = Plot(scenes = scene_container, title=\"Algorytm Grahama - zbiór danych B.3\")\n",
    "plot.draw()"
   ]
  },
  {
   "cell_type": "code",
   "execution_count": null,
   "metadata": {},
   "outputs": [],
   "source": [
    "pure_jarvis_algorithm(dataset_b3)"
   ]
  },
  {
   "cell_type": "code",
   "execution_count": null,
   "metadata": {},
   "outputs": [],
   "source": [
    "lines, points, scene_container = jarvis_algorithm(dataset_b3, False)\n",
    "plot = Plot(scenes = scene_container, title=\"Algorytm Jarvisa - zbiór danych B.3\")\n",
    "plot.draw()"
   ]
  },
  {
   "cell_type": "markdown",
   "metadata": {},
   "source": [
    "#### Zestaw danych B.4\n",
    "- liczba punktów: $5000$\n",
    "- środek okręgu: $(0,0)$\n",
    "- promień okręgu: $R=300$"
   ]
  },
  {
   "cell_type": "code",
   "execution_count": null,
   "metadata": {},
   "outputs": [],
   "source": [
    "dataset_b4 = generate_dataset_b((0,0),5000,300)\n"
   ]
  },
  {
   "cell_type": "code",
   "execution_count": null,
   "metadata": {},
   "outputs": [],
   "source": [
    "pure_graham_algorithm(dataset_b4)\n"
   ]
  },
  {
   "cell_type": "code",
   "execution_count": null,
   "metadata": {},
   "outputs": [],
   "source": [
    "lines, points, scene_container = graham_algorithm(dataset_b4, False)\n",
    "plot = Plot(scenes = scene_container, title=\"Algorytm Grahama - zbiór danych B.4\")\n",
    "plot.draw()"
   ]
  },
  {
   "cell_type": "code",
   "execution_count": null,
   "metadata": {},
   "outputs": [],
   "source": [
    "pure_jarvis_algorithm(dataset_b4)\n"
   ]
  },
  {
   "cell_type": "code",
   "execution_count": null,
   "metadata": {},
   "outputs": [],
   "source": [
    "lines, points, scene_container = jarvis_algorithm(dataset_b4, False)\n",
    "plot = Plot(scenes = scene_container, title=\"Algorytm Jarvisa - zbiór danych B.4\")\n",
    "plot.draw()"
   ]
  },
  {
   "cell_type": "markdown",
   "metadata": {},
   "source": [
    "#### Zestaw danych B.5\n",
    "- liczba punktów: $10000$\n",
    "- środek okręgu: $(0,0)$\n",
    "- promień okręgu: $R=300$"
   ]
  },
  {
   "cell_type": "code",
   "execution_count": null,
   "metadata": {},
   "outputs": [],
   "source": [
    "dataset_b5 = generate_dataset_b((0,0),10000,300)\n"
   ]
  },
  {
   "cell_type": "code",
   "execution_count": null,
   "metadata": {},
   "outputs": [],
   "source": [
    "pure_graham_algorithm(dataset_b5)\n"
   ]
  },
  {
   "cell_type": "code",
   "execution_count": null,
   "metadata": {},
   "outputs": [],
   "source": [
    "lines, points, scene_container = graham_algorithm(dataset_b5, False)\n",
    "plot = Plot(scenes = scene_container, title=\"Algorytm Grahama - zbiór danych B.5\")\n",
    "plot.draw()"
   ]
  },
  {
   "cell_type": "code",
   "execution_count": null,
   "metadata": {},
   "outputs": [],
   "source": [
    "pure_jarvis_algorithm(dataset_b5)\n"
   ]
  },
  {
   "cell_type": "code",
   "execution_count": null,
   "metadata": {},
   "outputs": [],
   "source": [
    "lines, points, scene_container = jarvis_algorithm(dataset_b5, False)\n",
    "plot = Plot(scenes = scene_container, title=\"Algorytm Jarvisa - zbiór danych B.5\")\n",
    "plot.draw()"
   ]
  },
  {
   "cell_type": "markdown",
   "metadata": {},
   "source": [
    "#### Zestaw danych B.6\n",
    "- liczba punktów: $15000$\n",
    "- środek okręgu: $(0,0)$\n",
    "- promień okręgu: $R=300$"
   ]
  },
  {
   "cell_type": "code",
   "execution_count": null,
   "metadata": {},
   "outputs": [],
   "source": [
    "dataset_b6 = generate_dataset_b((0,0),15000,300)\n"
   ]
  },
  {
   "cell_type": "code",
   "execution_count": null,
   "metadata": {},
   "outputs": [],
   "source": [
    "pure_graham_algorithm(dataset_b6)\n"
   ]
  },
  {
   "cell_type": "code",
   "execution_count": null,
   "metadata": {},
   "outputs": [],
   "source": [
    "lines, points, scene_container = graham_algorithm(dataset_b6, False)\n",
    "plot = Plot(scenes = scene_container, title=\"Algorytm Grahama - zbiór danych B.6\")\n",
    "plot.draw()"
   ]
  },
  {
   "cell_type": "code",
   "execution_count": null,
   "metadata": {},
   "outputs": [],
   "source": [
    "pure_jarvis_algorithm(dataset_b6)"
   ]
  },
  {
   "cell_type": "code",
   "execution_count": null,
   "metadata": {},
   "outputs": [],
   "source": [
    "lines, points, scene_container = jarvis_algorithm(dataset_b6, False)\n",
    "plot = Plot(scenes = scene_container, title=\"Algorytm Jarvisa - zbiór danych B.6\")\n",
    "plot.draw()"
   ]
  },
  {
   "cell_type": "markdown",
   "metadata": {},
   "source": [
    "#### Zestaw danych B.7\n",
    "- liczba punktów: $25000$\n",
    "- środek okręgu: $(0,0)$\n",
    "- promień okręgu: $R=300$"
   ]
  },
  {
   "cell_type": "code",
   "execution_count": null,
   "metadata": {},
   "outputs": [],
   "source": [
    "dataset_b7 = generate_dataset_b((0,0),25000,300)\n"
   ]
  },
  {
   "cell_type": "code",
   "execution_count": null,
   "metadata": {},
   "outputs": [],
   "source": [
    "pure_graham_algorithm(dataset_b7)\n"
   ]
  },
  {
   "cell_type": "code",
   "execution_count": null,
   "metadata": {},
   "outputs": [],
   "source": [
    "lines, points, scene_container = graham_algorithm(dataset_b7, False)\n",
    "plot = Plot(scenes = scene_container, title=\"Algorytm Grahama - zbiór danych B.7\")\n",
    "plot.draw()"
   ]
  },
  {
   "cell_type": "code",
   "execution_count": null,
   "metadata": {},
   "outputs": [],
   "source": [
    "pure_jarvis_algorithm(dataset_b7)\n"
   ]
  },
  {
   "cell_type": "code",
   "execution_count": null,
   "metadata": {},
   "outputs": [],
   "source": [
    "lines, points, scene_container = jarvis_algorithm(dataset_b7, False)\n",
    "plot = Plot(scenes = scene_container, title=\"Algorytm Jarvisa - zbiór danych B.7\")\n",
    "plot.draw()"
   ]
  },
  {
   "cell_type": "markdown",
   "metadata": {},
   "source": [
    "#### Zestaw danych B.8\n",
    "- liczba punktów: $50000$\n",
    "- środek okręgu: $(0,0)$\n",
    "- promień okręgu: $R=300$"
   ]
  },
  {
   "cell_type": "code",
   "execution_count": null,
   "metadata": {},
   "outputs": [],
   "source": [
    "dataset_b8 = generate_dataset_b((0,0),50000,300)\n"
   ]
  },
  {
   "cell_type": "code",
   "execution_count": null,
   "metadata": {},
   "outputs": [],
   "source": [
    "pure_graham_algorithm(dataset_b8)\n"
   ]
  },
  {
   "cell_type": "code",
   "execution_count": null,
   "metadata": {},
   "outputs": [],
   "source": [
    "lines, points, scene_container = graham_algorithm(dataset_b8, False)\n",
    "plot = Plot(scenes = scene_container, title=\"Algorytm Grahama - zbiór danych B.8\")\n",
    "plot.draw()"
   ]
  },
  {
   "cell_type": "code",
   "execution_count": null,
   "metadata": {},
   "outputs": [],
   "source": [
    "pure_jarvis_algorithm(dataset_b8)\n"
   ]
  },
  {
   "cell_type": "code",
   "execution_count": null,
   "metadata": {},
   "outputs": [],
   "source": [
    "lines, points, scene_container = jarvis_algorithm(dataset_b8, False)\n",
    "plot = Plot(scenes = scene_container, title=\"Algorytm Jarvisa - zbiór danych B.8\")\n",
    "plot.draw()"
   ]
  },
  {
   "cell_type": "markdown",
   "metadata": {},
   "source": [
    "### Zestaw danych C"
   ]
  },
  {
   "cell_type": "markdown",
   "metadata": {},
   "source": [
    "#### Zestaw danych C.1\n",
    "- liczba punktów: $100$\n",
    "- wierzchołki prostokąta: $(-10,-10), (10,-10),(10,10),(-10,10)$\n"
   ]
  },
  {
   "cell_type": "code",
   "execution_count": null,
   "metadata": {},
   "outputs": [],
   "source": [
    "pure_graham_algorithm(default_dataset_c)\n"
   ]
  },
  {
   "cell_type": "code",
   "execution_count": null,
   "metadata": {},
   "outputs": [],
   "source": [
    "lines, points, scene_container = graham_algorithm(default_dataset_c, True)\n",
    "plot = Plot(scenes = scene_container, title=\"Algorytm Grahama - zbiór danych C.1\")\n",
    "plot.draw()"
   ]
  },
  {
   "cell_type": "code",
   "execution_count": null,
   "metadata": {},
   "outputs": [],
   "source": [
    "pure_jarvis_algorithm(default_dataset_c)\n"
   ]
  },
  {
   "cell_type": "code",
   "execution_count": null,
   "metadata": {},
   "outputs": [],
   "source": [
    "lines, points, scene_container = jarvis_algorithm(default_dataset_c, True)\n",
    "plot = Plot(scenes = scene_container, title=\"Algorytm Jarvisa - zbiór danych C.1\")\n",
    "plot.draw()"
   ]
  },
  {
   "cell_type": "markdown",
   "metadata": {},
   "source": [
    "#### Zestaw danych C.2\n",
    "- liczba punktów: $1000$\n",
    "- wierzchołki prostokąta: $(0,0),(30,0),(30,40),(0,40)$\n"
   ]
  },
  {
   "cell_type": "code",
   "execution_count": null,
   "metadata": {},
   "outputs": [],
   "source": [
    "dataset_c2 = generate_dataset_c([(0,0),(30,0),(30,40),(0,40)],1000)\n"
   ]
  },
  {
   "cell_type": "code",
   "execution_count": null,
   "metadata": {},
   "outputs": [],
   "source": [
    "pure_graham_algorithm(dataset_c2)\n"
   ]
  },
  {
   "cell_type": "code",
   "execution_count": null,
   "metadata": {},
   "outputs": [],
   "source": [
    "lines, points, scene_container = graham_algorithm(dataset_c2, False)\n",
    "plot = Plot(scenes = scene_container, title=\"Algorytm Grahama - zbiór danych C.2\")\n",
    "plot.draw()"
   ]
  },
  {
   "cell_type": "code",
   "execution_count": null,
   "metadata": {},
   "outputs": [],
   "source": [
    "pure_jarvis_algorithm(dataset_c2)\n"
   ]
  },
  {
   "cell_type": "code",
   "execution_count": null,
   "metadata": {},
   "outputs": [],
   "source": [
    "lines, points, scene_container = jarvis_algorithm(dataset_c2, False)\n",
    "plot = Plot(scenes = scene_container, title=\"Algorytm Jarvisa - zbiór danych C.2\")\n",
    "plot.draw()"
   ]
  },
  {
   "cell_type": "markdown",
   "metadata": {},
   "source": [
    "#### Zestaw danych C.3\n",
    "- liczba punktów: $2500$\n",
    "- wierzchołki prostokąta: $(0,0),(30,0),(30,40),(0,40)$\n"
   ]
  },
  {
   "cell_type": "code",
   "execution_count": null,
   "metadata": {},
   "outputs": [],
   "source": [
    "dataset_c3 = generate_dataset_c([(0,0),(30,0),(30,40),(0,40)],2500)\n"
   ]
  },
  {
   "cell_type": "code",
   "execution_count": null,
   "metadata": {},
   "outputs": [],
   "source": [
    "pure_graham_algorithm(dataset_c3)\n"
   ]
  },
  {
   "cell_type": "code",
   "execution_count": null,
   "metadata": {},
   "outputs": [],
   "source": [
    "lines, points, scene_container = graham_algorithm(dataset_c3, False)\n",
    "plot = Plot(scenes = scene_container, title=\"Algorytm Grahama - zbiór danych C.3\")\n",
    "plot.draw()"
   ]
  },
  {
   "cell_type": "code",
   "execution_count": null,
   "metadata": {},
   "outputs": [],
   "source": [
    "pure_jarvis_algorithm(dataset_c3)\n"
   ]
  },
  {
   "cell_type": "code",
   "execution_count": null,
   "metadata": {},
   "outputs": [],
   "source": [
    "lines, points, scene_container = jarvis_algorithm(dataset_c3, False)\n",
    "plot = Plot(scenes = scene_container, title=\"Algorytm Jarvisa - zbiór danych C.3\")\n",
    "plot.draw()"
   ]
  },
  {
   "cell_type": "markdown",
   "metadata": {},
   "source": [
    "#### Zestaw danych C.4\n",
    "- liczba punktów: $5000$\n",
    "- wierzchołki prostokąta: $(0,0),(30,0),(30,40),(0,40)$\n"
   ]
  },
  {
   "cell_type": "code",
   "execution_count": null,
   "metadata": {},
   "outputs": [],
   "source": [
    "dataset_c4 = generate_dataset_c([(0,0),(30,0),(30,40),(0,40)],5000)\n"
   ]
  },
  {
   "cell_type": "code",
   "execution_count": null,
   "metadata": {},
   "outputs": [],
   "source": [
    "pure_graham_algorithm(dataset_c4)\n"
   ]
  },
  {
   "cell_type": "code",
   "execution_count": null,
   "metadata": {},
   "outputs": [],
   "source": [
    "lines, points, scene_container = graham_algorithm(dataset_c4, False)\n",
    "plot = Plot(scenes = scene_container, title=\"Algorytm Grahama - zbiór danych C.4\")\n",
    "plot.draw()"
   ]
  },
  {
   "cell_type": "code",
   "execution_count": null,
   "metadata": {},
   "outputs": [],
   "source": [
    "pure_jarvis_algorithm(dataset_c4)\n"
   ]
  },
  {
   "cell_type": "code",
   "execution_count": null,
   "metadata": {},
   "outputs": [],
   "source": [
    "lines, points, scene_container = jarvis_algorithm(dataset_c4, False)\n",
    "plot = Plot(scenes = scene_container, title=\"Algorytm Jarvisa - zbiór danych C.4\")\n",
    "plot.draw()"
   ]
  },
  {
   "cell_type": "markdown",
   "metadata": {},
   "source": [
    "#### Zestaw danych C.5\n",
    "- liczba punktów: $10000$\n",
    "- wierzchołki prostokąta: $(0,0),(30,0),(30,40),(0,40)$\n"
   ]
  },
  {
   "cell_type": "code",
   "execution_count": null,
   "metadata": {},
   "outputs": [],
   "source": [
    "dataset_c5 = generate_dataset_c([(0,0),(30,0),(30,40),(0,40)],10000)\n"
   ]
  },
  {
   "cell_type": "code",
   "execution_count": null,
   "metadata": {},
   "outputs": [],
   "source": [
    "pure_graham_algorithm(dataset_c5)\n"
   ]
  },
  {
   "cell_type": "code",
   "execution_count": null,
   "metadata": {},
   "outputs": [],
   "source": [
    "lines, points, scene_container = graham_algorithm(dataset_c5, False)\n",
    "plot = Plot(scenes = scene_container, title=\"Algorytm Grahama - zbiór danych C.5\")\n",
    "plot.draw()"
   ]
  },
  {
   "cell_type": "code",
   "execution_count": null,
   "metadata": {},
   "outputs": [],
   "source": [
    "pure_jarvis_algorithm(dataset_c5)\n"
   ]
  },
  {
   "cell_type": "code",
   "execution_count": null,
   "metadata": {},
   "outputs": [],
   "source": [
    "lines, points, scene_container = jarvis_algorithm(dataset_c5, False)\n",
    "plot = Plot(scenes = scene_container, title=\"Algorytm Jarvisa - zbiór danych C.5\")\n",
    "plot.draw()"
   ]
  },
  {
   "cell_type": "markdown",
   "metadata": {},
   "source": [
    "#### Zestaw danych C.6\n",
    "- liczba punktów: $15000$\n",
    "- wierzchołki prostokąta: $(0,0),(30,0),(30,40),(0,40)$\n"
   ]
  },
  {
   "cell_type": "code",
   "execution_count": null,
   "metadata": {},
   "outputs": [],
   "source": [
    "dataset_c6 = generate_dataset_c([(0,0),(30,0),(30,40),(0,40)],15000)\n"
   ]
  },
  {
   "cell_type": "code",
   "execution_count": null,
   "metadata": {},
   "outputs": [],
   "source": [
    "pure_graham_algorithm(dataset_c6)\n"
   ]
  },
  {
   "cell_type": "code",
   "execution_count": null,
   "metadata": {},
   "outputs": [],
   "source": [
    "lines, points, scene_container = graham_algorithm(dataset_c6, False)\n",
    "plot = Plot(scenes = scene_container, title=\"Algorytm Grahama - zbiór danych C.6\")\n",
    "plot.draw()"
   ]
  },
  {
   "cell_type": "code",
   "execution_count": null,
   "metadata": {},
   "outputs": [],
   "source": [
    "pure_jarvis_algorithm(dataset_c6)\n"
   ]
  },
  {
   "cell_type": "code",
   "execution_count": null,
   "metadata": {},
   "outputs": [],
   "source": [
    "lines, points, scene_container = jarvis_algorithm(dataset_c6, False)\n",
    "plot = Plot(scenes = scene_container, title=\"Algorytm Jarvisa - zbiór danych C.6\")\n",
    "plot.draw()"
   ]
  },
  {
   "cell_type": "markdown",
   "metadata": {},
   "source": [
    "#### Zestaw danych C.7\n",
    "- liczba punktów: $25000$\n",
    "- wierzchołki prostokąta: $(0,0),(30,0),(30,40),(0,40)$\n"
   ]
  },
  {
   "cell_type": "code",
   "execution_count": null,
   "metadata": {},
   "outputs": [],
   "source": [
    "dataset_c7 = generate_dataset_c([(0,0),(30,0),(30,40),(0,40)],25000)\n"
   ]
  },
  {
   "cell_type": "code",
   "execution_count": null,
   "metadata": {},
   "outputs": [],
   "source": [
    "pure_graham_algorithm(dataset_c7)\n"
   ]
  },
  {
   "cell_type": "code",
   "execution_count": null,
   "metadata": {},
   "outputs": [],
   "source": [
    "lines, points, scene_container = graham_algorithm(dataset_c7, False)\n",
    "plot = Plot(scenes = scene_container, title=\"Algorytm Grahama - zbiór danych C.7\")\n",
    "plot.draw()"
   ]
  },
  {
   "cell_type": "code",
   "execution_count": null,
   "metadata": {},
   "outputs": [],
   "source": [
    "pure_jarvis_algorithm(dataset_c7)\n"
   ]
  },
  {
   "cell_type": "code",
   "execution_count": null,
   "metadata": {},
   "outputs": [],
   "source": [
    "lines, points, scene_container = jarvis_algorithm(dataset_c7, False)\n",
    "plot = Plot(scenes = scene_container, title=\"Algorytm Jarvisa - zbiór danych C.7\")\n",
    "plot.draw()"
   ]
  },
  {
   "cell_type": "markdown",
   "metadata": {},
   "source": [
    "#### Zestaw danych C.8\n",
    "- liczba punktów: $50000$\n",
    "- wierzchołki prostokąta: $(0,0),(30,0),(30,40),(0,40)$\n"
   ]
  },
  {
   "cell_type": "code",
   "execution_count": null,
   "metadata": {},
   "outputs": [],
   "source": [
    "dataset_c8 = generate_dataset_c([(0,0),(30,0),(30,40),(0,40)],50000)\n"
   ]
  },
  {
   "cell_type": "code",
   "execution_count": null,
   "metadata": {},
   "outputs": [],
   "source": [
    "pure_graham_algorithm(dataset_c8)\n"
   ]
  },
  {
   "cell_type": "code",
   "execution_count": null,
   "metadata": {},
   "outputs": [],
   "source": [
    "lines, points, scene_container = graham_algorithm(dataset_c8, False)\n",
    "plot = Plot(scenes = scene_container, title=\"Algorytm Grahama - zbiór danych C.8\")\n",
    "plot.draw()"
   ]
  },
  {
   "cell_type": "code",
   "execution_count": null,
   "metadata": {},
   "outputs": [],
   "source": [
    "pure_jarvis_algorithm(dataset_c8)\n"
   ]
  },
  {
   "cell_type": "code",
   "execution_count": null,
   "metadata": {},
   "outputs": [],
   "source": [
    "lines, points, scene_container = jarvis_algorithm(dataset_c8, False)\n",
    "plot = Plot(scenes = scene_container, title=\"Algorytm Jarvisa - zbiór danych C.8\")\n",
    "plot.draw()"
   ]
  },
  {
   "cell_type": "markdown",
   "metadata": {},
   "source": [
    "### Zestaw danych D"
   ]
  },
  {
   "cell_type": "markdown",
   "metadata": {},
   "source": [
    "#### Zestaw danych D.1\n",
    "- liczba punktów na bokach: $25$\n",
    "- liczba punktów na przekątnych: $20$\n",
    "- wierzchołki kwadratu: $(0,0),(10,0),(10,10),(0,10)$\n"
   ]
  },
  {
   "cell_type": "code",
   "execution_count": null,
   "metadata": {},
   "outputs": [],
   "source": [
    "pure_graham_algorithm(default_dataset_d)"
   ]
  },
  {
   "cell_type": "code",
   "execution_count": null,
   "metadata": {},
   "outputs": [],
   "source": [
    "lines, points, scene_container = graham_algorithm(default_dataset_d, True)\n",
    "plot = Plot(scenes = scene_container, title=\"Algorytm Grahama - zbiór danych D.1\")\n",
    "plot.draw()"
   ]
  },
  {
   "cell_type": "code",
   "execution_count": null,
   "metadata": {},
   "outputs": [],
   "source": [
    "pure_jarvis_algorithm(default_dataset_d)"
   ]
  },
  {
   "cell_type": "code",
   "execution_count": null,
   "metadata": {},
   "outputs": [],
   "source": [
    "lines, points, scene_container = jarvis_algorithm(default_dataset_d, True)\n",
    "plot = Plot(scenes = scene_container, title=\"Algorytm Jarvisa - zbiór danych D.1\")\n",
    "plot.draw()"
   ]
  },
  {
   "cell_type": "markdown",
   "metadata": {},
   "source": [
    "#### Zestaw danych D.2\n",
    "- liczba punktów na bokach: $1000$\n",
    "- liczba punktów na przekątnych: $1000$\n",
    "- wierzchołki kwadratu: $(0,0),(30,0),(30,30),(0,30)$\n"
   ]
  },
  {
   "cell_type": "code",
   "execution_count": null,
   "metadata": {},
   "outputs": [],
   "source": [
    "dataset_d2 = generate_dataset_d(1000,1000,[(0,0),(30,0),(30,30),(0,30)])\n"
   ]
  },
  {
   "cell_type": "code",
   "execution_count": null,
   "metadata": {},
   "outputs": [],
   "source": [
    "pure_graham_algorithm(dataset_d2)\n"
   ]
  },
  {
   "cell_type": "code",
   "execution_count": null,
   "metadata": {},
   "outputs": [],
   "source": [
    "lines, points, scene_container = graham_algorithm(dataset_d2, False)\n",
    "plot = Plot(scenes = scene_container, title=\"Algorytm Grahama - zbiór danych D.2\")\n",
    "plot.draw()"
   ]
  },
  {
   "cell_type": "code",
   "execution_count": null,
   "metadata": {},
   "outputs": [],
   "source": [
    "pure_jarvis_algorithm(dataset_d2)\n"
   ]
  },
  {
   "cell_type": "code",
   "execution_count": null,
   "metadata": {},
   "outputs": [],
   "source": [
    "lines, points, scene_container = jarvis_algorithm(dataset_d2, False)\n",
    "plot = Plot(scenes = scene_container, title=\"Algorytm Jarvisa - zbiór danych D.2\")\n",
    "plot.draw()"
   ]
  },
  {
   "cell_type": "markdown",
   "metadata": {},
   "source": [
    "#### Zestaw danych D.3\n",
    "- liczba punktów na bokach: $2500$\n",
    "- liczba punktów na przekątnych: $2500$\n",
    "- wierzchołki kwadratu: $(0,0),(30,0),(30,30),(0,30)$\n"
   ]
  },
  {
   "cell_type": "code",
   "execution_count": null,
   "metadata": {},
   "outputs": [],
   "source": [
    "dataset_d3 = generate_dataset_d(2500,2500,[(0,0),(30,0),(30,30),(0,30)])\n"
   ]
  },
  {
   "cell_type": "code",
   "execution_count": null,
   "metadata": {},
   "outputs": [],
   "source": [
    "pure_graham_algorithm(dataset_d3)\n"
   ]
  },
  {
   "cell_type": "code",
   "execution_count": null,
   "metadata": {},
   "outputs": [],
   "source": [
    "lines, points, scene_container = graham_algorithm(dataset_d3, False)\n",
    "plot = Plot(scenes = scene_container, title=\"Algorytm Grahama - zbiór danych D.3\")\n",
    "plot.draw()"
   ]
  },
  {
   "cell_type": "code",
   "execution_count": null,
   "metadata": {},
   "outputs": [],
   "source": [
    "pure_jarvis_algorithm(dataset_d3)\n"
   ]
  },
  {
   "cell_type": "code",
   "execution_count": null,
   "metadata": {},
   "outputs": [],
   "source": [
    "lines, points, scene_container = jarvis_algorithm(dataset_d3, False)\n",
    "plot = Plot(scenes = scene_container, title=\"Algorytm Jarvisa - zbiór danych D.3\")\n",
    "plot.draw()"
   ]
  },
  {
   "cell_type": "markdown",
   "metadata": {},
   "source": [
    "#### Zestaw danych D.4\n",
    "- liczba punktów na bokach: $5000$\n",
    "- liczba punktów na przekątnych: $5000$\n",
    "- wierzchołki kwadratu: $(0,0),(30,0),(30,30),(0,30)$\n"
   ]
  },
  {
   "cell_type": "code",
   "execution_count": null,
   "metadata": {},
   "outputs": [],
   "source": [
    "dataset_d4 = generate_dataset_d(5000,5000,[(0,0),(30,0),(30,30),(0,30)])\n"
   ]
  },
  {
   "cell_type": "code",
   "execution_count": null,
   "metadata": {},
   "outputs": [],
   "source": [
    "pure_graham_algorithm(dataset_d4)\n"
   ]
  },
  {
   "cell_type": "code",
   "execution_count": null,
   "metadata": {},
   "outputs": [],
   "source": [
    "lines, points, scene_container = graham_algorithm(dataset_d4, False)\n",
    "plot = Plot(scenes = scene_container, title=\"Algorytm Grahama - zbiór danych D.4\")\n",
    "plot.draw()"
   ]
  },
  {
   "cell_type": "code",
   "execution_count": null,
   "metadata": {},
   "outputs": [],
   "source": [
    "pure_jarvis_algorithm(dataset_d4)\n"
   ]
  },
  {
   "cell_type": "code",
   "execution_count": null,
   "metadata": {},
   "outputs": [],
   "source": [
    "lines, points, scene_container = jarvis_algorithm(dataset_d4, False)\n",
    "plot = Plot(scenes = scene_container, title=\"Algorytm Jarvisa - zbiór danych D.4\")\n",
    "plot.draw()"
   ]
  },
  {
   "cell_type": "markdown",
   "metadata": {},
   "source": [
    "#### Zestaw danych D.5\n",
    "- liczba punktów na bokach: $10000$\n",
    "- liczba punktów na przekątnych: $10000$\n",
    "- wierzchołki kwadratu: $(0,0),(30,0),(30,30),(0,30)$\n"
   ]
  },
  {
   "cell_type": "code",
   "execution_count": null,
   "metadata": {},
   "outputs": [],
   "source": [
    "dataset_d5 = generate_dataset_d(10000,10000,[(0,0),(30,0),(30,30),(0,30)])\n"
   ]
  },
  {
   "cell_type": "code",
   "execution_count": null,
   "metadata": {},
   "outputs": [],
   "source": [
    "pure_graham_algorithm(dataset_d5)\n"
   ]
  },
  {
   "cell_type": "code",
   "execution_count": null,
   "metadata": {},
   "outputs": [],
   "source": [
    "lines, points, scene_container = graham_algorithm(dataset_d5, False)\n",
    "plot = Plot(scenes = scene_container, title=\"Algorytm Grahama - zbiór danych D.5\")\n",
    "plot.draw()"
   ]
  },
  {
   "cell_type": "code",
   "execution_count": null,
   "metadata": {},
   "outputs": [],
   "source": [
    "pure_jarvis_algorithm(dataset_d5)\n"
   ]
  },
  {
   "cell_type": "code",
   "execution_count": null,
   "metadata": {},
   "outputs": [],
   "source": [
    "lines, points, scene_container = jarvis_algorithm(dataset_d5, False)\n",
    "plot = Plot(scenes = scene_container, title=\"Algorytm Jarvisa - zbiór danych D.5\")\n",
    "plot.draw()"
   ]
  },
  {
   "cell_type": "markdown",
   "metadata": {},
   "source": [
    "#### Zestaw danych D.6\n",
    "- liczba punktów na bokach: $15000$\n",
    "- liczba punktów na przekątnych: $15000$\n",
    "- wierzchołki kwadratu: $(0,0),(30,0),(30,30),(0,30)$\n"
   ]
  },
  {
   "cell_type": "code",
   "execution_count": null,
   "metadata": {},
   "outputs": [],
   "source": [
    "dataset_d6 = generate_dataset_d(15000,15000,[(0,0),(30,0),(30,30),(0,30)])\n"
   ]
  },
  {
   "cell_type": "code",
   "execution_count": null,
   "metadata": {},
   "outputs": [],
   "source": [
    "pure_graham_algorithm(dataset_d6)\n"
   ]
  },
  {
   "cell_type": "code",
   "execution_count": null,
   "metadata": {},
   "outputs": [],
   "source": [
    "lines, points, scene_container = graham_algorithm(dataset_d6, False)\n",
    "plot = Plot(scenes = scene_container, title=\"Algorytm Grahama - zbiór danych D.6\")\n",
    "plot.draw()"
   ]
  },
  {
   "cell_type": "code",
   "execution_count": null,
   "metadata": {},
   "outputs": [],
   "source": [
    "pure_jarvis_algorithm(dataset_d6)\n"
   ]
  },
  {
   "cell_type": "code",
   "execution_count": null,
   "metadata": {},
   "outputs": [],
   "source": [
    "lines, points, scene_container = jarvis_algorithm(dataset_d6, False)\n",
    "plot = Plot(scenes = scene_container, title=\"Algorytm Jarvisa - zbiór danych D.6\")\n",
    "plot.draw()"
   ]
  },
  {
   "cell_type": "markdown",
   "metadata": {},
   "source": [
    "#### Zestaw danych D.7\n",
    "- liczba punktów na bokach: $25000$\n",
    "- liczba punktów na przekątnych: $25000$\n",
    "- wierzchołki kwadratu: $(0,0),(30,0),(30,30),(0,30)$\n"
   ]
  },
  {
   "cell_type": "code",
   "execution_count": null,
   "metadata": {},
   "outputs": [],
   "source": [
    "dataset_d7 = generate_dataset_d(25000,25000,[(0,0),(30,0),(30,30),(0,30)])\n"
   ]
  },
  {
   "cell_type": "code",
   "execution_count": null,
   "metadata": {},
   "outputs": [],
   "source": [
    "pure_graham_algorithm(dataset_d7)\n"
   ]
  },
  {
   "cell_type": "code",
   "execution_count": null,
   "metadata": {},
   "outputs": [],
   "source": [
    "lines, points, scene_container = graham_algorithm(dataset_d7, False)\n",
    "plot = Plot(scenes = scene_container, title=\"Algorytm Grahama - zbiór danych D.7\")\n",
    "plot.draw()"
   ]
  },
  {
   "cell_type": "code",
   "execution_count": null,
   "metadata": {},
   "outputs": [],
   "source": [
    "pure_jarvis_algorithm(dataset_d7)\n"
   ]
  },
  {
   "cell_type": "code",
   "execution_count": null,
   "metadata": {},
   "outputs": [],
   "source": [
    "lines, points, scene_container = jarvis_algorithm(dataset_d7, False)\n",
    "plot = Plot(scenes = scene_container, title=\"Algorytm Jarvisa - zbiór danych D.7\")\n",
    "plot.draw()"
   ]
  },
  {
   "cell_type": "markdown",
   "metadata": {},
   "source": [
    "#### Zestaw danych D.8\n",
    "- liczba punktów na bokach: $50000$\n",
    "- liczba punktów na przekątnych: $50000$\n",
    "- wierzchołki kwadratu: $(0,0),(30,0),(30,30),(0,30)$\n"
   ]
  },
  {
   "cell_type": "code",
   "execution_count": null,
   "metadata": {},
   "outputs": [],
   "source": [
    "dataset_d8 = generate_dataset_d(50000,50000,[(0,0),(30,0),(30,30),(0,30)])\n"
   ]
  },
  {
   "cell_type": "code",
   "execution_count": null,
   "metadata": {},
   "outputs": [],
   "source": [
    "pure_graham_algorithm(dataset_d8)\n"
   ]
  },
  {
   "cell_type": "code",
   "execution_count": null,
   "metadata": {},
   "outputs": [],
   "source": [
    "lines, points, scene_container = graham_algorithm(dataset_d8, False)\n",
    "plot = Plot(scenes = scene_container, title=\"Algorytm Grahama - zbiór danych D.8\")\n",
    "plot.draw()"
   ]
  },
  {
   "cell_type": "code",
   "execution_count": null,
   "metadata": {
    "scrolled": false
   },
   "outputs": [],
   "source": [
    "pure_jarvis_algorithm(dataset_d8)\n"
   ]
  },
  {
   "cell_type": "code",
   "execution_count": null,
   "metadata": {},
   "outputs": [],
   "source": [
    "lines, points, scene_container = jarvis_algorithm(dataset_d8, False)\n",
    "plot = Plot(scenes = scene_container, title=\"Algorytm Jarvisa - zbiór danych D.8\")\n",
    "plot.draw()"
   ]
  }
 ],
 "metadata": {
  "kernelspec": {
   "display_name": "Python 3",
   "language": "python",
   "name": "python3"
  },
  "language_info": {
   "codemirror_mode": {
    "name": "ipython",
    "version": 3
   },
   "file_extension": ".py",
   "mimetype": "text/x-python",
   "name": "python",
   "nbconvert_exporter": "python",
   "pygments_lexer": "ipython3",
   "version": "3.11.1 (v3.11.1:a7a450f84a, Dec  6 2022, 15:24:06) [Clang 13.0.0 (clang-1300.0.29.30)]"
  },
  "vscode": {
   "interpreter": {
    "hash": "1a1af0ee75eeea9e2e1ee996c87e7a2b11a0bebd85af04bb136d915cefc0abce"
   }
  }
 },
 "nbformat": 4,
 "nbformat_minor": 1
}
