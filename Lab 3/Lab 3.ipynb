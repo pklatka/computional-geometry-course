{
 "cells": [
  {
   "cell_type": "markdown",
   "metadata": {
    "collapsed": true
   },
   "source": [
    "# Laboratorium nr 3"
   ]
  },
  {
   "cell_type": "markdown",
   "metadata": {},
   "source": [
    "## Konfiguracja"
   ]
  },
  {
   "cell_type": "markdown",
   "metadata": {},
   "source": [
    "\n",
    "Poniższe narzędzie zostało zmodyfikowane, tak aby można było z niego korzystać w nowszych IDE, które nie wspierają `%matplotlib notebook`.\n",
    "Aby korzystać z `%matplotlib widget` należy doinstalować pakiet `ipympl` np. za pomocą polecenia `pip install ipympl`. Jeżeli po zainstalowaniu będą występować błędy, należy korzystać z backendu `notebook`.\n",
    "\n",
    "Wykorzystywane biblioteki:\n",
    "- matplotlib\n",
    "- numpy\n",
    "- ipympl\n",
    "\n",
    "Nowe funkcje:\n",
    "- Dodanie do konstruktora klasy Scene argumentu `title`, który pozwala na ustawienie tytułu danej sceny\n",
    "- Dodanie do konstruktora klasy Plot argumentu `title`, który pozwala na ustawienie tytułu wykresu / okna widżetu\n",
    "- Dodanie możliwości definiowania własnych zakresów osi OX oraz OY dla wykresów (argumenty klasy Plot: `xlim` oraz `ylim` jako krotka dwuelementowa definiująca przedział, gdy zostanie podany tylko zakres dla jednej osi, druga oś będzie automatycznie skalowana)\n",
    "\n",
    "Naprawione bugi:\n",
    "- Naprawiono problem, gdy po utworzeniu nowego pustego wykresu, tworzyła się kopia poprzednio utworzonego (kopiowały się sceny z ostatniego obiektu plot)\n",
    "- Poprawiono metodę zamykania figur (tworzony jest okrąg o środku pierwszego punktu i promieniu adekwatnym do zakresów osi)\n",
    "- Nowo dodane figury, punkty, linie są zapisywane osobno dla każdej sceny\n",
    "- Zmieniono wyświetlanie się punktów i linii (punkty wyświetlają się przed liniami)\n"
   ]
  },
  {
   "cell_type": "code",
   "execution_count": null,
   "metadata": {},
   "outputs": [],
   "source": [
    "# Wybór backendu matplotlib\n",
    "# %matplotlib notebook\n",
    "%matplotlib widget\n",
    "\n",
    "# Narzędzie jest oparte o kilka zewnętrznych bibliotek, które potrzebujemy najpierw zaimportować.\n",
    "import numpy as np\n",
    "import matplotlib.pyplot as plt\n",
    "import matplotlib.collections as mcoll\n",
    "import matplotlib.colors as mcolors\n",
    "from matplotlib.widgets import Button\n",
    "import json as js\n",
    "\n",
    "# Parametr określający jak blisko (w odsetku całego widocznego zakresu) punktu początkowego \n",
    "# wielokąta musimy kliknąć, aby go zamknąć.\n",
    "TOLERANCE = 0.02\n",
    "\n",
    "def dist(point1, point2):\n",
    "    return np.sqrt(np.power(point1[0] - point2[0], 2) + np.power(point1[1] - point2[1], 2))\n",
    "\n",
    "# Klasa ta trzyma obecny stan wykresu oraz posiada metody, które mają zostać wykonane\n",
    "# po naciśnięciu przycisków.\n",
    "class _Button_callback(object):\n",
    "    def __init__(self, scenes, xlim=[], ylim=[]):\n",
    "        self.i = 0\n",
    "        self.scenes = scenes\n",
    "        self.adding_points = False\n",
    "        self.added_points = [[] for _ in range(len(scenes))]\n",
    "        self.adding_lines = False\n",
    "        self.added_lines = [[] for _ in range(len(scenes))]\n",
    "        self.adding_rects = False\n",
    "        self.added_rects = [[] for _ in range(len(scenes))]\n",
    "        # DODANO: zapisz tytuł sceny\n",
    "        self.scene_title = self.scenes[0].title if len(self.scenes) and self.scenes[0].title else \"\"\n",
    "        # DODANO: ustawienie zakresów osi wykresu\n",
    "        self.xlim = xlim\n",
    "        self.ylim = ylim\n",
    "        self.custom_axis = len(xlim) != 0 or len(ylim) != 0\n",
    "\n",
    "    def set_axes(self, ax):\n",
    "        self.ax = ax\n",
    "        \n",
    "    # Metoda ta obsługuje logikę przejścia do następnej sceny.\n",
    "    def next(self, event):\n",
    "        self.i = (self.i + 1) % len(self.scenes)\n",
    "        # ADDED: Change scene title\n",
    "        self.scene_title = self.scenes[self.i].title\n",
    "        self.draw(autoscaling = not self.custom_axis)\n",
    "\n",
    "    # Metoda ta obsługuje logikę powrotu do poprzedniej sceny.\n",
    "    def prev(self, event):\n",
    "        self.i = (self.i - 1) % len(self.scenes)\n",
    "        # ADDED: Change scene title\n",
    "        self.scene_title = self.scenes[self.i].title\n",
    "        self.draw(autoscaling = not self.custom_axis)\n",
    "        \n",
    "    # Metoda ta aktywuje funkcję rysowania punktów wyłączając równocześnie rysowanie \n",
    "    # odcinków i wielokątów.\n",
    "    def add_point(self, event):\n",
    "        self.adding_points = not self.adding_points\n",
    "        self.new_line_point = None\n",
    "        if self.adding_points:\n",
    "            self.adding_lines = False\n",
    "            self.adding_rects = False\n",
    "            self.added_points[self.i].append(PointsCollection([]))\n",
    "            \n",
    "    # Metoda ta aktywuje funkcję rysowania odcinków wyłączając równocześnie\n",
    "    # rysowanie punktów i wielokątów.     \n",
    "    def add_line(self, event):   \n",
    "        self.adding_lines = not self.adding_lines\n",
    "        self.new_line_point = None\n",
    "        if self.adding_lines:\n",
    "            self.adding_points = False\n",
    "            self.adding_rects = False\n",
    "            self.added_lines[self.i].append(LinesCollection([]))\n",
    "\n",
    "    # Metoda ta aktywuje funkcję rysowania wielokątów wyłączając równocześnie\n",
    "    # rysowanie punktów i odcinków.\n",
    "    def add_rect(self, event):\n",
    "        self.adding_rects = not self.adding_rects\n",
    "        self.new_line_point = None\n",
    "        if self.adding_rects:\n",
    "            self.adding_points = False\n",
    "            self.adding_lines = False\n",
    "            self.new_rect()\n",
    "    \n",
    "    def new_rect(self):\n",
    "        self.added_rects[self.i].append(LinesCollection([]))\n",
    "        self.rect_points = []\n",
    "        \n",
    "    # Metoda ta zwraca punkty dodane w trakcie rysowania.\n",
    "    def get_added_points(self):\n",
    "        return self.added_points[self.i]\n",
    "    \n",
    "    # Metoda ta zwraca odcinki dodane w trakcie rysowania.\n",
    "    def get_added_lines(self):\n",
    "        return self.added_lines[self.i]\n",
    "        \n",
    "    # Metoda ta zwraca wielokąty dodane w trakcie rysowania.\n",
    "    def get_added_figure(self):\n",
    "        return self.added_rects[self.i]\n",
    "  \n",
    "    # Metoda ta zwraca punkty, odcinki i wielokąty dodane w trakcie rysowania\n",
    "    # jako scenę.\n",
    "    def get_added_elements(self):\n",
    "        return Scene(self.added_points[self.i], self.added_lines[self.i]+self.added_rects[self.i])\n",
    "\n",
    "\n",
    "    # Metoda odpowiedzialna za właściwą logikę rysowania nowych elementów. W\n",
    "    # zależności od włączonego trybu dodaje nowe punkty, początek, koniec odcinka\n",
    "    # lub poszczególne wierzchołki wielokąta. Istnieje ciekawa logika sprawdzania\n",
    "    # czy dany punkt jest domykający dla danego wielokąta. Polega ona na tym, że\n",
    "    # sprawdzamy czy odległość nowego punktu od początkowego jest większa od\n",
    "    # średniej długości zakresu pomnożonej razy parametr TOLERANCE.   \n",
    "    def on_click(self, event):\n",
    "        if event.inaxes != self.ax:\n",
    "            return\n",
    "        new_point = (event.xdata, event.ydata)\n",
    "        if self.adding_points:\n",
    "            self.added_points[self.i][-1].add_points([new_point])\n",
    "            self.draw(autoscaling = False,hand_drawing=True)\n",
    "        elif self.adding_lines:\n",
    "            if self.new_line_point is not None:\n",
    "                self.added_lines[self.i][-1].add([self.new_line_point, new_point])\n",
    "                self.new_line_point = None\n",
    "                self.draw(autoscaling = False,hand_drawing=True)\n",
    "            else:\n",
    "                self.new_line_point = new_point\n",
    "        elif self.adding_rects:\n",
    "            if len(self.rect_points) == 0:\n",
    "                self.rect_points.append(new_point)\n",
    "            elif len(self.rect_points) == 1:\n",
    "                self.added_rects[self.i][-1].add((self.rect_points[-1], new_point))\n",
    "                self.rect_points.append(new_point)\n",
    "                self.draw(autoscaling = False,hand_drawing=True)\n",
    "            elif len(self.rect_points) > 1:\n",
    "                # DODANO: zmiana metody wykrywania zakończenia figury.\n",
    "                # Teraz punkt self.rect_points[0] jest środkiem okręgu o promieniu TOLERANCE*(mediana zakresów wykresu)\n",
    "                # Gdy użytkownik kliknie w obrębie tego okręgu, figura zostanie zamknięta\n",
    "                if (new_point[0] - self.rect_points[0][0]) ** 2 + (new_point[1] - self.rect_points[0][1]) ** 2 <= (np.mean([self.ax.get_xlim()[1] - self.ax.get_xlim()[0], self.ax.get_ylim()[1]-self.ax.get_ylim()[0]])*TOLERANCE) ** 2:\n",
    "                    self.added_rects[self.i][-1].add((self.rect_points[-1], self.rect_points[0]))\n",
    "                    self.new_rect()\n",
    "                else:    \n",
    "                    self.added_rects[self.i][-1].add((self.rect_points[-1], new_point))\n",
    "                    self.rect_points.append(new_point)\n",
    "                self.draw(autoscaling = False, hand_drawing=True)\n",
    "    \n",
    "    # Metoda odpowiedzialna za narysowanie całego wykresu. Warto zauważyć,\n",
    "    # że zaczyna się ona od wyczyszczenia jego wcześniejszego stanu. Istnieje w\n",
    "    # niej nietrywialna logika zarządzania zakresem wykresu, tak żeby, w zależności\n",
    "    # od ustawionego parametru autoscaling, uniknąć sytuacji, kiedy dodawanie\n",
    "    # nowych punktów przy brzegu obecnie widzianego zakresu powoduje niekorzystne\n",
    "    # przeskalowanie.\n",
    "    def draw(self, autoscaling = True, hand_drawing = False):\n",
    "        # DODANO: ustawienie zakresów osi wykresu\n",
    "        autoscale_axis='both'\n",
    "        if not autoscaling:\n",
    "            if self.custom_axis:\n",
    "                xlim = self.xlim  \n",
    "                ylim = self.ylim  \n",
    "\n",
    "            choose_autoscale_axis = [False, False] # [OX, OY]\n",
    "\n",
    "            if not self.custom_axis or not self.xlim:\n",
    "                xlim = self.ax.get_xlim()\n",
    "                choose_autoscale_axis[0] = True\n",
    "            \n",
    "            if not self.custom_axis or not self.ylim:\n",
    "                ylim = self.ax.get_ylim()\n",
    "                choose_autoscale_axis[1] = True\n",
    "\n",
    "            if choose_autoscale_axis == [True, False]:\n",
    "                autoscale_axis = 'x'\n",
    "                autoscaling = not hand_drawing\n",
    "            if choose_autoscale_axis == [False, True]:\n",
    "                autoscale_axis = 'y'\n",
    "                autoscaling = not hand_drawing\n",
    "\n",
    "        self.ax.clear()\n",
    "        for collection in (self.scenes[self.i].points + self.added_points[self.i]):\n",
    "            if len(collection.points) > 0:\n",
    "                self.ax.scatter(*zip(*(np.array(collection.points))), **collection.kwargs, zorder=3)\n",
    "        for collection in (self.scenes[self.i].lines + self.added_lines[self.i] + self.added_rects[self.i]):\n",
    "            self.ax.add_collection(collection.get_collection())\n",
    "        self.ax.autoscale(enable=autoscaling, axis=autoscale_axis)\n",
    "\n",
    "        if autoscale_axis == 'y':\n",
    "            self.ax.set_xlim(xlim)\n",
    "\n",
    "        if autoscale_axis == 'x':\n",
    "            self.ax.set_ylim(ylim)\n",
    "      \n",
    "        if not autoscaling:\n",
    "            self.ax.set_xlim(xlim)\n",
    "            self.ax.set_ylim(ylim)\n",
    "            \n",
    "        # DODANO: tytuł sceny\n",
    "        fig = plt.gcf() # Pobierz aktywne okno\n",
    "        fig.suptitle(self.scene_title)\n",
    "        \n",
    "        plt.draw()\n"
   ]
  },
  {
   "cell_type": "markdown",
   "metadata": {},
   "source": [
    "### Interfejsy\n",
    "\n",
    "[Dostępne kolory](https://matplotlib.org/3.1.1/gallery/color/named_colors.html)\n",
    "\n",
    "[Dostępne znaczniki punktów](https://matplotlib.org/3.1.1/api/markers_api.html#module-matplotlib.markers)"
   ]
  },
  {
   "cell_type": "code",
   "execution_count": null,
   "metadata": {},
   "outputs": [],
   "source": [
    "# Klasa Scene odpowiada za przechowywanie elementów, które mają być\n",
    "# wyświetlane równocześnie. Konkretnie jest to lista PointsCollection i\n",
    "# LinesCollection.\n",
    "class Scene:\n",
    "    def __init__(self, points=[], lines=[], title=\"\"):\n",
    "        self.points=points\n",
    "        self.lines=lines\n",
    "        # ADDED: Scene title\n",
    "        self.title = '\\n'+title if title != \"\" else \"\"\n",
    "\n",
    "# Klasa PointsCollection gromadzi w sobie punkty jednego typu, a więc takie,\n",
    "# które zostaną narysowane w takim samym kolorze i stylu. W konstruktorze\n",
    "# przyjmuje listę punktów rozumianych jako pary współrzędnych (x, y). Parametr\n",
    "# kwargs jest przekazywany do wywołania funkcji z biblioteki MatPlotLib przez\n",
    "# co użytkownik może podawać wszystkie parametry tam zaproponowane.        \n",
    "class PointsCollection:\n",
    "    def __init__(self, points, **kwargs):\n",
    "        self.points = points\n",
    "        self.kwargs = kwargs\n",
    "    \n",
    "    def add_points(self, points):\n",
    "        self.points = self.points + points\n",
    "\n",
    "# Klasa LinesCollection podobnie jak jej punktowy odpowiednik gromadzi\n",
    "# odcinki tego samego typu. Tworząc ją należy podać listę linii, gdzie każda\n",
    "# z nich jest dwuelementową listą punktów – par (x, y). Parametr kwargs jest\n",
    "# przekazywany do wywołania funkcji z biblioteki MatPlotLib przez co użytkownik\n",
    "# może podawać wszystkie parametry tam zaproponowane.\n",
    "class LinesCollection:\n",
    "    def __init__(self, lines, **kwargs):\n",
    "        self.lines = lines\n",
    "        self.kwargs = kwargs\n",
    "        \n",
    "    def add(self, line):\n",
    "        self.lines.append(line)\n",
    "        \n",
    "    def get_collection(self):\n",
    "        return mcoll.LineCollection(self.lines, **self.kwargs)\n",
    "\n",
    "# Klasa Plot jest najważniejszą klasą w całym programie, ponieważ agreguje\n",
    "# wszystkie przygotowane sceny, odpowiada za stworzenie wykresu i przechowuje\n",
    "# referencje na przyciski, dzięki czemu nie będą one skasowane podczas tzw.\n",
    "# garbage collectingu.\n",
    "class Plot:\n",
    "    def __init__(self, scenes = [], points = [], lines = [], json = None, title=\"\", xlim=[], ylim=[]):\n",
    "        # DODANO: tytuł wykresu\n",
    "        self.plot_title = title\n",
    "        # DODANO: ustawienie zakresów osi wykresu\n",
    "        self.xlim = xlim\n",
    "        self.ylim = ylim\n",
    "        self.is_not_custom_axis = len(xlim)==0 and len(ylim)==0\n",
    "\n",
    "        # NAPRAWIONO: pobieranie scen z wcześniej utworzonego wykresu\n",
    "        if not scenes:\n",
    "            self.scenes = [Scene()]\n",
    "        else:\n",
    "            self.scenes = scenes\n",
    "\n",
    "        if json is None:\n",
    "            if points or lines:\n",
    "                self.scenes[0].points = points\n",
    "                self.scenes[0].lines = lines\n",
    "        else:\n",
    "            self.scenes = [Scene([PointsCollection(pointsCol) for pointsCol in scene[\"points\"]], \n",
    "                                 [LinesCollection(linesCol) for linesCol in scene[\"lines\"]], title=scene[\"title\"]) \n",
    "                           for scene in js.loads(json)]\n",
    "    \n",
    "    # Ta metoda ma szczególne znaczenie, ponieważ konfiguruje przyciski i\n",
    "    # wykonuje tym samym dość skomplikowaną logikę. Zauważmy, że konfigurując każdy\n",
    "    # przycisk podajemy referencję na metodę obiektu _Button_callback, która\n",
    "    # zostanie wykonana w momencie naciśnięcia.\n",
    "    def __configure_buttons(self):\n",
    "        plt.subplots_adjust(bottom=0.2)\n",
    "        ax_prev = plt.axes([0.6, 0.05, 0.15, 0.075])\n",
    "        ax_next = plt.axes([0.76, 0.05, 0.15, 0.075])\n",
    "        ax_add_point = plt.axes([0.44, 0.05, 0.15, 0.075])\n",
    "        ax_add_line = plt.axes([0.28, 0.05, 0.15, 0.075])\n",
    "        ax_add_rect = plt.axes([0.12, 0.05, 0.15, 0.075])\n",
    "        b_next = Button(ax_next, 'Następny')\n",
    "        b_next.on_clicked(self.callback.next)\n",
    "        b_prev = Button(ax_prev, 'Poprzedni')\n",
    "        b_prev.on_clicked(self.callback.prev)\n",
    "        b_add_point = Button(ax_add_point, 'Dodaj punkt')\n",
    "        b_add_point.on_clicked(self.callback.add_point)\n",
    "        b_add_line = Button(ax_add_line, 'Dodaj linię')\n",
    "        b_add_line.on_clicked(self.callback.add_line)\n",
    "        b_add_rect = Button(ax_add_rect, 'Dodaj figurę')\n",
    "        b_add_rect.on_clicked(self.callback.add_rect)\n",
    "        return [b_prev, b_next, b_add_point, b_add_line, b_add_rect]\n",
    "    \n",
    "    def add_scene(self, scene):\n",
    "        self.scenes.append(scene)\n",
    "    \n",
    "    def add_scenes(self, scenes):\n",
    "        self.scenes = self.scenes + scenes\n",
    "\n",
    "    # Metoda toJson() odpowiada za zapisanie stanu obiektu do ciągu znaków w\n",
    "    # formacie JSON.\n",
    "    def toJson(self):\n",
    "        return js.dumps([{\"points\": [np.array(pointCol.points).tolist() for pointCol in scene.points], \n",
    "                          \"lines\":[linesCol.lines for linesCol in scene.lines],\n",
    "                          \"title\": scene.title[1:]} \n",
    "                         for scene in self.scenes])    \n",
    "    \n",
    "    # Metoda ta zwraca punkty dodane w trakcie rysowania.\n",
    "    def get_added_points(self):\n",
    "        if self.callback:\n",
    "            result = self.callback.get_added_points()\n",
    "            return result\n",
    "    \n",
    "    # Metoda ta zwraca odcinki dodane w trakcie rysowania.\n",
    "    def get_added_lines(self):\n",
    "        if self.callback:\n",
    "            result = self.callback.get_added_lines()\n",
    "            return result\n",
    "\n",
    "    # Metoda ta zwraca wielokąty dodane w trakcie rysowania.\n",
    "    def get_added_figure(self):\n",
    "        if self.callback:\n",
    "            result = self.callback.get_added_figure()\n",
    "            return result\n",
    "\n",
    "    # Metoda ta zwraca punkty, odcinki i wielokąty dodane w trakcie rysowania\n",
    "    # jako scenę.\n",
    "    def get_added_elements(self):\n",
    "        if self.callback:\n",
    "            result = self.callback.get_added_elements()\n",
    "            return result\n",
    "\n",
    "    # Główna metoda inicjalizująca wyświetlanie wykresu.\n",
    "    def draw(self):\n",
    "        plt.close()\n",
    "        # DODANO: tytuł wykresu\n",
    "        fig = plt.figure(num=self.plot_title)\n",
    "        # DODANO: ustawienie zakresów osi wykresu\n",
    "        self.callback = _Button_callback(self.scenes, self.xlim, self.ylim)\n",
    "        self.widgets = self.__configure_buttons()\n",
    "        ax = plt.axes(autoscale_on = False)\n",
    "        self.callback.set_axes(ax)\n",
    "        fig.canvas.mpl_connect('button_press_event', self.callback.on_click)\n",
    "        plt.show()\n",
    "        # DODANO: ustawienie zakresów osi wykresu\n",
    "        self.callback.draw(self.is_not_custom_axis)\n",
    "        "
   ]
  },
  {
   "cell_type": "markdown",
   "metadata": {},
   "source": [
    "### Przykłady użycia"
   ]
  },
  {
   "cell_type": "markdown",
   "metadata": {},
   "source": [
    "##### Proste rysowanie\n",
    "\n",
    "Rysowanie prostego rysunku złożonego ze statycznych punktów i odcinków jest stosunkowo proste. Należy utworzyć zmienną z obiektem `Plot`, który przyjmuje w konstruktorze listę obiektów `PointsCollection` jako parametr `points` oraz listę `LinesCollection` jako parametr `lines`. Następnie należy wywołać jego metodę `draw()`.\n",
    "\n",
    "```python\n",
    "plot = Plot(points=[PointsCollection([(1, 2), (3, 1.5), (2, -1)]),\n",
    "               PointsCollection([(5, -2), (2, 2), (-2, -1)], color='green', marker = \"^\")],\n",
    "            lines=[LinesCollection([[(1,2),(2,3)], [(0,1),(1,0)]])])\n",
    "plot.draw()     \n",
    "```"
   ]
  },
  {
   "cell_type": "markdown",
   "metadata": {},
   "source": [
    "##### Rysunek dynamiczny\n",
    "\n",
    "To narzędzie pozwala na wizualizację \"rysunków dynamicznych\", a więc takich, które składają się z wielu różnych obrazów. Może to być przydatne np. podczas wizualizacji kolejnych kroków danego algorytmu. Poszczególne klatki określane są jako obiekty `Scene`, które przyjmują listę `PointsCollection` oraz listę `LinesCollection` w swoim konstruktorze. Obiekt `Plot` przyjmuje w parametrze konstruktora `scenes` właśnie listę takich scen.\n",
    "\n",
    "Na rysunku przyciski `Następny` i `Poprzedni` służą do nawigacji pomiędzy nimi.\n",
    "\n",
    "```python\n",
    "scenes=[Scene([PointsCollection([(1, 2), (3, 1.5), (2, -1)]), \n",
    "               PointsCollection([(5, -2), (2, 2), (-2, -1)], color='green', marker = \"^\")], \n",
    "              [LinesCollection([[(1,2),(2,3)], [(0,1),(1,0)]])], \"Scene 1\"), \n",
    "        Scene([PointsCollection([(1, 2), (3, 1.5), (2, -1)], color='red'), \n",
    "               PointsCollection([(5, -2), (2, 2), (-2, 1)], color='black')], \n",
    "              [LinesCollection([[(-1,2),(-2,3)], [(0,-1),(-1,0)]])],\"Scene 2\")]\n",
    "\n",
    "plot=Plot(scenes = scenes)\n",
    "plot.draw()\n",
    "```"
   ]
  },
  {
   "cell_type": "markdown",
   "metadata": {},
   "source": [
    "##### Zapis i odczyt z pliku\n",
    "\n",
    "Klasa Plot posiada metodę `toJson()`, która zwraca string zawierający listę scen w formacie JSON. Taki string można normalnie zapisać do pliku stosując normalne sposoby dostępne w Pythonie. Wczytanie listy scen z pliku dokonuje się poprzez podanie parametru `json` w kostruktorze `Plot`.\n",
    "\n",
    "```python\n",
    "scenes=[Scene([PointsCollection([(-2, -1)], color='green', marker = \"^\")], \n",
    "              [LinesCollection([[(1,2),(2,3)], [(0,1),(1,0)]])]), \n",
    "        Scene([PointsCollection([(1, 2), (3, 1.5)], color='red'), \n",
    "               PointsCollection([(5, -2)], color='black')])]\n",
    "plot = Plot(scenes)\n",
    "\n",
    "with open('somefile.json', 'w') as file:\n",
    "    file.write(plot.toJson())\n",
    "    \n",
    "#somefile.json: [{\"points\": [[[-2, -1]]], \"lines\": [[[[1, 2], [2, 3]], [[0, 1], [1, 0]]]]}, {\"points\": [[[1.0, 2.0], [3.0, 1.5]], [[5, -2]]], \"lines\": []}]\n",
    "    \n",
    "with open('somefile.json', 'r') as file:\n",
    "    json = file.read()\n",
    "    \n",
    "plot2 = Plot(json=json)\n",
    "plot2.draw()\n",
    "```"
   ]
  },
  {
   "cell_type": "markdown",
   "metadata": {},
   "source": [
    "##### Operowanie na dodanych punktach\n",
    "\n",
    "Możemy bardzo łatwo rysować nowe punkty i linie. Aby je później wykorzystać sugerowanym sposobem jest utworzenie nowej komórki, w której utworzymy nowy `Plot` i skorzystamy z metod `get_added_points()` i `get_added_points()` lub `get_added_elements()` (zwraca scenę) z pierwszego `Plot`u.\n",
    "\n",
    "```python \n",
    "#Dodaj tu punkty, figury i/lub odcinki!\n",
    "plot1 = Plot(points=[PointsCollection([(-2,-1),(5,3)], color='red')])\n",
    "plot1.draw()\n",
    "\n",
    "plot2 = Plot([plot1.get_added_elements()])\n",
    "plot2.draw()\n",
    "```"
   ]
  },
  {
   "cell_type": "markdown",
   "metadata": {},
   "source": [
    "## Funkcje pomocnicze"
   ]
  },
  {
   "cell_type": "code",
   "execution_count": null,
   "metadata": {},
   "outputs": [],
   "source": [
    "from collections import deque\n",
    "from copy import deepcopy\n",
    "\n",
    "def save_plot(plot: Plot) -> None:\n",
    "    filename = plot.plot_title if plot.plot_title != \"\" else \"somefile\"\n",
    "    with open(f\"{filename}.json\", 'w') as file:\n",
    "        file.write(plot.toJson())\n",
    "\n",
    "def load_plot(filename: str) -> Plot:\n",
    "    try:\n",
    "        with open(f\"{filename}.json\", 'r') as file:\n",
    "            json = file.read()\n",
    "        print(json)\n",
    "        plot = Plot(json=json)\n",
    "        return plot, True\n",
    "    except FileNotFoundError:\n",
    "        return None, False\n",
    "\n",
    "def det3x3(a: tuple[float, float],b: tuple[float, float],c: tuple[float, float]) -> float:\n",
    "    matrix = [[],[],[]]\n",
    "    matrix[0] = [a[0], a[1], 1]\n",
    "    matrix[1] = [b[0], b[1], 1]\n",
    "    matrix[2] = [c[0], c[1], 1]\n",
    "\n",
    "    f1 = matrix[0][0] * matrix[1][1] * matrix[2][2]\n",
    "    f2 = matrix[0][1] * matrix[1][2] * matrix[2][0]\n",
    "    f3 = matrix[1][0] * matrix[2][1] * matrix[0][2]\n",
    "    f4 = matrix[0][2] * matrix[1][1] * matrix[2][0]\n",
    "    f5 = matrix[1][2] * matrix[2][1] * matrix[0][0]\n",
    "    f6 = matrix[1][0] * matrix[0][1] * matrix[2][2]\n",
    "    return f1+f2+f3-f4-f5-f6\n",
    "    \n",
    "def point_position(a: tuple[float, float],b: tuple[float, float], c: tuple[float,float], epsilon: float = 1e-10) -> int:\n",
    "    \"\"\" Retruns position of point c relative to vector ab.\n",
    "\n",
    "    :param tuple[float, float] a: first coordinate of vector ab  \n",
    "    :param tuple[float, float] b: second coordinate of vector ab  \n",
    "    :param tuple[float, float] c: tested point\n",
    "    :param float epsilon: zero tolerance for determinant\n",
    "    :return int: position of tested point as value of a dict: {'left' : 1, 'right': -1, 'collinear': 0}\n",
    "    \"\"\"\n",
    "\n",
    "    determinant = det3x3(a,b,c)\n",
    "\n",
    "    if determinant < -epsilon:\n",
    "        return -1\n",
    "    elif determinant <= epsilon:\n",
    "        return 0\n",
    "    else:\n",
    "        return 1\n",
    "\n",
    "\n",
    "class Polygon:\n",
    "    \"\"\"Class representing polygons. Uses set data structure for faster finding duplicates.\n",
    "    \"\"\"\n",
    "    def __init__(self, lines: list[LinesCollection]=[]):\n",
    "        self.lines = []\n",
    "        self.points = []\n",
    "        self.lines_set = set()\n",
    "        self.points_set = set()\n",
    "        self.points_index = {}\n",
    "        self.points_dict = {}\n",
    "        self.added_diagonals = []\n",
    "\n",
    "        if len(lines) > 0:\n",
    "            self.read_lines(lines[0])\n",
    "\n",
    "    def save_triangulation(self, filename=\"triangulation\"):\n",
    "        if len(self.points) > 0 and len(self.added_diagonals) > 0 and len(self.lines) > 0:\n",
    "            indexed_lines = set()\n",
    "            for line in self.lines:\n",
    "                a1 = self.points.index(line[0])\n",
    "                a2 = self.points.index(line[1])\n",
    "                indexed_lines.add((min(a1,a2), max(a1,a2)))\n",
    "            for line in self.added_diagonals:\n",
    "                a1 = self.points.index(line[0])\n",
    "                a2 = self.points.index(line[1])\n",
    "                indexed_lines.add((min(a1,a2), max(a1,a2)))\n",
    "\n",
    "            indexed_lines = list(indexed_lines)\n",
    "            \n",
    "            # Save to file \n",
    "            serialized_json = js.dumps({\"points\": self.points, \"lines\": indexed_lines})   \n",
    "            with open(f\"{filename}.json\",'w') as f:\n",
    "                f.write(serialized_json)\n",
    "                \n",
    "        else:\n",
    "            print(\"Nie striangulowano wielokąta!\")\n",
    "\n",
    "    def read_lines(self, lines: LinesCollection):\n",
    "        for line in lines.lines:\n",
    "            self.add_line(((line[0][0], line[0][1]),(line[1][0],line[1][1])))\n",
    "\n",
    "    def add_line(self, line: tuple[tuple[float,float], tuple[float,float]]) -> bool:\n",
    "        if line in self.lines_set:\n",
    "            return False\n",
    "\n",
    "        # Check if points are neighbours\n",
    "        if line[0] in self.points_index and line[1] in self.points_index:\n",
    "            i1 = self.points_index[line[0]]\n",
    "            i2 = self.points_index[line[1]]\n",
    "            if abs(i1-i2) == 1 or (i1 == len(self.points)-1 and i2==0) or (i2 == len(self.points)-1 and i1 == 0):\n",
    "                return False\n",
    "\n",
    "        self.lines.append(line)\n",
    "        self.lines_set.add(line)\n",
    "        return True\n",
    "\n",
    "    def add_point(self, point: tuple[float,float], index, color=\"black\") -> bool:\n",
    "        if point in self.points_set:\n",
    "            return False\n",
    "        self.points.append(point)\n",
    "        self.points_set.add(point)\n",
    "        self.points_index[point] = index\n",
    "        \n",
    "        if color not in self.points_dict:\n",
    "            self.points_dict[color] = PointsCollection([point], color=color)\n",
    "        else:\n",
    "            self.points_dict[color].points.append(point)\n",
    "        \n",
    "        return True\n",
    "\n",
    "    def get_lines(self, copy=False):\n",
    "        if copy:\n",
    "            return LinesCollection(self.lines[:], linewidths=0.5, color=\"black\")\n",
    "        return LinesCollection(self.lines, linewidths=0.5, color=\"black\")\n",
    "\n",
    "    def get_points(self):\n",
    "        return [self.points_dict[color] for color in self.points_dict]\n"
   ]
  },
  {
   "cell_type": "markdown",
   "metadata": {},
   "source": [
    "## Algorytm wykrywania y-monotonicznej figury"
   ]
  },
  {
   "cell_type": "code",
   "execution_count": null,
   "metadata": {},
   "outputs": [],
   "source": [
    "def is_polygon_y_monotonic(polygon: Polygon) -> bool:\n",
    "    \"\"\" Checks if polygon is y-monotonic.\n",
    "\n",
    "    :param LinesCollection polygon: List of lines defined anticlockwise as LinesCollection object\n",
    "    :return bool: result \n",
    "    \"\"\"\n",
    "\n",
    "    lines = polygon.lines\n",
    "    n = len(lines)\n",
    "    for i in range(n):\n",
    "        p1,p2 = lines[(i-1)%n]\n",
    "        p2,p3 = lines[i%n]\n",
    "\n",
    "        # Merge vertex\n",
    "        if p1[1] > p2[1] and p3[1] > p2[1] and point_position(p1,p2,p3) == -1:\n",
    "            return False\n",
    "\n",
    "        # Split vertex\n",
    "        if p1[1] < p2[1] and p3[1] < p2[1] and point_position(p1,p2,p3) == -1:\n",
    "            return False\n",
    "\n",
    "    return True"
   ]
  },
  {
   "cell_type": "markdown",
   "metadata": {},
   "source": [
    "## Algorytm wykrywający punkty początkowe, końcowe, łączące, dzielące, prawidłowe w wielokącie\n",
    "\n",
    "Klasyfikacja punktów:\n",
    "- Kolor zielony: początkowy: obaj sąsiedzi leżą poniżej oraz kąt wewnętrzny jest mniejszy od $\\pi$\n",
    "- Kolor czerwony: końcowy: obaj sąsiedzi leżą powyżej oraz kąt wewnętrzny jest mniejszy od $\\pi$\n",
    "- Kolor niebieski: łączący: obaj sąsiedzi leżą powyżej oraz kąt wewnętrzny jest większy od $\\pi$\n",
    "- Kolor cyjan: dzielący: obaj sąsiedzi leżą poniżej oraz kąt wewnętrzny jest większy od $\\pi$\n",
    "- Kolor brązowy: prawidłowy: w pozostałych przypadkach (jeden punkt leży powyżej, drugi poniżej)"
   ]
  },
  {
   "cell_type": "code",
   "execution_count": null,
   "metadata": {},
   "outputs": [],
   "source": [
    "def detect_points_in_polygon(polygon: Polygon) -> None:\n",
    "    # start_vertex = PointsCollection([], color=\"tab:green\")\n",
    "    # end_vertex = PointsCollection([], color=\"tab:red\")\n",
    "    # merge_vertex = PointsCollection([], color=\"darkblue\")\n",
    "    # split_vertex = PointsCollection([], color=\"tab:cyan\")\n",
    "    # regular_vertex = PointsCollection([], color=\"tab:brown\")\n",
    "    \n",
    "    lines = polygon.lines\n",
    "    n = len(lines)\n",
    "    for i in range(n):\n",
    "        p1,p2 = lines[(i-1)%n]\n",
    "        p2,p3 = lines[i%n]\n",
    "\n",
    "        # Start vertex\n",
    "        if p1[1] < p2[1] and p3[1] < p2[1] and point_position(p1,p2,p3) == 1:\n",
    "            polygon.add_point((p2[0], p2[1]),i, \"tab:green\")\n",
    "\n",
    "        # End vertex\n",
    "        elif p1[1] > p2[1] and p3[1] > p2[1] and point_position(p1,p2,p3) == 1:\n",
    "            polygon.add_point((p2[0], p2[1]),i, \"tab:red\")\n",
    "\n",
    "        # Merge vertex\n",
    "        elif p1[1] > p2[1] and p3[1] > p2[1] and point_position(p1,p2,p3) == -1:\n",
    "            polygon.add_point((p2[0], p2[1]),i, \"darkblue\")\n",
    "\n",
    "        # Split vertex\n",
    "        elif p1[1] < p2[1] and p3[1] < p2[1] and point_position(p1,p2,p3) == -1:\n",
    "            polygon.add_point((p2[0], p2[1]),i, \"tab:cyan\")\n",
    "\n",
    "        # Regular vertex\n",
    "        else:\n",
    "            polygon.add_point((p2[0], p2[1]),i, \"tab:brown\")\n",
    "            "
   ]
  },
  {
   "cell_type": "markdown",
   "metadata": {},
   "source": [
    "## Algorytm trianguryzacji wielokąta y-monotonicznego na wielokąty monotoniczne\n"
   ]
  },
  {
   "cell_type": "code",
   "execution_count": null,
   "metadata": {},
   "outputs": [],
   "source": [
    "def triangulize(polygon: Polygon):\n",
    "    # Polygon cannot have points on a same y coordinate with this approach\n",
    "    \n",
    "    # Check if polygon is monotonic\n",
    "    if not is_polygon_y_monotonic(polygon):\n",
    "        print(\"Figura nie jest y-monotoniczna!\")\n",
    "        return \n",
    "\n",
    "    points = polygon.points\n",
    "    # Find chains\n",
    "    left_chain, right_chain = set(), set()\n",
    "    start_vertex = max(points, key=lambda x: (x[1],x[0]))\n",
    "    end_vertex = min(points, key=lambda x: (x[1],x[0]))\n",
    "\n",
    "    i = 0\n",
    "    n = len(points)\n",
    "    p1 = points[0]\n",
    "    # Find start vertex\n",
    "    while p1[0] != start_vertex[0] and p1[1] != start_vertex[1]:\n",
    "        i  = (i+1)%n\n",
    "        p1 = points[i]\n",
    "\n",
    "    # Add to left chain\n",
    "    while p1[0] != end_vertex[0] and p1[1] != end_vertex[1]:\n",
    "        left_chain.add(p1)\n",
    "        i  = (i+1)%n\n",
    "        p1 = points[i]\n",
    "\n",
    "    # Add to right chain\n",
    "    while p1[0] != start_vertex[0] and p1[1] != start_vertex[1]:\n",
    "        right_chain.add(p1)\n",
    "        i  = (i+1)%n\n",
    "        p1 = points[i]\n",
    "\n",
    "\n",
    "    # Sort points (decreasing y-coordinate)\n",
    "    sorted_points = sorted(points, key=lambda x:(-x[1]))\n",
    "\n",
    "    # Add vertices to stack\n",
    "    s = deque()\n",
    "    s.append(sorted_points[0])\n",
    "    s.append(sorted_points[1])\n",
    "\n",
    "\n",
    "    def is_in_triangle(a,b,c, epsilon=1e-10):\n",
    "        \"\"\"Why does it work?\n",
    "        Let a = stack[-2], b = stack[-1].\n",
    "        We know that points are sorted by y-coord descending, so a[1] < b[1]. Let's create line from a to b. Now we have to detect where we have possibility to create triangle, if next vertex has y-coord lower than a point. If b is on left chain, then point has to be on a left of ab segment. If b is on right chain, point has to be on the right of ab segment.\n",
    "        \"\"\"\n",
    "        nonlocal left_chain\n",
    "\n",
    "        if b in left_chain:\n",
    "            return det3x3((a[0],a[1]), (b[0],b[1]), (c[0],c[1])) > epsilon\n",
    "        return det3x3((a[0],a[1]), (b[0],b[1]), (c[0],c[1])) < -epsilon\n",
    "        \n",
    "    # Scene configuration\n",
    "    scene_container = []\n",
    "    added_lines = []\n",
    "\n",
    "    for i in range(2, n-1):\n",
    "\n",
    "        scene_container.append(Scene(title=\"Szukanie nowej przekątnej\",points=[PointsCollection(points=polygon.points, color=\"black\"), PointsCollection(points=list(s)[:], color=\"green\"), PointsCollection(points=[sorted_points[i]], color=\"red\")], lines=[LinesCollection(lines=polygon.lines[:], **polygon.get_lines().kwargs), LinesCollection(added_lines[:])]))\n",
    "\n",
    "        # In what chain is vertex on top of stack\n",
    "        chain_s_top = left_chain if s[-1] in left_chain else right_chain\n",
    "        if sorted_points[i] not in chain_s_top:\n",
    "            # Add diagonal for every popped vertex (except the last one)\n",
    "            while len(s) > 0:\n",
    "                u = s.pop()\n",
    "                if len(s) > 0:\n",
    "                    was_added = polygon.add_line(((u[0], u[1]), (sorted_points[i][0],sorted_points[i][1])))\n",
    "\n",
    "                    if was_added:\n",
    "                        added_lines.append(((u[0], u[1]), (sorted_points[i][0],sorted_points[i][1])))\n",
    "                        scene_container.append(Scene(title=\"Dodawanie nowej przekątnej\",points=[PointsCollection(points=polygon.points, color=\"black\")], lines=[LinesCollection(lines=polygon.lines[:], **polygon.get_lines().kwargs), LinesCollection(added_lines[:])]))\n",
    "\n",
    "            s.append(sorted_points[i-1])\n",
    "            s.append(sorted_points[i])\n",
    "        else:\n",
    "            u = s.pop()\n",
    "            # Pop the other vertices from s as long as the diagonals are inside polygon.\n",
    "            while len(s) > 0 and is_in_triangle(s[-1], u, sorted_points[i]):\n",
    "                # Take top point from stack, then pop it\n",
    "                u = s.pop()\n",
    "     \n",
    "                was_added = polygon.add_line(((u[0], u[1]), (sorted_points[i][0],sorted_points[i][1])))\n",
    "\n",
    "                if was_added:\n",
    "                    added_lines.append(((u[0], u[1]), (sorted_points[i][0],sorted_points[i][1])))\n",
    "                    scene_container.append(Scene(title=\"Dodawanie nowej przekątnej\",points=[PointsCollection(points=polygon.points, color=\"black\")], lines=[LinesCollection(lines=polygon.lines[:], **polygon.get_lines().kwargs), LinesCollection(added_lines[:])]))\n",
    "\n",
    "\n",
    "            s.append(u)\n",
    "            s.append(sorted_points[i])\n",
    "\n",
    "    # Connect u_n to all vertices in S (except first and last)\n",
    "    s.pop()\n",
    "    s.popleft()\n",
    "    while len(s) > 0:\n",
    "        u = s.pop()\n",
    "        was_added = polygon.add_line(((u[0], u[1]), (sorted_points[-1][0],sorted_points[-1][1])))\n",
    "\n",
    "        if was_added:\n",
    "            added_lines.append(((u[0], u[1]), (sorted_points[-1][0],sorted_points[-1][1])))\n",
    "            scene_container.append(Scene(title=\"Dodawanie nowej przekątnej\",points=[PointsCollection(points=polygon.points, color=\"black\")], lines=[LinesCollection(lines=polygon.lines[:], **polygon.get_lines().kwargs), LinesCollection(added_lines[:])]))\n",
    "\n",
    "\n",
    "    # Add result \n",
    "    scene_container.insert(0, Scene(points=polygon.get_points(), lines=[polygon.get_lines()], title=\"Rezultat triangulacji wielokąta\"))\n",
    "\n",
    "    polygon.added_diagonals = added_lines[:]\n",
    "    return scene_container\n"
   ]
  },
  {
   "cell_type": "markdown",
   "metadata": {},
   "source": [
    "## Generacja testowych wielokątów"
   ]
  },
  {
   "cell_type": "code",
   "execution_count": null,
   "metadata": {},
   "outputs": [],
   "source": [
    "plot1, result = load_plot('polygon1')\n",
    "if not result:\n",
    "    # Draw polygon\n",
    "    plot1 = Plot(xlim=[0,15], ylim=[0,15],scenes=[Scene(title=\"Figura nr 1\")])\n",
    "plot1.plot_title = \"polygon1\"\n",
    "plot1.draw()"
   ]
  },
  {
   "cell_type": "code",
   "execution_count": null,
   "metadata": {},
   "outputs": [],
   "source": [
    "# Run cell to save polygon\n",
    "plot_to_save = plot1\n",
    "save_plot(Plot(scenes=[Scene(lines=plot_to_save.get_added_figure(), title=plot_to_save.scenes[0].title[1:])], title=plot_to_save.plot_title))"
   ]
  },
  {
   "cell_type": "code",
   "execution_count": null,
   "metadata": {},
   "outputs": [],
   "source": [
    "plot2, result = load_plot('polygon2')\n",
    "if not result:\n",
    "    # Draw polygon\n",
    "    plot2 = Plot(xlim=[0,15], ylim=[0,15],scenes=[Scene(title=\"Figura nr 2\")])\n",
    "plot2.plot_title = \"polygon2\"\n",
    "plot2.draw()"
   ]
  },
  {
   "cell_type": "code",
   "execution_count": null,
   "metadata": {},
   "outputs": [],
   "source": [
    "# Run cell to save polygon\n",
    "plot_to_save = plot2\n",
    "save_plot(Plot(scenes=[Scene(lines=plot_to_save.get_added_figure(), title=plot_to_save.scenes[0].title[1:])], title=plot_to_save.plot_title))"
   ]
  },
  {
   "cell_type": "code",
   "execution_count": null,
   "metadata": {},
   "outputs": [],
   "source": [
    "plot3, result = load_plot('polygon3')\n",
    "if not result:\n",
    "    # Draw polygon\n",
    "    plot3 = Plot(xlim=[0,15], ylim=[0,15],scenes=[Scene(title=\"Figura nr 3\")])\n",
    "plot3.plot_title = \"polygon3\"\n",
    "plot3.draw()"
   ]
  },
  {
   "cell_type": "code",
   "execution_count": null,
   "metadata": {},
   "outputs": [],
   "source": [
    "# Run cell to save polygon\n",
    "plot_to_save = plot3\n",
    "save_plot(Plot(scenes=[Scene(lines=plot_to_save.get_added_figure(), title=plot_to_save.scenes[0].title[1:])], title=plot_to_save.plot_title))"
   ]
  },
  {
   "cell_type": "code",
   "execution_count": null,
   "metadata": {},
   "outputs": [],
   "source": [
    "plot4, result = load_plot('polygon4')\n",
    "if not result:\n",
    "    # Draw polygon\n",
    "    plot4 = Plot(xlim=[0,15], ylim=[0,15],scenes=[Scene(title=\"Figura nr 4\")])\n",
    "plot4.plot_title = \"polygon4\"\n",
    "plot4.draw()"
   ]
  },
  {
   "cell_type": "code",
   "execution_count": null,
   "metadata": {},
   "outputs": [],
   "source": [
    "# Run cell to save polygon\n",
    "plot_to_save = plot4\n",
    "save_plot(Plot(scenes=[Scene(lines=plot_to_save.get_added_figure(), title=plot_to_save.scenes[0].title[1:])], title=plot_to_save.plot_title))"
   ]
  },
  {
   "cell_type": "code",
   "execution_count": null,
   "metadata": {},
   "outputs": [],
   "source": [
    "plot5, result = load_plot('polygon5')\n",
    "if not result:\n",
    "    # Draw polygon\n",
    "    plot5 = Plot(xlim=[0,15], ylim=[0,15],scenes=[Scene(title=\"Figura nr 5\")])\n",
    "plot5.plot_title = \"polygon5\"\n",
    "plot5.draw()"
   ]
  },
  {
   "cell_type": "code",
   "execution_count": null,
   "metadata": {},
   "outputs": [],
   "source": [
    "# Run cell to save polygon\n",
    "plot_to_save = plot5\n",
    "save_plot(Plot(scenes=[Scene(lines=plot_to_save.get_added_figure(), title=plot_to_save.scenes[0].title[1:])], title=plot_to_save.plot_title))"
   ]
  },
  {
   "cell_type": "code",
   "execution_count": null,
   "metadata": {},
   "outputs": [],
   "source": [
    "plot6, result = load_plot('polygon6')\n",
    "if not result:\n",
    "    # Draw polygon\n",
    "    plot6 = Plot(xlim=[0,15], ylim=[0,15],scenes=[Scene(title=\"Figura nr 6\")])\n",
    "plot6.plot_title = \"polygon6\"\n",
    "plot6.draw()"
   ]
  },
  {
   "cell_type": "code",
   "execution_count": null,
   "metadata": {},
   "outputs": [],
   "source": [
    "# Run cell to save polygon\n",
    "plot_to_save = plot6\n",
    "save_plot(Plot(scenes=[Scene(lines=plot_to_save.get_added_figure(), title=plot_to_save.scenes[0].title[1:])], title=plot_to_save.plot_title))"
   ]
  },
  {
   "cell_type": "code",
   "execution_count": null,
   "metadata": {},
   "outputs": [],
   "source": [
    "plot7, result = load_plot('polygon7')\n",
    "if not result:\n",
    "    # Draw polygon\n",
    "    plot7 = Plot(xlim=[0,15], ylim=[0,15],scenes=[Scene(title=\"Figura nr 7\")])\n",
    "plot7.plot_title = \"polygon7\"\n",
    "plot7.draw()"
   ]
  },
  {
   "cell_type": "code",
   "execution_count": null,
   "metadata": {},
   "outputs": [],
   "source": [
    "# Run cell to save polygon\n",
    "plot_to_save = plot7\n",
    "save_plot(Plot(scenes=[Scene(lines=plot_to_save.get_added_figure(), title=plot_to_save.scenes[0].title[1:])], title=plot_to_save.plot_title))"
   ]
  },
  {
   "cell_type": "code",
   "execution_count": null,
   "metadata": {},
   "outputs": [],
   "source": [
    "plot8, result = load_plot('polygon8')\n",
    "if not result:\n",
    "    # Draw polygon\n",
    "    plot8 = Plot(xlim=[0,15], ylim=[0,15],scenes=[Scene(title=\"Figura nr 8\")])\n",
    "plot8.plot_title = \"polygon8\"\n",
    "plot8.draw()"
   ]
  },
  {
   "cell_type": "code",
   "execution_count": null,
   "metadata": {},
   "outputs": [],
   "source": [
    "# Run cell to save polygon\n",
    "plot_to_save = plot8\n",
    "save_plot(Plot(scenes=[Scene(lines=plot_to_save.get_added_figure(), title=plot_to_save.scenes[0].title[1:])], title=plot_to_save.plot_title))"
   ]
  },
  {
   "cell_type": "code",
   "execution_count": null,
   "metadata": {},
   "outputs": [],
   "source": [
    "plot9, result = load_plot('polygon9')\n",
    "if not result:\n",
    "    # Draw polygon\n",
    "    plot9 = Plot(xlim=[0,15], ylim=[0,15],scenes=[Scene(title=\"Figura nr 9\")])\n",
    "plot9.plot_title = \"polygon9\"\n",
    "plot9.draw()"
   ]
  },
  {
   "cell_type": "code",
   "execution_count": null,
   "metadata": {},
   "outputs": [],
   "source": [
    "# Run cell to save polygon\n",
    "plot_to_save = plot9\n",
    "save_plot(Plot(scenes=[Scene(lines=plot_to_save.get_added_figure(), title=plot_to_save.scenes[0].title[1:])], title=plot_to_save.plot_title))"
   ]
  },
  {
   "cell_type": "code",
   "execution_count": null,
   "metadata": {},
   "outputs": [],
   "source": [
    "plot10, result = load_plot('polygon10')\n",
    "if not result:\n",
    "    # Draw polygon\n",
    "    plot10 = Plot(xlim=[0,15], ylim=[0,15],scenes=[Scene(title=\"Figura nr 10\")])\n",
    "plot10.plot_title = \"polygon10\"\n",
    "plot10.draw()"
   ]
  },
  {
   "cell_type": "code",
   "execution_count": null,
   "metadata": {},
   "outputs": [],
   "source": [
    "# Run cell to save polygon\n",
    "plot_to_save = plot10\n",
    "save_plot(Plot(scenes=[Scene(lines=plot_to_save.get_added_figure(), title=plot_to_save.scenes[0].title[1:])], title=plot_to_save.plot_title))"
   ]
  },
  {
   "cell_type": "code",
   "execution_count": null,
   "metadata": {},
   "outputs": [],
   "source": [
    "plot11, result = load_plot('polygon11')\n",
    "if not result:\n",
    "    # Draw polygon\n",
    "    plot11 = Plot(xlim=[0,15], ylim=[0,15],scenes=[Scene(title=\"Figura nr 11\")])\n",
    "plot11.plot_title = \"polygon11\"\n",
    "plot11.draw()"
   ]
  },
  {
   "cell_type": "code",
   "execution_count": null,
   "metadata": {},
   "outputs": [],
   "source": [
    "# Run cell to save polygon\n",
    "plot_to_save = plot11\n",
    "save_plot(Plot(scenes=[Scene(lines=plot_to_save.get_added_figure(), title=plot_to_save.scenes[0].title[1:])], title=plot_to_save.plot_title))"
   ]
  },
  {
   "cell_type": "code",
   "execution_count": null,
   "metadata": {},
   "outputs": [],
   "source": [
    "plot12, result = load_plot('polygon12')\n",
    "if not result:\n",
    "    # Draw polygon\n",
    "    plot12 = Plot(xlim=[0,15], ylim=[0,15],scenes=[Scene(title=\"Figura nr 12\")])\n",
    "plot12.plot_title = \"polygon12\"\n",
    "plot12.draw()"
   ]
  },
  {
   "cell_type": "code",
   "execution_count": null,
   "metadata": {},
   "outputs": [],
   "source": [
    "# Run cell to save polygon\n",
    "plot_to_save = plot12\n",
    "save_plot(Plot(scenes=[Scene(lines=plot_to_save.get_added_figure(), title=plot_to_save.scenes[0].title[1:])], title=plot_to_save.plot_title))"
   ]
  },
  {
   "cell_type": "code",
   "execution_count": null,
   "metadata": {},
   "outputs": [],
   "source": [
    "plot13, result = load_plot('polygon13')\n",
    "if not result:\n",
    "    # Draw polygon\n",
    "    plot13 = Plot(xlim=[0,15], ylim=[0,15],scenes=[Scene(title=\"Figura nr 13\")])\n",
    "plot13.plot_title = \"polygon13\"\n",
    "plot13.draw()"
   ]
  },
  {
   "cell_type": "code",
   "execution_count": null,
   "metadata": {},
   "outputs": [],
   "source": [
    "# Run cell to save polygon\n",
    "plot_to_save = plot13\n",
    "save_plot(Plot(scenes=[Scene(lines=plot_to_save.get_added_figure(), title=plot_to_save.scenes[0].title[1:])], title=plot_to_save.plot_title))"
   ]
  },
  {
   "cell_type": "code",
   "execution_count": null,
   "metadata": {},
   "outputs": [],
   "source": [
    "plot14, result = load_plot('polygon14')\n",
    "if not result:\n",
    "    # Draw polygon\n",
    "    plot14 = Plot(xlim=[0,15], ylim=[0,15],scenes=[Scene(title=\"Figura nr 14\")])\n",
    "plot14.plot_title = \"polygon14\"\n",
    "plot14.draw()"
   ]
  },
  {
   "cell_type": "code",
   "execution_count": null,
   "metadata": {},
   "outputs": [],
   "source": [
    "# Run cell to save polygon\n",
    "plot_to_save = plot14\n",
    "save_plot(Plot(scenes=[Scene(lines=plot_to_save.get_added_figure(), title=plot_to_save.scenes[0].title[1:])], title=plot_to_save.plot_title))"
   ]
  },
  {
   "cell_type": "code",
   "execution_count": null,
   "metadata": {},
   "outputs": [],
   "source": [
    "polygon1 = Polygon(plot1.get_added_figure() if len(plot1.get_added_figure()) != 0 else plot1.scenes[0].lines)\n",
    "polygon2 = Polygon(plot2.get_added_figure() if len(plot2.get_added_figure()) != 0 else plot2.scenes[0].lines)\n",
    "polygon3 = Polygon(plot3.get_added_figure() if len(plot3.get_added_figure()) != 0 else plot3.scenes[0].lines)\n",
    "polygon4 = Polygon(plot4.get_added_figure() if len(plot4.get_added_figure()) != 0 else plot4.scenes[0].lines)\n",
    "polygon5 = Polygon(plot5.get_added_figure() if len(plot5.get_added_figure()) != 0 else plot5.scenes[0].lines)\n",
    "polygon6 = Polygon(plot6.get_added_figure() if len(plot6.get_added_figure()) != 0 else plot6.scenes[0].lines)\n",
    "polygon7 = Polygon(plot7.get_added_figure() if len(plot7.get_added_figure()) != 0 else plot7.scenes[0].lines)\n",
    "polygon8 = Polygon(plot8.get_added_figure() if len(plot8.get_added_figure()) != 0 else plot8.scenes[0].lines)\n",
    "polygon9 = Polygon(plot9.get_added_figure() if len(plot9.get_added_figure()) != 0 else plot9.scenes[0].lines)\n",
    "polygon10 = Polygon(plot10.get_added_figure() if len(plot10.get_added_figure()) != 0 else plot10.scenes[0].lines)\n",
    "polygon11 = Polygon(plot11.get_added_figure() if len(plot11.get_added_figure()) != 0 else plot11.scenes[0].lines)\n",
    "polygon12 = Polygon(plot12.get_added_figure() if len(plot12.get_added_figure()) != 0 else plot12.scenes[0].lines)\n",
    "polygon13 = Polygon(plot13.get_added_figure() if len(plot13.get_added_figure()) != 0 else plot13.scenes[0].lines)\n",
    "polygon14 = Polygon(plot14.get_added_figure() if len(plot14.get_added_figure()) != 0 else plot14.scenes[0].lines)\n"
   ]
  },
  {
   "cell_type": "markdown",
   "metadata": {},
   "source": [
    "## Testowanie wielokątów, czy są monotoniczne"
   ]
  },
  {
   "cell_type": "code",
   "execution_count": null,
   "metadata": {},
   "outputs": [],
   "source": [
    "print(f\"Y-monotoniczność figury 1: {is_polygon_y_monotonic(polygon1)}\")\n",
    "print(f\"Y-monotoniczność figury 2: {is_polygon_y_monotonic(polygon2)}\")\n",
    "print(f\"Y-monotoniczność figury 3: {is_polygon_y_monotonic(polygon3)}\")\n",
    "print(f\"Y-monotoniczność figury 4: {is_polygon_y_monotonic(polygon4)}\")\n",
    "print(f\"Y-monotoniczność figury 5: {is_polygon_y_monotonic(polygon5)}\")\n",
    "print(f\"Y-monotoniczność figury 6: {is_polygon_y_monotonic(polygon6)}\")\n",
    "print(f\"Y-monotoniczność figury 7: {is_polygon_y_monotonic(polygon7)}\")\n",
    "print(f\"Y-monotoniczność figury 8: {is_polygon_y_monotonic(polygon8)}\")\n",
    "print(f\"Y-monotoniczność figury 9: {is_polygon_y_monotonic(polygon9)}\")\n",
    "print(f\"Y-monotoniczność figury 10: {is_polygon_y_monotonic(polygon10)}\")\n",
    "print(f\"Y-monotoniczność figury 11: {is_polygon_y_monotonic(polygon11)}\")\n",
    "print(f\"Y-monotoniczność figury 12: {is_polygon_y_monotonic(polygon12)}\")\n",
    "print(f\"Y-monotoniczność figury 13: {is_polygon_y_monotonic(polygon13)}\")\n",
    "print(f\"Y-monotoniczność figury 14: {is_polygon_y_monotonic(polygon14)}\")\n"
   ]
  },
  {
   "cell_type": "markdown",
   "metadata": {},
   "source": [
    "## Klasyfikacja punktów w wielokącie"
   ]
  },
  {
   "cell_type": "code",
   "execution_count": null,
   "metadata": {},
   "outputs": [],
   "source": [
    "detect_points_in_polygon(polygon1)\n",
    "tmp_polygon = polygon1\n",
    "plot = Plot(title=\"polygon1_classification\", scenes=[Scene(title=\"Klasyfikacja punktów w figurze nr 1\",points=tmp_polygon.get_points(), lines=[tmp_polygon.get_lines()])])\n",
    "plot.draw()"
   ]
  },
  {
   "cell_type": "code",
   "execution_count": null,
   "metadata": {},
   "outputs": [],
   "source": [
    "detect_points_in_polygon(polygon2)\n",
    "tmp_polygon = polygon2\n",
    "plot = Plot(title=\"polygon2_classification\", scenes=[Scene(title=\"Klasyfikacja punktów w figurze nr 2\",points=tmp_polygon.get_points(), lines=[tmp_polygon.get_lines()])])\n",
    "plot.draw()"
   ]
  },
  {
   "cell_type": "code",
   "execution_count": null,
   "metadata": {},
   "outputs": [],
   "source": [
    "detect_points_in_polygon(polygon3)\n",
    "tmp_polygon = polygon3\n",
    "plot = Plot(title=\"polygon3_classification\", scenes=[Scene(title=\"Klasyfikacja punktów w figurze nr 3\",points=tmp_polygon.get_points(), lines=[tmp_polygon.get_lines()])])\n",
    "plot.draw()"
   ]
  },
  {
   "cell_type": "code",
   "execution_count": null,
   "metadata": {},
   "outputs": [],
   "source": [
    "detect_points_in_polygon(polygon4)\n",
    "tmp_polygon = polygon4\n",
    "plot = Plot(title=\"polygon4_classification\", scenes=[Scene(title=\"Klasyfikacja punktów w figurze nr 4\",points=tmp_polygon.get_points(), lines=[tmp_polygon.get_lines()])])\n",
    "plot.draw()"
   ]
  },
  {
   "cell_type": "code",
   "execution_count": null,
   "metadata": {},
   "outputs": [],
   "source": [
    "detect_points_in_polygon(polygon5)\n",
    "tmp_polygon = polygon5\n",
    "plot = Plot(title=\"polygon5_classification\", scenes=[Scene(title=\"Klasyfikacja punktów w figurze nr 5\",points=tmp_polygon.get_points(), lines=[tmp_polygon.get_lines()])])\n",
    "plot.draw()"
   ]
  },
  {
   "cell_type": "code",
   "execution_count": null,
   "metadata": {},
   "outputs": [],
   "source": [
    "detect_points_in_polygon(polygon6)\n",
    "tmp_polygon = polygon6\n",
    "plot = Plot(title=\"polygon6_classification\", scenes=[Scene(title=\"Klasyfikacja punktów w figurze nr 6\",points=tmp_polygon.get_points(), lines=[tmp_polygon.get_lines()])])\n",
    "plot.draw()"
   ]
  },
  {
   "cell_type": "code",
   "execution_count": null,
   "metadata": {},
   "outputs": [],
   "source": [
    "detect_points_in_polygon(polygon7)\n",
    "tmp_polygon = polygon7\n",
    "plot = Plot(title=\"polygon7_classification\", scenes=[Scene(title=\"Klasyfikacja punktów w figurze nr 7\",points=tmp_polygon.get_points(), lines=[tmp_polygon.get_lines()])])\n",
    "plot.draw()"
   ]
  },
  {
   "cell_type": "code",
   "execution_count": null,
   "metadata": {},
   "outputs": [],
   "source": [
    "detect_points_in_polygon(polygon8)\n",
    "tmp_polygon = polygon8\n",
    "plot = Plot(title=\"polygon8_classification\", scenes=[Scene(title=\"Klasyfikacja punktów w figurze nr 8\",points=tmp_polygon.get_points(), lines=[tmp_polygon.get_lines()])])\n",
    "plot.draw()"
   ]
  },
  {
   "cell_type": "code",
   "execution_count": null,
   "metadata": {},
   "outputs": [],
   "source": [
    "detect_points_in_polygon(polygon9)\n",
    "tmp_polygon = polygon9\n",
    "plot = Plot(title=\"polygon9_classification\", scenes=[Scene(title=\"Klasyfikacja punktów w figurze nr 9\",points=tmp_polygon.get_points(), lines=[tmp_polygon.get_lines()])])\n",
    "plot.draw()"
   ]
  },
  {
   "cell_type": "code",
   "execution_count": null,
   "metadata": {},
   "outputs": [],
   "source": [
    "detect_points_in_polygon(polygon10)\n",
    "tmp_polygon = polygon10\n",
    "plot = Plot(title=\"polygon10_classification\", scenes=[Scene(title=\"Klasyfikacja punktów w figurze nr 10\",points=tmp_polygon.get_points(), lines=[tmp_polygon.get_lines()])])\n",
    "plot.draw()"
   ]
  },
  {
   "cell_type": "code",
   "execution_count": null,
   "metadata": {},
   "outputs": [],
   "source": [
    "detect_points_in_polygon(polygon11)\n",
    "tmp_polygon = polygon11\n",
    "plot = Plot(title=\"polygon11_classification\", scenes=[Scene(title=\"Klasyfikacja punktów w figurze nr 11\",points=tmp_polygon.get_points(), lines=[tmp_polygon.get_lines()])])\n",
    "plot.draw()"
   ]
  },
  {
   "cell_type": "code",
   "execution_count": null,
   "metadata": {},
   "outputs": [],
   "source": [
    "detect_points_in_polygon(polygon12)\n",
    "tmp_polygon = polygon12\n",
    "plot = Plot(title=\"polygon12_classification\", scenes=[Scene(title=\"Klasyfikacja punktów w figurze nr 12\",points=tmp_polygon.get_points(), lines=[tmp_polygon.get_lines()])])\n",
    "plot.draw()"
   ]
  },
  {
   "cell_type": "code",
   "execution_count": null,
   "metadata": {},
   "outputs": [],
   "source": [
    "detect_points_in_polygon(polygon13)\n",
    "tmp_polygon = polygon13\n",
    "plot = Plot(title=\"polygon13_classification\", scenes=[Scene(title=\"Klasyfikacja punktów w figurze nr 13\",points=tmp_polygon.get_points(), lines=[tmp_polygon.get_lines()])])\n",
    "plot.draw()"
   ]
  },
  {
   "cell_type": "code",
   "execution_count": null,
   "metadata": {},
   "outputs": [],
   "source": [
    "detect_points_in_polygon(polygon14)\n",
    "tmp_polygon = polygon14\n",
    "plot = Plot(title=\"polygon14_classification\", scenes=[Scene(title=\"Klasyfikacja punktów w figurze nr 14\",points=tmp_polygon.get_points(), lines=[tmp_polygon.get_lines()])])\n",
    "plot.draw()"
   ]
  },
  {
   "cell_type": "markdown",
   "metadata": {},
   "source": [
    "## Triangulacja wielokątów y-monotonicznych"
   ]
  },
  {
   "cell_type": "code",
   "execution_count": null,
   "metadata": {},
   "outputs": [],
   "source": [
    "polygon1_copy = deepcopy(polygon1)\n",
    "scenes = triangulize(polygon1_copy)\n",
    "plot = Plot(title=\"polygon1_triangulize\", scenes=scenes)\n",
    "plot.draw()\n",
    "polygon1.added_diagonals = polygon1_copy.added_diagonals[:]"
   ]
  },
  {
   "cell_type": "code",
   "execution_count": null,
   "metadata": {},
   "outputs": [],
   "source": [
    "polygon1.save_triangulation('polygon1_triangulation')"
   ]
  },
  {
   "cell_type": "code",
   "execution_count": null,
   "metadata": {},
   "outputs": [],
   "source": [
    "polygon2_copy = deepcopy(polygon2)\n",
    "scenes = triangulize(polygon2_copy)\n",
    "plot = Plot(title=\"polygon2_triangulize\", scenes=scenes)\n",
    "plot.draw()\n",
    "polygon2.added_diagonals = polygon2_copy.added_diagonals[:]"
   ]
  },
  {
   "cell_type": "code",
   "execution_count": null,
   "metadata": {},
   "outputs": [],
   "source": [
    "polygon2.save_triangulation('polygon2_triangulation')"
   ]
  },
  {
   "cell_type": "code",
   "execution_count": null,
   "metadata": {},
   "outputs": [],
   "source": [
    "polygon3_copy = deepcopy(polygon3)\n",
    "scenes = triangulize(polygon3_copy)\n",
    "plot = Plot(title=\"polygon3_triangulize\", scenes=scenes)\n",
    "plot.draw()\n",
    "polygon3.added_diagonals = polygon3_copy.added_diagonals[:]"
   ]
  },
  {
   "cell_type": "code",
   "execution_count": null,
   "metadata": {},
   "outputs": [],
   "source": [
    "polygon3.save_triangulation('polygon3_triangulation')"
   ]
  },
  {
   "cell_type": "code",
   "execution_count": null,
   "metadata": {},
   "outputs": [],
   "source": [
    "polygon4_copy = deepcopy(polygon4)\n",
    "scenes = triangulize(polygon4_copy)\n",
    "plot = Plot(title=\"polygon4_triangulize\", scenes=scenes)\n",
    "plot.draw()\n",
    "polygon4.added_diagonals = polygon4_copy.added_diagonals[:]"
   ]
  },
  {
   "cell_type": "code",
   "execution_count": null,
   "metadata": {},
   "outputs": [],
   "source": [
    "polygon4.save_triangulation('polygon4_triangulation')"
   ]
  },
  {
   "cell_type": "code",
   "execution_count": null,
   "metadata": {},
   "outputs": [],
   "source": [
    "polygon5_copy = deepcopy(polygon5)\n",
    "scenes = triangulize(polygon5_copy)\n",
    "plot = Plot(title=\"polygon5_triangulize\", scenes=scenes)\n",
    "plot.draw()\n",
    "polygon5.added_diagonals = polygon5_copy.added_diagonals[:]"
   ]
  },
  {
   "cell_type": "code",
   "execution_count": null,
   "metadata": {},
   "outputs": [],
   "source": [
    "polygon5.save_triangulation('polygon5_triangulation')"
   ]
  },
  {
   "cell_type": "code",
   "execution_count": null,
   "metadata": {},
   "outputs": [],
   "source": [
    "polygon6_copy = deepcopy(polygon6)\n",
    "scenes = triangulize(polygon6_copy)\n",
    "plot = Plot(title=\"polygon6_triangulize\", scenes=scenes)\n",
    "plot.draw()\n",
    "polygon6.added_diagonals = polygon6_copy.added_diagonals[:]"
   ]
  },
  {
   "cell_type": "code",
   "execution_count": null,
   "metadata": {},
   "outputs": [],
   "source": [
    "polygon6.save_triangulation('polygon6_triangulation')"
   ]
  },
  {
   "cell_type": "code",
   "execution_count": null,
   "metadata": {},
   "outputs": [],
   "source": [
    "polygon7_copy = deepcopy(polygon7)\n",
    "scenes = triangulize(polygon7_copy)\n",
    "plot = Plot(title=\"polygon7_triangulize\", scenes=scenes)\n",
    "plot.draw()\n",
    "polygon7.added_diagonals = polygon7_copy.added_diagonals[:]"
   ]
  },
  {
   "cell_type": "code",
   "execution_count": null,
   "metadata": {},
   "outputs": [],
   "source": [
    "polygon7.save_triangulation('polygon7_triangulation')"
   ]
  },
  {
   "cell_type": "code",
   "execution_count": null,
   "metadata": {},
   "outputs": [],
   "source": [
    "polygon8_copy = deepcopy(polygon8)\n",
    "scenes = triangulize(polygon8_copy)\n",
    "plot = Plot(title=\"polygon8_triangulize\", scenes=scenes)\n",
    "plot.draw()\n",
    "polygon8.added_diagonals = polygon8_copy.added_diagonals[:]"
   ]
  },
  {
   "cell_type": "code",
   "execution_count": null,
   "metadata": {},
   "outputs": [],
   "source": [
    "polygon8.save_triangulation('polygon8_triangulation')"
   ]
  },
  {
   "cell_type": "code",
   "execution_count": null,
   "metadata": {},
   "outputs": [],
   "source": [
    "polygon9_copy = deepcopy(polygon9)\n",
    "scenes = triangulize(polygon9_copy)\n",
    "plot = Plot(title=\"polygon9_triangulize\", scenes=scenes)\n",
    "plot.draw()\n",
    "polygon9.added_diagonals = polygon9_copy.added_diagonals[:]"
   ]
  },
  {
   "cell_type": "code",
   "execution_count": null,
   "metadata": {},
   "outputs": [],
   "source": [
    "polygon9.save_triangulation('polygon9_triangulation')"
   ]
  },
  {
   "cell_type": "code",
   "execution_count": null,
   "metadata": {},
   "outputs": [],
   "source": [
    "polygon10_copy = deepcopy(polygon10)\n",
    "scenes = triangulize(polygon10_copy)\n",
    "plot = Plot(title=\"polygon10_triangulize\", scenes=scenes)\n",
    "plot.draw()\n",
    "polygon10.added_diagonals = polygon10_copy.added_diagonals[:]"
   ]
  },
  {
   "cell_type": "code",
   "execution_count": null,
   "metadata": {},
   "outputs": [],
   "source": [
    "polygon10.save_triangulation('polygon10_triangulation')"
   ]
  },
  {
   "cell_type": "code",
   "execution_count": null,
   "metadata": {},
   "outputs": [],
   "source": [
    "polygon11_copy = deepcopy(polygon11)\n",
    "scenes = triangulize(polygon11_copy)\n",
    "plot = Plot(title=\"polygon11_triangulize\", scenes=scenes)\n",
    "plot.draw()\n",
    "polygon11.added_diagonals = polygon11_copy.added_diagonals[:]"
   ]
  },
  {
   "cell_type": "code",
   "execution_count": null,
   "metadata": {},
   "outputs": [],
   "source": [
    "polygon11.save_triangulation('polygon11_triangulation')"
   ]
  },
  {
   "cell_type": "code",
   "execution_count": null,
   "metadata": {},
   "outputs": [],
   "source": [
    "polygon12_copy = deepcopy(polygon12)\n",
    "scenes = triangulize(polygon12_copy)\n",
    "plot = Plot(title=\"polygon12_triangulize\", scenes=scenes)\n",
    "plot.draw()\n",
    "polygon12.added_diagonals = polygon12_copy.added_diagonals[:]"
   ]
  },
  {
   "cell_type": "code",
   "execution_count": null,
   "metadata": {},
   "outputs": [],
   "source": [
    "polygon12.save_triangulation('polygon12_triangulation')"
   ]
  },
  {
   "cell_type": "code",
   "execution_count": null,
   "metadata": {},
   "outputs": [],
   "source": [
    "polygon13_copy = deepcopy(polygon13)\n",
    "scenes = triangulize(polygon13_copy)\n",
    "plot = Plot(title=\"polygon13_triangulize\", scenes=scenes)\n",
    "plot.draw()\n",
    "polygon13.added_diagonals = polygon13_copy.added_diagonals[:]"
   ]
  },
  {
   "cell_type": "code",
   "execution_count": null,
   "metadata": {},
   "outputs": [],
   "source": [
    "polygon13.save_triangulation('polygon13_triangulation')"
   ]
  },
  {
   "cell_type": "code",
   "execution_count": null,
   "metadata": {},
   "outputs": [],
   "source": [
    "polygon14_copy = deepcopy(polygon14)\n",
    "scenes = triangulize(polygon14_copy)\n",
    "plot = Plot(title=\"polygon14_triangulize\", scenes=scenes)\n",
    "plot.draw()\n",
    "polygon14.added_diagonals = polygon14_copy.added_diagonals[:]"
   ]
  },
  {
   "cell_type": "code",
   "execution_count": null,
   "metadata": {},
   "outputs": [],
   "source": [
    "polygon14.save_triangulation('polygon14_triangulation')"
   ]
  }
 ],
 "metadata": {
  "kernelspec": {
   "display_name": "Python 3",
   "language": "python",
   "name": "python3"
  },
  "language_info": {
   "codemirror_mode": {
    "name": "ipython",
    "version": 3
   },
   "file_extension": ".py",
   "mimetype": "text/x-python",
   "name": "python",
   "nbconvert_exporter": "python",
   "pygments_lexer": "ipython3",
   "version": "3.11.1"
  },
  "vscode": {
   "interpreter": {
    "hash": "1a1af0ee75eeea9e2e1ee996c87e7a2b11a0bebd85af04bb136d915cefc0abce"
   }
  }
 },
 "nbformat": 4,
 "nbformat_minor": 1
}
