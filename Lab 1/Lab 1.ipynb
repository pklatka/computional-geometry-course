{
 "cells": [
  {
   "cell_type": "markdown",
   "metadata": {
    "collapsed": true
   },
   "source": [
    "# Laboratorium nr 1"
   ]
  },
  {
   "cell_type": "markdown",
   "metadata": {},
   "source": [
    "## Konfiguracja"
   ]
  },
  {
   "cell_type": "markdown",
   "metadata": {},
   "source": [
    "\n",
    "Poniższe narzędzie zostało zmodyfikowane, tak aby można było z niego korzystać w nowszych IDE, które nie wspierają `%matplotlib notebook`.\n",
    "Aby korzystać z `%matplotlib widget` należy doinstalować pakiet `ipympl` np. za pomocą polecenia `pip install ipympl`. Jeżeli po zainstalowaniu będą występować błędy, należy korzystać z backendu `notebook`.\n",
    "\n",
    "Wykorzystywane biblioteki:\n",
    "- matplotlib\n",
    "- numpy\n",
    "- ipympl\n",
    "- time - do mierzenia czasu liczenia wyznaczników\n",
    "\n",
    "Nowe funkcje:\n",
    "- Dodanie do konstruktora klasy Scene argumentu `title`, który pozwala na ustawienie tytułu danej sceny\n",
    "- Dodanie do konstruktora klasy Plot argumentu `title`, który pozwala na ustawienie tytułu wykresu / okna widżetu\n",
    "\n",
    "W celu powtarzalności wyników (dla zgodności z sprawozdaniem) ustawiono ziarno (seed) dla funkcji typu random, osobno dla każdego zbioru danych."
   ]
  },
  {
   "cell_type": "code",
   "execution_count": null,
   "metadata": {},
   "outputs": [],
   "source": [
    "# Wybór backendu matplotlib\n",
    "# %matplotlib notebook\n",
    "%matplotlib widget\n",
    "\n",
    "# Narzędzie jest oparte o kilka zewnętrznych bibliotek, które potrzebujemy najpierw zaimportować.\n",
    "import numpy as np\n",
    "import matplotlib.pyplot as plt\n",
    "import matplotlib.collections as mcoll\n",
    "import matplotlib.colors as mcolors\n",
    "from matplotlib.widgets import Button\n",
    "import json as js\n",
    "import time\n",
    "from statistics import mean\n",
    "\n",
    "# Parametr określający jak blisko (w odsetku całego widocznego zakresu) punktu początkowego \n",
    "# wielokąta musimy kliknąć, aby go zamknąć.\n",
    "TOLERANCE = 0.15\n",
    "\n",
    "def dist(point1, point2):\n",
    "    return np.sqrt(np.power(point1[0] - point2[0], 2) + np.power(point1[1] - point2[1], 2))\n",
    "\n",
    "# Klasa ta trzyma obecny stan wykresu oraz posiada metody, które mają zostać wykonane\n",
    "# po naciśnięciu przycisków.\n",
    "class _Button_callback(object):\n",
    "    def __init__(self, scenes):\n",
    "        self.i = 0\n",
    "        self.scenes = scenes\n",
    "        self.adding_points = False\n",
    "        self.added_points = []\n",
    "        self.adding_lines = False\n",
    "        self.added_lines = []\n",
    "        self.adding_rects = False\n",
    "        self.added_rects = []\n",
    "        # Dodano: zapisz tytuł sceny\n",
    "        self.scene_title = self.scenes[0].title if len(self.scenes) and self.scenes[0].title else \"\"\n",
    "\n",
    "    def set_axes(self, ax):\n",
    "        self.ax = ax\n",
    "        \n",
    "    # Metoda ta obsługuje logikę przejścia do następnej sceny.\n",
    "    def next(self, event):\n",
    "        self.i = (self.i + 1) % len(self.scenes)\n",
    "        # Dodano: zmień tytuł sceny\n",
    "        self.scene_title = self.scenes[self.i].title\n",
    "        self.draw(autoscaling = True)\n",
    "\n",
    "    # Metoda ta obsługuje logikę powrotu do poprzedniej sceny.\n",
    "    def prev(self, event):\n",
    "        self.i = (self.i - 1) % len(self.scenes)\n",
    "        # Dodano: zmień tytuł sceny\n",
    "        self.scene_title = self.scenes[self.i].title\n",
    "        self.draw(autoscaling = True)\n",
    "        \n",
    "    # Metoda ta aktywuje funkcję rysowania punktów wyłączając równocześnie rysowanie \n",
    "    # odcinków i wielokątów.\n",
    "    def add_point(self, event):\n",
    "        self.adding_points = not self.adding_points\n",
    "        self.new_line_point = None\n",
    "        if self.adding_points:\n",
    "            self.adding_lines = False\n",
    "            self.adding_rects = False\n",
    "            self.added_points.append(PointsCollection([]))\n",
    "            \n",
    "    # Metoda ta aktywuje funkcję rysowania odcinków wyłączając równocześnie\n",
    "    # rysowanie punktów i wielokątów.     \n",
    "    def add_line(self, event):   \n",
    "        self.adding_lines = not self.adding_lines\n",
    "        self.new_line_point = None\n",
    "        if self.adding_lines:\n",
    "            self.adding_points = False\n",
    "            self.adding_rects = False\n",
    "            self.added_lines.append(LinesCollection([]))\n",
    "\n",
    "    # Metoda ta aktywuje funkcję rysowania wielokątów wyłączając równocześnie\n",
    "    # rysowanie punktów i odcinków.\n",
    "    def add_rect(self, event):\n",
    "        self.adding_rects = not self.adding_rects\n",
    "        self.new_line_point = None\n",
    "        if self.adding_rects:\n",
    "            self.adding_points = False\n",
    "            self.adding_lines = False\n",
    "            self.new_rect()\n",
    "    \n",
    "    def new_rect(self):\n",
    "        self.added_rects.append(LinesCollection([]))\n",
    "        self.rect_points = []\n",
    "        \n",
    "    # Metoda odpowiedzialna za właściwą logikę rysowania nowych elementów. W\n",
    "    # zależności od włączonego trybu dodaje nowe punkty, początek, koniec odcinka\n",
    "    # lub poszczególne wierzchołki wielokąta. Istnieje ciekawa logika sprawdzania\n",
    "    # czy dany punkt jest domykający dla danego wielokąta. Polega ona na tym, że\n",
    "    # sprawdzamy czy odległość nowego punktu od początkowego jest większa od\n",
    "    # średniej długości zakresu pomnożonej razy parametr TOLERANCE.   \n",
    "    def on_click(self, event):\n",
    "        if event.inaxes != self.ax:\n",
    "            return\n",
    "        new_point = (event.xdata, event.ydata)\n",
    "        if self.adding_points:\n",
    "            self.added_points[-1].add_points([new_point])\n",
    "            self.draw(autoscaling = False)\n",
    "        elif self.adding_lines:\n",
    "            if self.new_line_point is not None:\n",
    "                self.added_lines[-1].add([self.new_line_point, new_point])\n",
    "                self.new_line_point = None\n",
    "                self.draw(autoscaling = False)\n",
    "            else:\n",
    "                self.new_line_point = new_point\n",
    "        elif self.adding_rects:\n",
    "            if len(self.rect_points) == 0:\n",
    "                self.rect_points.append(new_point)\n",
    "            elif len(self.rect_points) == 1:\n",
    "                self.added_rects[-1].add([self.rect_points[-1], new_point])\n",
    "                self.rect_points.append(new_point)\n",
    "                self.draw(autoscaling = False)\n",
    "            elif len(self.rect_points) > 1:\n",
    "                if dist(self.rect_points[0], new_point) < (np.mean([self.ax.get_xlim(), self.ax.get_ylim()])*TOLERANCE):\n",
    "                    self.added_rects[-1].add([self.rect_points[-1], self.rect_points[0]])\n",
    "                    self.new_rect()\n",
    "                else:    \n",
    "                    self.added_rects[-1].add([self.rect_points[-1], new_point])\n",
    "                    self.rect_points.append(new_point)\n",
    "                self.draw(autoscaling = False)\n",
    "    \n",
    "    # Metoda odpowiedzialna za narysowanie całego wykresu. Warto zauważyć,\n",
    "    # że zaczyna się ona od wyczyszczenia jego wcześniejszego stanu. Istnieje w\n",
    "    # niej nietrywialna logika zarządzania zakresem wykresu, tak żeby, w zależności\n",
    "    # od ustawionego parametru autoscaling, uniknąć sytuacji, kiedy dodawanie\n",
    "    # nowych punktów przy brzegu obecnie widzianego zakresu powoduje niekorzystne\n",
    "    # przeskalowanie.\n",
    "    def draw(self, autoscaling = True):\n",
    "        if not autoscaling:\n",
    "            xlim = self.ax.get_xlim()\n",
    "            ylim = self.ax.get_ylim()\n",
    "        self.ax.clear()\n",
    "        for collection in (self.scenes[self.i].points + self.added_points):\n",
    "            if len(collection.points) > 0:\n",
    "                self.ax.scatter(*zip(*(np.array(collection.points))), **collection.kwargs)\n",
    "        for collection in (self.scenes[self.i].lines + self.added_lines + self.added_rects):\n",
    "            self.ax.add_collection(collection.get_collection())\n",
    "        self.ax.autoscale(autoscaling)\n",
    "        if not autoscaling:\n",
    "            self.ax.set_xlim(xlim)\n",
    "            self.ax.set_ylim(ylim)\n",
    "            \n",
    "        # Dodano: zapisz tytuł sceny\n",
    "        fig = plt.gcf() # Aktywne okno\n",
    "        fig.suptitle(self.scene_title)\n",
    "        \n",
    "        plt.draw()\n"
   ]
  },
  {
   "cell_type": "markdown",
   "metadata": {},
   "source": [
    "### Interfejsy\n",
    "\n",
    "[Dostępne kolory](https://matplotlib.org/3.1.1/gallery/color/named_colors.html)\n",
    "\n",
    "[Dostępne znaczniki punktów](https://matplotlib.org/3.1.1/api/markers_api.html#module-matplotlib.markers)"
   ]
  },
  {
   "cell_type": "code",
   "execution_count": null,
   "metadata": {},
   "outputs": [],
   "source": [
    "# Klasa Scene odpowiada za przechowywanie elementów, które mają być\n",
    "# wyświetlane równocześnie. Konkretnie jest to lista PointsCollection i\n",
    "# LinesCollection.\n",
    "class Scene:\n",
    "    def __init__(self, points=[], lines=[], title=\"\"):\n",
    "        self.points=points\n",
    "        self.lines=lines\n",
    "        # Dodano: zapisz tytuł sceny\n",
    "        self.title = '\\n'+title if title != \"\" else \"\"\n",
    "\n",
    "# Klasa PointsCollection gromadzi w sobie punkty jednego typu, a więc takie,\n",
    "# które zostaną narysowane w takim samym kolorze i stylu. W konstruktorze\n",
    "# przyjmuje listę punktów rozumianych jako pary współrzędnych (x, y). Parametr\n",
    "# kwargs jest przekazywany do wywołania funkcji z biblioteki MatPlotLib przez\n",
    "# co użytkownik może podawać wszystkie parametry tam zaproponowane.        \n",
    "class PointsCollection:\n",
    "    def __init__(self, points, **kwargs):\n",
    "        self.points = points\n",
    "        self.kwargs = kwargs\n",
    "    \n",
    "    def add_points(self, points):\n",
    "        self.points = self.points + points\n",
    "\n",
    "# Klasa LinesCollection podobnie jak jej punktowy odpowiednik gromadzi\n",
    "# odcinki tego samego typu. Tworząc ją należy podać listę linii, gdzie każda\n",
    "# z nich jest dwuelementową listą punktów – par (x, y). Parametr kwargs jest\n",
    "# przekazywany do wywołania funkcji z biblioteki MatPlotLib przez co użytkownik\n",
    "# może podawać wszystkie parametry tam zaproponowane.\n",
    "class LinesCollection:\n",
    "    def __init__(self, lines, **kwargs):\n",
    "        self.lines = lines\n",
    "        self.kwargs = kwargs\n",
    "        \n",
    "    def add(self, line):\n",
    "        self.lines.append(line)\n",
    "        \n",
    "    def get_collection(self):\n",
    "        return mcoll.LineCollection(self.lines, **self.kwargs)\n",
    "\n",
    "# Klasa Plot jest najważniejszą klasą w całym programie, ponieważ agreguje\n",
    "# wszystkie przygotowane sceny, odpowiada za stworzenie wykresu i przechowuje\n",
    "# referencje na przyciski, dzięki czemu nie będą one skasowane podczas tzw.\n",
    "# garbage collectingu.\n",
    "class Plot:\n",
    "    def __init__(self, scenes = [Scene()], points = [], lines = [], json = None, title=\"\"):\n",
    "        # ADDED: plot title\n",
    "        self.plot_title = title\n",
    "        if json is None:\n",
    "            self.scenes = scenes\n",
    "            if points or lines:\n",
    "                self.scenes[0].points = points\n",
    "                self.scenes[0].lines = lines\n",
    "        else:\n",
    "            self.scenes = [Scene([PointsCollection(pointsCol) for pointsCol in scene[\"points\"]], \n",
    "                                 [LinesCollection(linesCol) for linesCol in scene[\"lines\"]]) \n",
    "                           for scene in js.loads(json)]\n",
    "    \n",
    "    # Ta metoda ma szczególne znaczenie, ponieważ konfiguruje przyciski i\n",
    "    # wykonuje tym samym dość skomplikowaną logikę. Zauważmy, że konfigurując każdy\n",
    "    # przycisk podajemy referencję na metodę obiektu _Button_callback, która\n",
    "    # zostanie wykonana w momencie naciśnięcia.\n",
    "    def __configure_buttons(self):\n",
    "        plt.subplots_adjust(bottom=0.2)\n",
    "        ax_prev = plt.axes([0.6, 0.05, 0.15, 0.075])\n",
    "        ax_next = plt.axes([0.76, 0.05, 0.15, 0.075])\n",
    "        ax_add_point = plt.axes([0.44, 0.05, 0.15, 0.075])\n",
    "        ax_add_line = plt.axes([0.28, 0.05, 0.15, 0.075])\n",
    "        ax_add_rect = plt.axes([0.12, 0.05, 0.15, 0.075])\n",
    "        b_next = Button(ax_next, 'Następny')\n",
    "        b_next.on_clicked(self.callback.next)\n",
    "        b_prev = Button(ax_prev, 'Poprzedni')\n",
    "        b_prev.on_clicked(self.callback.prev)\n",
    "        b_add_point = Button(ax_add_point, 'Dodaj punkt')\n",
    "        b_add_point.on_clicked(self.callback.add_point)\n",
    "        b_add_line = Button(ax_add_line, 'Dodaj linię')\n",
    "        b_add_line.on_clicked(self.callback.add_line)\n",
    "        b_add_rect = Button(ax_add_rect, 'Dodaj figurę')\n",
    "        b_add_rect.on_clicked(self.callback.add_rect)\n",
    "        return [b_prev, b_next, b_add_point, b_add_line, b_add_rect]\n",
    "    \n",
    "    def add_scene(self, scene):\n",
    "        self.scenes.append(scene)\n",
    "    \n",
    "    def add_scenes(self, scenes):\n",
    "        self.scenes = self.scenes + scenes\n",
    "\n",
    "    # Metoda toJson() odpowiada za zapisanie stanu obiektu do ciągu znaków w\n",
    "    # formacie JSON.\n",
    "    def toJson(self):\n",
    "        return js.dumps([{\"points\": [np.array(pointCol.points).tolist() for pointCol in scene.points], \n",
    "                          \"lines\":[linesCol.lines for linesCol in scene.lines]} \n",
    "                         for scene in self.scenes])    \n",
    "    \n",
    "    # Metoda ta zwraca punkty dodane w trakcie rysowania.\n",
    "    def get_added_points(self):\n",
    "        if self.callback:\n",
    "            return self.callback.added_points\n",
    "        else:\n",
    "            return None\n",
    "    \n",
    "    # Metoda ta zwraca odcinki dodane w trakcie rysowania.\n",
    "    def get_added_lines(self):\n",
    "        if self.callback:\n",
    "            return self.callback.added_lines\n",
    "        else:\n",
    "            return None\n",
    "        \n",
    "    # Metoda ta zwraca wielokąty dodane w trakcie rysowania.\n",
    "    def get_added_figure(self):\n",
    "        if self.callback:\n",
    "            return self.callback.added_rects\n",
    "        else:\n",
    "            return None\n",
    "    \n",
    "    # Metoda ta zwraca punkty, odcinki i wielokąty dodane w trakcie rysowania\n",
    "    # jako scenę.\n",
    "    def get_added_elements(self):\n",
    "        if self.callback:\n",
    "            return Scene(self.callback.added_points, self.callback.added_lines+self.callback.added_rects)\n",
    "        else:\n",
    "            return None\n",
    "    \n",
    "    # Główna metoda inicjalizująca wyświetlanie wykresu.\n",
    "    def draw(self):\n",
    "        plt.close()\n",
    "        # Dodano: tytuł wykresu\n",
    "        fig = plt.figure(num=self.plot_title)\n",
    "        self.callback = _Button_callback(self.scenes)\n",
    "        self.widgets = self.__configure_buttons()\n",
    "        ax = plt.axes(autoscale_on = False)\n",
    "        self.callback.set_axes(ax)\n",
    "        fig.canvas.mpl_connect('button_press_event', self.callback.on_click)\n",
    "        plt.show()\n",
    "        self.callback.draw()\n",
    "        "
   ]
  },
  {
   "cell_type": "markdown",
   "metadata": {},
   "source": [
    "### Przykłady użycia"
   ]
  },
  {
   "cell_type": "markdown",
   "metadata": {},
   "source": [
    "##### Proste rysowanie\n",
    "\n",
    "Rysowanie prostego rysunku złożonego ze statycznych punktów i odcinków jest stosunkowo proste. Należy utworzyć zmienną z obiektem `Plot`, który przyjmuje w konstruktorze listę obiektów `PointsCollection` jako parametr `points` oraz listę `LinesCollection` jako parametr `lines`. Następnie należy wywołać jego metodę `draw()`.\n",
    "\n",
    "```python\n",
    "plot = Plot(points=[PointsCollection([(1, 2), (3, 1.5), (2, -1)]),\n",
    "               PointsCollection([(5, -2), (2, 2), (-2, -1)], color='green', marker = \"^\")],\n",
    "            lines=[LinesCollection([[(1,2),(2,3)], [(0,1),(1,0)]])])\n",
    "plot.draw()     \n",
    "```"
   ]
  },
  {
   "cell_type": "markdown",
   "metadata": {},
   "source": [
    "##### Rysunek dynamiczny\n",
    "\n",
    "To narzędzie pozwala na wizualizację \"rysunków dynamicznych\", a więc takich, które składają się z wielu różnych obrazów. Może to być przydatne np. podczas wizualizacji kolejnych kroków danego algorytmu. Poszczególne klatki określane są jako obiekty `Scene`, które przyjmują listę `PointsCollection` oraz listę `LinesCollection` w swoim konstruktorze. Obiekt `Plot` przyjmuje w parametrze konstruktora `scenes` właśnie listę takich scen.\n",
    "\n",
    "Na rysunku przyciski `Następny` i `Poprzedni` służą do nawigacji pomiędzy nimi.\n",
    "\n",
    "```python\n",
    "scenes=[Scene([PointsCollection([(1, 2), (3, 1.5), (2, -1)]), \n",
    "               PointsCollection([(5, -2), (2, 2), (-2, -1)], color='green', marker = \"^\")], \n",
    "              [LinesCollection([[(1,2),(2,3)], [(0,1),(1,0)]])], \"Scene 1\"), \n",
    "        Scene([PointsCollection([(1, 2), (3, 1.5), (2, -1)], color='red'), \n",
    "               PointsCollection([(5, -2), (2, 2), (-2, 1)], color='black')], \n",
    "              [LinesCollection([[(-1,2),(-2,3)], [(0,-1),(-1,0)]])],\"Scene 2\")]\n",
    "\n",
    "plot=Plot(scenes = scenes)\n",
    "plot.draw()\n",
    "```"
   ]
  },
  {
   "cell_type": "markdown",
   "metadata": {},
   "source": [
    "##### Zapis i odczyt z pliku\n",
    "\n",
    "Klasa Plot posiada metodę `toJson()`, która zwraca string zawierający listę scen w formacie JSON. Taki string można normalnie zapisać do pliku stosując normalne sposoby dostępne w Pythonie. Wczytanie listy scen z pliku dokonuje się poprzez podanie parametru `json` w kostruktorze `Plot`.\n",
    "\n",
    "```python\n",
    "scenes=[Scene([PointsCollection([(-2, -1)], color='green', marker = \"^\")], \n",
    "              [LinesCollection([[(1,2),(2,3)], [(0,1),(1,0)]])]), \n",
    "        Scene([PointsCollection([(1, 2), (3, 1.5)], color='red'), \n",
    "               PointsCollection([(5, -2)], color='black')])]\n",
    "plot = Plot(scenes)\n",
    "\n",
    "with open('somefile.json', 'w') as file:\n",
    "    file.write(plot.toJson())\n",
    "    \n",
    "#somefile.json: [{\"points\": [[[-2, -1]]], \"lines\": [[[[1, 2], [2, 3]], [[0, 1], [1, 0]]]]}, {\"points\": [[[1.0, 2.0], [3.0, 1.5]], [[5, -2]]], \"lines\": []}]\n",
    "    \n",
    "with open('somefile.json', 'r') as file:\n",
    "    json = file.read()\n",
    "    \n",
    "plot2 = Plot(json=json)\n",
    "plot2.draw()\n",
    "```"
   ]
  },
  {
   "cell_type": "markdown",
   "metadata": {},
   "source": [
    "##### Operowanie na dodanych punktach\n",
    "\n",
    "Możemy bardzo łatwo rysować nowe punkty i linie. Aby je później wykorzystać sugerowanym sposobem jest utworzenie nowej komórki, w której utworzymy nowy `Plot` i skorzystamy z metod `get_added_points()` i `get_added_points()` lub `get_added_elements()` (zwraca scenę) z pierwszego `Plot`u.\n",
    "\n",
    "```python \n",
    "#Dodaj tu punkty, figury i/lub odcinki!\n",
    "plot1 = Plot(points=[PointsCollection([(-2,-1),(5,3)], color='red')])\n",
    "plot1.draw()\n",
    "\n",
    "plot2 = Plot([plot1.get_added_elements()])\n",
    "plot2.draw()\n",
    "```"
   ]
  },
  {
   "cell_type": "markdown",
   "metadata": {},
   "source": [
    "## Zbiory punktów z domyślną precyzją\n"
   ]
  },
  {
   "cell_type": "markdown",
   "metadata": {},
   "source": [
    "Zbiór A -  $10^5$ losowych punktów o współrzędnych z przedziału $[-1000, 1000]$"
   ]
  },
  {
   "cell_type": "code",
   "execution_count": null,
   "metadata": {
    "scrolled": false
   },
   "outputs": [],
   "source": [
    "# Set seed for reproducibility\n",
    "np.random.seed(2317)\n",
    "\n",
    "points_list_a = np.random.uniform(-1000,1000, size=[10 ** 5, 2])\n",
    "points_list_a = PointsCollection(points_list_a)\n",
    "plot = Plot(points=[points_list_a], title=\"Zestaw danych A\")\n",
    "plot.draw()"
   ]
  },
  {
   "cell_type": "markdown",
   "metadata": {},
   "source": [
    "Zbiór B - $10^5$ losowych punktów o współrzędnych z przedziału $[-10^{14}, 10^{14}]$"
   ]
  },
  {
   "cell_type": "code",
   "execution_count": null,
   "metadata": {},
   "outputs": [],
   "source": [
    "# Set seed for reproducibility\n",
    "np.random.seed(2173)\n",
    "\n",
    "points_list_b = np.random.uniform(-(10 ** 14),10 ** 14, size=[10 ** 5, 2])\n",
    "points_list_b = PointsCollection(points_list_b)\n",
    "plot = Plot(points=[points_list_b], title=\"Zestaw danych B\")\n",
    "plot.draw()"
   ]
  },
  {
   "cell_type": "markdown",
   "metadata": {},
   "source": [
    "Zbiór C - $1000$ losowych punktów leżących na okręgu o środku $(0,0)$ i promieniu $R=100$"
   ]
  },
  {
   "cell_type": "code",
   "execution_count": null,
   "metadata": {},
   "outputs": [],
   "source": [
    "# Set seed for reproducibility\n",
    "np.random.seed(3217)\n",
    "\n",
    "# Generate points on a circle using polar coordinates: (Rsinx, Rcosx), x in [0, 2pi]\n",
    "points_list = []\n",
    "R = 100\n",
    "random_list = np.random.uniform(0,2*np.pi, size=1000)\n",
    "\n",
    "for i in range(1000):\n",
    "    x = random_list[i]\n",
    "    points_list.append((R*np.sin(x), R*np.cos(x)))\n",
    "\n",
    "points_list_c = PointsCollection(points_list)\n",
    "plot = Plot(points=[points_list_c], title=\"Zestaw danych C\")\n",
    "plot.draw()"
   ]
  },
  {
   "cell_type": "markdown",
   "metadata": {},
   "source": [
    "Zbiór D - $1000$ losowych punktów o współrzędnych z przedziału $[-1000, 1000]$ leżących na prostej\n",
    "wyznaczonej przez wektor (a, b).  \n",
    "Przyjmij $a = [-1.0, 0.0]$, $b = [1.0, 0.1]$"
   ]
  },
  {
   "cell_type": "code",
   "execution_count": null,
   "metadata": {
    "scrolled": true
   },
   "outputs": [],
   "source": [
    "# Set seed for reproducibility\n",
    "np.random.seed(7312)\n",
    "\n",
    "A = (-1.0,0.0)\n",
    "B = (1.0,0.1)\n",
    "\n",
    "# y = a*x + b\n",
    "a = (A[1] - B[1])/(A[0] - B[0])\n",
    "b = A[1] - a*A[0]\n",
    "\n",
    "\n",
    "points_list = []\n",
    "random_points = np.random.uniform(-1000,1000, size=1000)\n",
    "\n",
    "for i in range(1000):    \n",
    "    x = random_points[i]\n",
    "    y = a*x + b\n",
    "    points_list.append((x,y))\n",
    "\n",
    "points_list_d = PointsCollection(points_list)\n",
    "plot = Plot(points=[points_list_d], title=\"Zestaw danych D\")\n",
    "plot.draw()"
   ]
  },
  {
   "cell_type": "markdown",
   "metadata": {},
   "source": [
    "\n",
    "### Klasyfikacja punktów\n",
    "\n",
    "#### Implementacje wyznaczników\n",
    "\n",
    "Do klasyfikacji punktów wykorzystamy własne implementacje wyznaczników, które wykorzystują metodę Sarrusa oraz wyznaczniki dostępne w bibliotece `numpy`."
   ]
  },
  {
   "cell_type": "code",
   "execution_count": null,
   "metadata": {},
   "outputs": [],
   "source": [
    "def det3x3(a,b,c,numpy=True):\n",
    "    matrix = [[],[],[]]\n",
    "    matrix[0] = [a[0], a[1], 1]\n",
    "    matrix[1] = [b[0], b[1], 1]\n",
    "    matrix[2] = [c[0], c[1], 1]\n",
    "\n",
    "    if numpy:\n",
    "        matrix = np.array(matrix)\n",
    "        return np.linalg.det(matrix)\n",
    "\n",
    "    f1 = matrix[0][0] * matrix[1][1] * matrix[2][2]\n",
    "    f2 = matrix[0][1] * matrix[1][2] * matrix[2][0]\n",
    "    f3 = matrix[1][0] * matrix[2][1] * matrix[0][2]\n",
    "    f4 = matrix[0][2] * matrix[1][1] * matrix[2][0]\n",
    "    f5 = matrix[1][2] * matrix[2][1] * matrix[0][0]\n",
    "    f6 = matrix[1][0] * matrix[0][1] * matrix[2][2]\n",
    "    return f1+f2+f3-f4-f5-f6\n",
    "\n",
    "def det2x2(a,b,c,numpy=True):\n",
    "    matrix = [[],[]]\n",
    "    matrix[0] = [a[0]-c[0], a[1]-c[1]]\n",
    "    matrix[1] = [b[0]-c[0], b[1]-c[1]]\n",
    "\n",
    "    if numpy:\n",
    "        matrix = np.array(matrix)\n",
    "        return np.linalg.det(matrix)\n",
    "\n",
    "    f1 = matrix[0][0] * matrix[1][1]\n",
    "    f2 = matrix[0][1] * matrix[1][0]\n",
    "    return f1-f2"
   ]
  },
  {
   "cell_type": "markdown",
   "metadata": {},
   "source": [
    "#### Funkcje pomocnicze\n",
    "Za klasyfikację punktów odpowiada funkcja `classify_points`, która pozwala klasyfikować punkty z dokładnością do podanej tolerancji. Funkcja zwraca sklasyfikowane punkty, które są rozszerzone o informacje po której stronie odcinka są oraz listę z punktami sklasyfikowanymi po lewej, prawej stronie odcinka lub na odcinku.\n",
    "Legenda kolorów:\n",
    "- czerwony - punkt jest współliniowy\n",
    "- niebieski - punkt jest po lewej stronie\n",
    "- zielony - punkt jest po prawej stronie\n",
    "\n",
    "Funkcja `print_classified_points` odpowiada za wygenerowanie scen do wykresu oraz do stworzenia listy z danymi potrzebnej do utworzenia tabeli porównującej dane wyznaczniki.\n",
    "\n",
    "Aby pokazać tabelę porównującą dane wyznaczniki wraz z odpowiednimi tolerancjami zera należy wywołać funkcję `print_classified_points_table`, która przyjmuje dane z funkcji `print_classified_points`\n",
    "\n",
    "Aby zmienić wykres danej klasyfikacji punktów należy kliknąć odpowiednio `Następny` lub `Poprzedni`. Po naciśnięciu tytuł wykresu powinien zostać zmieniony."
   ]
  },
  {
   "cell_type": "code",
   "execution_count": null,
   "metadata": {},
   "outputs": [],
   "source": [
    "def classify_points(points,det_function, use_numpy=True, epsilon=0):\n",
    "    # Segment points\n",
    "    a = [-1.0,0.0]\n",
    "    b = [1.0, 0.1]  \n",
    "    \n",
    "    collinear = []\n",
    "    left = []\n",
    "    right = []\n",
    "    clasified_points = []\n",
    "\n",
    "    measured_time = []\n",
    "\n",
    "    for c in points.points:\n",
    "        # Time measurement\n",
    "        t = time.process_time()\n",
    "        det_value = det_function(a,b,c,use_numpy)\n",
    "        measured_time.append(time.process_time() - t)\n",
    "        if -epsilon <= det_value <= epsilon:\n",
    "            collinear.append(c)\n",
    "            clasified_points.append((0,c[0],c[1]))\n",
    "        elif det_value < -epsilon:\n",
    "            right.append(c)\n",
    "            clasified_points.append((-1,c[0],c[1]))\n",
    "        else:\n",
    "            left.append(c)\n",
    "            clasified_points.append((1,c[0],c[1]))\n",
    "\n",
    "    left = PointsCollection(left, color='blue')\n",
    "    right = PointsCollection(right, color='green')\n",
    "    collinear = PointsCollection(collinear, color='red')\n",
    "    \n",
    "    return clasified_points, [left, right, collinear], mean(measured_time)\n",
    "\n",
    "def print_classified_points(points_list):\n",
    "    precisions = [1e-18, 1e-14, 1e-10, 1e-06]\n",
    "    scenes = []\n",
    "    # Determinant order: [własny 2x2, numpy 2x2, własny 3x3, numpy 3x3]\n",
    "    # Precision order:  [1e-18, 1e-14, 1e-10, 1e-06]\n",
    "    classified_points = []\n",
    "    \n",
    "    for prec in precisions:\n",
    "        classified_points_group = []\n",
    "\n",
    "        classified_points_2m, points_2m, avg_time_2m = classify_points(points_list, det2x2, use_numpy=False, epsilon=prec)\n",
    "        classified_points_group.append((classified_points_2m, len(points_2m[0].points), len(points_2m[1].points), \n",
    "                                        len(points_2m[2].points), prec,\"Wyznacznik własny 2x2\",avg_time_2m))\n",
    "\n",
    "        classified_points_2n, points_2n,avg_time_2n = classify_points(points_list, det2x2, use_numpy=True, epsilon=prec)\n",
    "        classified_points_group.append((classified_points_2n, len(points_2n[0].points), len(points_2n[1].points), \n",
    "                                        len(points_2n[2].points), prec,\"Wyznacznik numpy 2x2\",avg_time_2n))\n",
    "\n",
    "        classified_points_3m, points_3m,avg_time_3m = classify_points(points_list, det3x3, use_numpy=False, epsilon=prec)\n",
    "        classified_points_group.append((classified_points_3m, len(points_3m[0].points), len(points_3m[1].points), \n",
    "                                        len(points_3m[2].points), prec,\"Wyznacznik własny 3x3\",avg_time_3m))\n",
    "\n",
    "        classified_points_3n, points_3n,avg_time_3n = classify_points(points_list, det3x3, use_numpy=True, epsilon=prec)\n",
    "        classified_points_group.append((classified_points_3n, len(points_3n[0].points), len(points_3n[1].points), \n",
    "                                        len(points_3n[2].points), prec,\"Wyznacznik numpy 3x3\",avg_time_3n))\n",
    "\n",
    "        scenes.append(Scene(points=points_2m, title=f\"Wyznacznik własny 2x2 tolerancja {prec}\"))\n",
    "        scenes.append(Scene(points=points_2n, title=f\"Wyznacznik numpy 2x2 tolerancja {prec}\"))\n",
    "        scenes.append(Scene(points=points_3m, title=f\"Wyznacznik własny 3x3 tolerancja {prec}\"))\n",
    "        scenes.append(Scene(points=points_3n, title=f\"Wyznacznik numpy 3x3 tolerancja {prec}\"))\n",
    "        \n",
    "        classified_points.append(classified_points_group)\n",
    "        \n",
    "    return scenes, classified_points\n",
    "\n",
    "def print_classified_points_table(classified_points, table_title = \"\"):\n",
    "    print(table_title + '\\n')\n",
    "    for prec in range(len(classified_points)):\n",
    "        title = f\"Epsilon {classified_points[prec][0][-3]}\"\n",
    "        title = title.center(120,'-')\n",
    "        print(title)\n",
    "        for i in range(len(classified_points[0])):\n",
    "            col1 = f\"{classified_points[prec][i][-2]}\"\n",
    "            col1 = col1.center(25)\n",
    "            col2 = f\"Left: {classified_points[prec][i][1]}\"\n",
    "            col2 = col2.center(18)\n",
    "            col3 = f\"Right: {classified_points[prec][i][2]}\"\n",
    "            col3 = col3.center(18)\n",
    "            col4 = f\"Collinear: {classified_points[prec][i][3]}\"\n",
    "            col4 = col4.center(18)\n",
    "            col5 = f\"Average CPU time: {classified_points[prec][i][-1]:.5e}\"\n",
    "            col5 = col5.center(36)\n",
    "            print(f\"|{col1}|{col2}|{col3}|{col4}|{col5}|\")\n",
    "            print(120 * '-')   "
   ]
  },
  {
   "cell_type": "markdown",
   "metadata": {},
   "source": [
    "#### Zestaw danych A"
   ]
  },
  {
   "cell_type": "code",
   "execution_count": null,
   "metadata": {},
   "outputs": [],
   "source": [
    "scenes, classified_points_a = print_classified_points(points_list_a)\n",
    "plot = Plot(scenes, title=f\"Klasyfikacja punktów zestaw danych A\")\n",
    "plot.draw()\n",
    "\n",
    "print_classified_points_table(classified_points_a, \"Tabela klasyfikacji punktów względem tolerancji zera:\")"
   ]
  },
  {
   "cell_type": "markdown",
   "metadata": {},
   "source": [
    "#### Zestaw danych B"
   ]
  },
  {
   "cell_type": "code",
   "execution_count": null,
   "metadata": {},
   "outputs": [],
   "source": [
    "scenes, classified_points_b = print_classified_points(points_list_b)\n",
    "plot = Plot(scenes, title=f\"Klasyfikacja punktów zestaw danych B\")\n",
    "plot.draw()\n",
    "\n",
    "print_classified_points_table(classified_points_b, \"Tabela klasyfikacji punktów względem tolerancji zera:\")"
   ]
  },
  {
   "cell_type": "markdown",
   "metadata": {},
   "source": [
    "#### Zestaw danych C"
   ]
  },
  {
   "cell_type": "code",
   "execution_count": null,
   "metadata": {},
   "outputs": [],
   "source": [
    "scenes, classified_points_c = print_classified_points(points_list_c)\n",
    "plot = Plot(scenes, title=f\"Klasyfikacja punktów zestaw danych C\")\n",
    "plot.draw()\n",
    "\n",
    "print_classified_points_table(classified_points_c, \"Tabela klasyfikacji punktów względem tolerancji zera:\")"
   ]
  },
  {
   "cell_type": "markdown",
   "metadata": {},
   "source": [
    "#### Zestaw danych D"
   ]
  },
  {
   "cell_type": "code",
   "execution_count": null,
   "metadata": {
    "pycharm": {
     "is_executing": true
    }
   },
   "outputs": [],
   "source": [
    "scenes, classified_points_d = print_classified_points(points_list_d)\n",
    "plot = Plot(scenes, title=f\"Klasyfikacja punktów zestaw danych D\")\n",
    "plot.draw()\n",
    "\n",
    "print_classified_points_table(classified_points_d, \"Tabela klasyfikacji punktów względem tolerancji zera:\")"
   ]
  },
  {
   "cell_type": "markdown",
   "metadata": {},
   "source": [
    "### Porównanie klasyfikacji\n",
    "\n",
    "Funkcja `compare_points`, pozwala na porównanie punktów, które zwróciła funkcja `classify_points`, dla danego zestawu danych. Funkcja zwraca gotową listę punktów typu `PointsCollection`.\n",
    "\n",
    "Aby wygenerować sceny oraz dane do tabeli porównującej różnice w klasyfikacji punktów należy użyć funkcji `print_compare_points`.\n",
    "\n",
    "Tabela wypisująca ile punktów zostało inaczej zakwalifikowanych jest zaimplementowana w funkcji `print_compared_points_table`\n",
    "\n",
    "Aby zmienić wykres danego porównania klasyfikacji punktów należy kliknąć odpowiednio `Następny` lub `Poprzedni`. Po naciśnięciu tytuł wykresu powinien zostać zmieniony."
   ]
  },
  {
   "cell_type": "code",
   "execution_count": null,
   "metadata": {
    "scrolled": true
   },
   "outputs": [],
   "source": [
    "def compare_points(p1,p2):\n",
    "    different_points = []\n",
    "    for i in range(len(p1)):\n",
    "        t1,x1,y1 = p1[i]\n",
    "        t2,x2,y2 = p2[i]\n",
    "\n",
    "        if t1==t2:\n",
    "            continue\n",
    "\n",
    "        different_points.append((x1,y1))\n",
    "    return  [PointsCollection(different_points,color='red')]\n",
    "\n",
    "def print_compare_points(classified_points):\n",
    "    scenes = []\n",
    "    precisions = [1e-18, 1e-14, 1e-10 ,1e-06]\n",
    "    # Determinant order:      [własny 2x2 i numpy 2x2, \n",
    "    #                          własny 3x3 i numpy 3x3, \n",
    "    #                          własny 2x2 i numpy 3x3, \n",
    "    #                          własny 3x3 i numpy 2x2]\n",
    "    # Precision order:  [1e-18, 1e-14, 1e-10, 1e-06]\n",
    "    compared_points_array = []\n",
    "    for i in range(len(classified_points)): \n",
    "        prec = precisions[i]\n",
    "        compared_points_group = []\n",
    "\n",
    "        compared_points = compare_points(classified_points[i][0][0],classified_points[i][1][0])\n",
    "        scenes.append(Scene(points=compared_points, title=f\"Wyznacznik własny 2x2 i numpy 2x2 - {prec}\"))\n",
    "        compared_points_group.append((len(compared_points[0].points),\"Wyznacznik własny 2x2 i numpy 2x2\",prec))\n",
    "        \n",
    "        compared_points = compare_points(classified_points[i][2][0],classified_points[i][3][0])\n",
    "        scenes.append(Scene(points=compared_points, title=f\"Wyznacznik własny 3x3 i numpy 3x3 - {prec}\"))\n",
    "        compared_points_group.append((len(compared_points[0].points),\"Wyznacznik własny 3x3 i numpy 3x3\",prec))\n",
    "\n",
    "        compared_points = compare_points(classified_points[i][0][0],classified_points[i][3][0])\n",
    "        scenes.append(Scene(points=compared_points, title=f\"Wyznacznik własny 2x2 i numpy 3x3 - {prec}\"))\n",
    "        compared_points_group.append((len(compared_points[0].points),\"Wyznacznik własny 2x2 i numpy 3x3\",prec))\n",
    "\n",
    "        compared_points = compare_points(classified_points[i][2][0],classified_points[i][1][0])\n",
    "        scenes.append(Scene(points=compared_points, title=f\"Wyznacznik własny 3x3 i numpy 2x2 - {prec}\"))\n",
    "        compared_points_group.append((len(compared_points[0].points),\"Wyznacznik własny 3x3 i numpy 2x2\",prec))\n",
    "\n",
    "        compared_points = compare_points(classified_points[i][0][0],classified_points[i][2][0])\n",
    "        scenes.append(Scene(points=compared_points, title=f\"Wyznacznik własny 2x2 i własny 3x3 - {prec}\"))\n",
    "        compared_points_group.append((len(compared_points[0].points),\"Wyznacznik własny 2x2 i własny 3x3\",prec))\n",
    "\n",
    "        compared_points = compare_points(classified_points[i][1][0],classified_points[i][3][0])\n",
    "        scenes.append(Scene(points=compared_points, title=f\"Wyznacznik numpy 2x2 i numpy 3x3 - {prec}\"))\n",
    "        compared_points_group.append((len(compared_points[0].points),\"Wyznacznik numpy 2x2 i numpy 3x3\",prec))\n",
    "\n",
    "        compared_points_array.append(compared_points_group)\n",
    "\n",
    "    return scenes, compared_points_array\n",
    "\n",
    "\n",
    "def print_compared_points_table(classified_points, table_title = \"\"):\n",
    "    print(table_title + '\\n')\n",
    "    for prec in range(len(classified_points)):\n",
    "        title = f\"Epsilon {classified_points[prec][0][-1]}\"\n",
    "        title = title.center(63,'-')\n",
    "        print(title)\n",
    "        for i in range(len(classified_points[0])):\n",
    "            col1 = f\"{classified_points[prec][i][-2]}\"\n",
    "            col1 = col1.center(40)\n",
    "            col2 = f\"Difference: {classified_points[prec][i][0]}\"\n",
    "            col2 = col2.center(20)\n",
    "            print(f\"|{col1}|{col2}|\")\n",
    "            print(63 * '-')   "
   ]
  },
  {
   "cell_type": "markdown",
   "metadata": {},
   "source": [
    "#### Zestaw danych A"
   ]
  },
  {
   "cell_type": "code",
   "execution_count": null,
   "metadata": {},
   "outputs": [],
   "source": [
    "scenes, compared_points_a = print_compare_points(classified_points_a)\n",
    "plot = Plot(scenes, title=\"Porównanie wyznaczników zestaw danych A\")\n",
    "plot.draw()\n",
    "\n",
    "print_compared_points_table(compared_points_a, \"Liczba punktów inaczej sklasyfikowanych przez wyznaczniki:\")"
   ]
  },
  {
   "cell_type": "markdown",
   "metadata": {},
   "source": [
    "#### Zestaw danych B"
   ]
  },
  {
   "cell_type": "code",
   "execution_count": null,
   "metadata": {},
   "outputs": [],
   "source": [
    "scenes, compared_points_b = print_compare_points(classified_points_b)\n",
    "plot = Plot(scenes, title=\"Porównanie wyznaczników zestaw danych B\")\n",
    "plot.draw()\n",
    "\n",
    "print_compared_points_table(compared_points_b, \"Liczba punktów inaczej sklasyfikowanych przez wyznaczniki:\")"
   ]
  },
  {
   "cell_type": "markdown",
   "metadata": {},
   "source": [
    "#### Zestaw danych C"
   ]
  },
  {
   "cell_type": "code",
   "execution_count": null,
   "metadata": {},
   "outputs": [],
   "source": [
    "scenes, compared_points_c = print_compare_points(classified_points_c)\n",
    "plot = Plot(scenes, title=\"Porównanie wyznaczników zestaw danych C\")\n",
    "plot.draw()\n",
    "\n",
    "print_compared_points_table(compared_points_c, \"Liczba punktów inaczej sklasyfikowanych przez wyznaczniki:\")"
   ]
  },
  {
   "cell_type": "markdown",
   "metadata": {},
   "source": [
    "#### Zestaw danych D"
   ]
  },
  {
   "cell_type": "code",
   "execution_count": null,
   "metadata": {},
   "outputs": [],
   "source": [
    "scenes, compared_points_d = print_compare_points(classified_points_d)\n",
    "plot = Plot(scenes, title=\"Porównanie wyznaczników zestaw danych D\")\n",
    "plot.draw()\n",
    "\n",
    "print_compared_points_table(compared_points_d, \"Liczba punktów inaczej sklasyfikowanych przez wyznaczniki:\")"
   ]
  },
  {
   "cell_type": "markdown",
   "metadata": {},
   "source": [
    "## Zbiory punktów typu float32\n",
    "Domyślnie numpy używa typu `numpy.float64`, dlatego warto zobaczyć co się stanie, gdy zmniejszymy precyzję.\n"
   ]
  },
  {
   "cell_type": "markdown",
   "metadata": {},
   "source": [
    "Zbiór A - $10^5$ losowych punktów o współrzędnych z przedziału $[-1000, 1000]$\n"
   ]
  },
  {
   "cell_type": "code",
   "execution_count": null,
   "metadata": {
    "scrolled": false
   },
   "outputs": [],
   "source": [
    "points_list_32_a = np.float32(points_list_a.points)\n",
    "points_list_32_a = PointsCollection(points_list_32_a)\n",
    "\n",
    "plot = Plot(points=[points_list_32_a], title=\"Zestaw danych A - float32\")\n",
    "plot.draw()"
   ]
  },
  {
   "cell_type": "markdown",
   "metadata": {},
   "source": [
    "Zbiór B - $10^5$ losowych punktów o współrzędnych z przedziału $[-10^{14}, 10^{14}]$"
   ]
  },
  {
   "cell_type": "code",
   "execution_count": null,
   "metadata": {},
   "outputs": [],
   "source": [
    "points_list_32_b = np.float32(points_list_b.points)\n",
    "points_list_32_b = PointsCollection(points_list_32_b)\n",
    "\n",
    "plot = Plot(points=[points_list_32_b], title=\"Zestaw danych B - float32\")\n",
    "plot.draw()"
   ]
  },
  {
   "cell_type": "markdown",
   "metadata": {},
   "source": [
    "Zbiór C - $1000$ losowych punktów leżących na okręgu o środku $(0,0)$ i promieniu $R=100$"
   ]
  },
  {
   "cell_type": "code",
   "execution_count": null,
   "metadata": {},
   "outputs": [],
   "source": [
    "points_list_32_c = np.float32(points_list_c.points)\n",
    "points_list_32_c = PointsCollection(points_list_32_c)\n",
    "\n",
    "plot = Plot(points=[points_list_32_c], title=\"Zestaw danych C - float32\")\n",
    "plot.draw()"
   ]
  },
  {
   "cell_type": "markdown",
   "metadata": {},
   "source": [
    "Zbiór D - $1000$ losowych punktów o współrzędnych z przedziału $[-1000, 1000]$ leżących na prostej\n",
    "wyznaczonej przez wektor (a, b).  \n",
    "Przyjmij $a = [-1.0, 0.0]$, $b = [1.0, 0.1]$"
   ]
  },
  {
   "cell_type": "code",
   "execution_count": null,
   "metadata": {
    "scrolled": true
   },
   "outputs": [],
   "source": [
    "points_list_32_d = np.float32(points_list_d.points)\n",
    "points_list_32_d = PointsCollection(points_list_32_d)\n",
    "\n",
    "plot = Plot(points=[points_list_32_d], title=\"Zestaw danych D - float32\")\n",
    "plot.draw()"
   ]
  },
  {
   "cell_type": "markdown",
   "metadata": {},
   "source": [
    "### Klasyfikacja punktów typu float32"
   ]
  },
  {
   "cell_type": "markdown",
   "metadata": {},
   "source": [
    "#### Zestaw danych A"
   ]
  },
  {
   "cell_type": "code",
   "execution_count": null,
   "metadata": {},
   "outputs": [],
   "source": [
    "scenes, classified_points_2a = print_classified_points(points_list_32_a)\n",
    "plot = Plot(scenes, title=f\"Klasyfikacja punktów zestaw danych A - float32\")\n",
    "plot.draw()\n",
    "\n",
    "print_classified_points_table(classified_points_2a, \"Tabela klasyfikacji punktów względem tolerancji zera:\")"
   ]
  },
  {
   "cell_type": "markdown",
   "metadata": {},
   "source": [
    "#### Zestaw danych B"
   ]
  },
  {
   "cell_type": "code",
   "execution_count": null,
   "metadata": {},
   "outputs": [],
   "source": [
    "scenes, classified_points_2b = print_classified_points(points_list_32_b)\n",
    "plot = Plot(scenes, title=f\"Klasyfikacja punktów zestaw danych B - float32\")\n",
    "plot.draw()\n",
    "\n",
    "print_classified_points_table(classified_points_2b, \"Tabela klasyfikacji punktów względem tolerancji zera:\")"
   ]
  },
  {
   "cell_type": "markdown",
   "metadata": {},
   "source": [
    "#### Zestaw danych C"
   ]
  },
  {
   "cell_type": "code",
   "execution_count": null,
   "metadata": {},
   "outputs": [],
   "source": [
    "scenes, classified_points_2c = print_classified_points(points_list_32_c)\n",
    "plot = Plot(scenes, title=f\"Klasyfikacja punktów zestaw danych C - float32\")\n",
    "plot.draw()\n",
    "\n",
    "print_classified_points_table(classified_points_2c, \"Tabela klasyfikacji punktów względem tolerancji zera:\")"
   ]
  },
  {
   "cell_type": "markdown",
   "metadata": {},
   "source": [
    "#### Zestaw danych D"
   ]
  },
  {
   "cell_type": "code",
   "execution_count": null,
   "metadata": {},
   "outputs": [],
   "source": [
    "scenes, classified_points_2d = print_classified_points(points_list_32_d)\n",
    "plot = Plot(scenes, title=f\"Klasyfikacja punktów zestaw danych D - float32\")\n",
    "plot.draw()\n",
    "\n",
    "print_classified_points_table(classified_points_2d, \"Tabela klasyfikacji punktów względem tolerancji zera:\")"
   ]
  },
  {
   "cell_type": "markdown",
   "metadata": {},
   "source": [
    "### Porównanie klasyfikacji punktów typu float32"
   ]
  },
  {
   "cell_type": "markdown",
   "metadata": {},
   "source": [
    "#### Zestaw danych A"
   ]
  },
  {
   "cell_type": "code",
   "execution_count": null,
   "metadata": {},
   "outputs": [],
   "source": [
    "scenes, compared_points_2a = print_compare_points(classified_points_2a)\n",
    "plot = Plot(scenes, title=\"Porównanie wyznaczników zestaw danych A - float32\")\n",
    "plot.draw()\n",
    "\n",
    "print_compared_points_table(compared_points_2a, \"Liczba punktów inaczej sklasyfikowanych przez wyznaczniki:\")"
   ]
  },
  {
   "cell_type": "markdown",
   "metadata": {},
   "source": [
    "#### Zestaw danych B"
   ]
  },
  {
   "cell_type": "code",
   "execution_count": null,
   "metadata": {},
   "outputs": [],
   "source": [
    "scenes, compared_points_2b = print_compare_points(classified_points_2b)\n",
    "plot = Plot(scenes, title=\"Porównanie wyznaczników zestaw danych B - float32\")\n",
    "plot.draw()\n",
    "\n",
    "print_compared_points_table(compared_points_2b, \"Liczba punktów inaczej sklasyfikowanych przez wyznaczniki:\")"
   ]
  },
  {
   "cell_type": "markdown",
   "metadata": {},
   "source": [
    "#### Zestaw danych C"
   ]
  },
  {
   "cell_type": "code",
   "execution_count": null,
   "metadata": {},
   "outputs": [],
   "source": [
    "scenes, compared_points_2c = print_compare_points(classified_points_2c)\n",
    "plot = Plot(scenes, title=\"Porównanie wyznaczników zestaw danych C - float32\")\n",
    "plot.draw()\n",
    "\n",
    "print_compared_points_table(compared_points_2c, \"Liczba punktów inaczej sklasyfikowanych przez wyznaczniki:\")"
   ]
  },
  {
   "cell_type": "markdown",
   "metadata": {},
   "source": [
    "#### Zestaw danych D"
   ]
  },
  {
   "cell_type": "code",
   "execution_count": null,
   "metadata": {},
   "outputs": [],
   "source": [
    "scenes, compared_points_2d = print_compare_points(classified_points_2d)\n",
    "plot = Plot(scenes, title=\"Porównanie wyznaczników zestaw danych D - float32\")\n",
    "plot.draw()\n",
    "\n",
    "print_compared_points_table(compared_points_2d, \"Liczba punktów inaczej sklasyfikowanych przez wyznaczniki:\")"
   ]
  }
 ],
 "metadata": {
  "kernelspec": {
   "display_name": "Python 3",
   "language": "python",
   "name": "python3"
  },
  "language_info": {
   "codemirror_mode": {
    "name": "ipython",
    "version": 3
   },
   "file_extension": ".py",
   "mimetype": "text/x-python",
   "name": "python",
   "nbconvert_exporter": "python",
   "pygments_lexer": "ipython3",
   "version": "3.11.1 (v3.11.1:a7a450f84a, Dec  6 2022, 15:24:06) [Clang 13.0.0 (clang-1300.0.29.30)]"
  },
  "vscode": {
   "interpreter": {
    "hash": "1a1af0ee75eeea9e2e1ee996c87e7a2b11a0bebd85af04bb136d915cefc0abce"
   }
  }
 },
 "nbformat": 4,
 "nbformat_minor": 1
}
